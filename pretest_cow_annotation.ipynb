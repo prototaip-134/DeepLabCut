{
 "cells": [
  {
   "cell_type": "code",
   "execution_count": 2,
   "id": "72c03454-34b9-40b6-b50c-b99f029639cc",
   "metadata": {},
   "outputs": [
    {
     "name": "stdout",
     "output_type": "stream",
     "text": [
      "Loading DLC 2.3.9...\n"
     ]
    }
   ],
   "source": [
    "import numpy as np\n",
    "import pandas as pd\n",
    "import glob\n",
    "import shutil\n",
    "import os\n",
    "import deeplabcut"
   ]
  },
  {
   "cell_type": "code",
   "execution_count": 3,
   "id": "e18d7a21-8b0a-4b40-9564-b43fd815b7fb",
   "metadata": {},
   "outputs": [
    {
     "name": "stdout",
     "output_type": "stream",
     "text": [
      "This is not an official demo dataset.\n",
      "Loaded, now creating training data...\n",
      "The training dataset is successfully created. Use the function 'train_network' to start training. Happy training!\n"
     ]
    }
   ],
   "source": [
    "# Note that parameters of this project can be seen at: *openfield-Pranav-2018-10-30/config.yaml*\n",
    "path_config_file = os.getcwd() + '/examples/CowBytes-Single-Sadat-2024-06-30/config.yaml'\n",
    "deeplabcut.load_demo_data(path_config_file)"
   ]
  },
  {
   "cell_type": "markdown",
   "id": "87603dc6-63cc-4575-a63c-a8653f7cce6a",
   "metadata": {},
   "source": [
    "## Target Formatting"
   ]
  },
  {
   "cell_type": "code",
   "execution_count": null,
   "id": "77a5d19b-c578-40f1-b1dd-1c1afd201c9c",
   "metadata": {},
   "outputs": [],
   "source": [
    "# Load the .npy file\n",
    "data = np.load('./test1463.npy')\n",
    "\n",
    "# Print the data or use it as needed\n",
    "print(data)"
   ]
  },
  {
   "cell_type": "code",
   "execution_count": null,
   "id": "51fb164f-0b95-48b7-aab2-ed25cd9373ea",
   "metadata": {},
   "outputs": [],
   "source": [
    "data.shape"
   ]
  },
  {
   "cell_type": "code",
   "execution_count": null,
   "id": "a7df92fd-c68c-4eb7-84ac-08d0094cffb8",
   "metadata": {},
   "outputs": [],
   "source": [
    "type(data)"
   ]
  },
  {
   "cell_type": "code",
   "execution_count": null,
   "id": "5b16984e-6dfe-4e18-b627-b3cbe982cc46",
   "metadata": {},
   "outputs": [],
   "source": [
    "# Load the .npy file\n",
    "data = np.load('./ab4a3fa6085cc8998dad48f20cb5a041d97201723db1d665a90a3ee388f4bb6a.npy')\n",
    "\n",
    "# Print the data or use it as needed\n",
    "print(data)"
   ]
  },
  {
   "cell_type": "markdown",
   "id": "4098951b-0534-4135-801c-bdefad1e65a9",
   "metadata": {},
   "source": [
    "## PreTest"
   ]
  },
  {
   "cell_type": "code",
   "execution_count": null,
   "id": "a6454da7-0a6d-44d0-8b1f-3db35b1377f9",
   "metadata": {},
   "outputs": [],
   "source": [
    "valid_csv = '/home/sadat/Desktop/PoseRAC/RepCount_pose/annotation/valid.csv'"
   ]
  },
  {
   "cell_type": "code",
   "execution_count": null,
   "id": "46874ba5-1f4c-4ce0-ba8f-7d131ad3bb54",
   "metadata": {},
   "outputs": [],
   "source": [
    "valid_df = pd.read_csv(valid_csv)"
   ]
  },
  {
   "cell_type": "code",
   "execution_count": null,
   "id": "213659bd-b60b-42ab-83ac-cddadba25172",
   "metadata": {},
   "outputs": [],
   "source": [
    "valid_df"
   ]
  },
  {
   "cell_type": "code",
   "execution_count": null,
   "id": "d294c3d4-6975-4045-8518-e10697046dc2",
   "metadata": {},
   "outputs": [],
   "source": [
    "video_name = valid_df['name'][0]\n",
    "video_name"
   ]
  },
  {
   "cell_type": "code",
   "execution_count": null,
   "id": "e695b968-9a91-441c-b2a1-aa444cae32fa",
   "metadata": {},
   "outputs": [],
   "source": [
    "source = os.path.join('/home/sadat/Desktop/PoseRAC/RepCount_pose/video/train', video_name)\n",
    "destination = '/home/sadat/Desktop/PoseRAC/RepCount_pose/video/test'"
   ]
  },
  {
   "cell_type": "code",
   "execution_count": null,
   "id": "2bbbb52b-7a7a-4b5c-a3c6-d800ca152bd1",
   "metadata": {},
   "outputs": [],
   "source": [
    "shutil.copy(source, destination)"
   ]
  },
  {
   "cell_type": "code",
   "execution_count": null,
   "id": "bc91b55b-d18a-4b9c-acdd-f0066c41e7e9",
   "metadata": {},
   "outputs": [],
   "source": [
    "deeplabcut.analyze_videos(path_config_file,['/home/sadat/Desktop/PoseRAC/RepCount_pose/video/test'],save_as_csv=True)"
   ]
  },
  {
   "cell_type": "code",
   "execution_count": null,
   "id": "37ea880f-6615-4b66-be76-4997786b81ac",
   "metadata": {},
   "outputs": [],
   "source": [
    "# Read csv file and process it\n",
    "csv_files = glob.glob(os.path.join(destination, '*.csv'))\n",
    "csv_files"
   ]
  },
  {
   "cell_type": "code",
   "execution_count": null,
   "id": "5d3c97e7-1c6e-4641-bc33-7286c29b35f4",
   "metadata": {},
   "outputs": [],
   "source": [
    "x = '/home/sadat/Desktop/PoseRAC/RepCount_pose/video/test/0baf219dc65f856d93429bfcaf5c6d9a1f2a8e813cc452f01f4819d32baca3d5DLC_resnet50_CowBytes-SingleJun30shuffle1_645000.csv'"
   ]
  },
  {
   "cell_type": "code",
   "execution_count": null,
   "id": "e8e71687-587a-4f94-9bcf-67adefb0fd4d",
   "metadata": {},
   "outputs": [],
   "source": [
    "# Extract the base name (file name with extension)\n",
    "file_name_with_ext = os.path.basename(x)\n",
    "\n",
    "# Remove the file extension\n",
    "video_name = file_name_with_ext.split('DLC')[0]\n",
    "video_name"
   ]
  },
  {
   "cell_type": "markdown",
   "id": "c7a1fdc6-15cf-4bbe-be42-f149f73f174c",
   "metadata": {},
   "source": [
    "## Process the csv files"
   ]
  },
  {
   "cell_type": "code",
   "execution_count": null,
   "id": "27c2a631-7db7-4950-800f-3efb342ddcbe",
   "metadata": {},
   "outputs": [],
   "source": [
    "csv_file = csv_files[0]"
   ]
  },
  {
   "cell_type": "code",
   "execution_count": null,
   "id": "8acabe17-94f6-4fb6-bc8b-149482c36a3d",
   "metadata": {},
   "outputs": [],
   "source": [
    "df = pd.read_csv(csv_file)\n",
    "df.head()"
   ]
  },
  {
   "cell_type": "code",
   "execution_count": null,
   "id": "bec6fcc0-1ad0-41d7-8213-edd3674b4121",
   "metadata": {},
   "outputs": [],
   "source": [
    "# Dropping the first two rows\n",
    "df = df.drop([0, 1]).reset_index(drop=True)\n",
    "\n",
    "# Add 9 empty columns\n",
    "for i in range(18):\n",
    "    df[f'empty_col_{i+1}'] = 0\n",
    "\n",
    "# Drop the first column\n",
    "df.drop(['scorer'], axis=1, inplace=True)"
   ]
  },
  {
   "cell_type": "code",
   "execution_count": null,
   "id": "c1cf49d6-ca58-4bc4-af46-608daab4d05f",
   "metadata": {},
   "outputs": [],
   "source": [
    "df"
   ]
  },
  {
   "cell_type": "code",
   "execution_count": null,
   "id": "5a5cf7fb-e62e-4657-91dd-351a7543d2c9",
   "metadata": {},
   "outputs": [],
   "source": [
    "test_poses_path = '/home/sadat/Desktop/PoseRAC/RepCount_pose/test_poses'\n",
    "os.makedirs(test_poses_path, exist_ok=True)"
   ]
  },
  {
   "cell_type": "code",
   "execution_count": null,
   "id": "6fea924e-4a1d-4636-b016-bc82ce53fc26",
   "metadata": {},
   "outputs": [],
   "source": [
    "np_array = df.to_numpy(dtype=float)"
   ]
  },
  {
   "cell_type": "code",
   "execution_count": null,
   "id": "28519c52-0639-4d3d-83c7-8a7ba2a9709e",
   "metadata": {},
   "outputs": [],
   "source": [
    "np.save(os.path.join(test_poses_path, video_name.split('.')[0]), np_array)"
   ]
  },
  {
   "cell_type": "markdown",
   "id": "e39c9fa4-9fc9-4c03-9a4f-8cfbbf2a8e9a",
   "metadata": {},
   "source": [
    "## Delete all temp files"
   ]
  },
  {
   "cell_type": "code",
   "execution_count": null,
   "id": "7e3f66db-a0e4-4de9-9a70-77d680790f26",
   "metadata": {},
   "outputs": [],
   "source": [
    "# Delete any temp files\n",
    "all_files = glob.glob(os.path.join(destination, '*'))\n",
    "\n",
    "# Filter out files that are not JPG\n",
    "non_mp4_files = [f for f in all_files if not f.lower().endswith('.mp4')]\n",
    "\n",
    "# Delete non-JPG files\n",
    "for file in non_mp4_files:\n",
    "    try:\n",
    "        os.remove(file)\n",
    "        print(f\"Deleted: {file}\")\n",
    "    except Exception as e:\n",
    "        print(f\"Error deleting {file}: {e}\")"
   ]
  },
  {
   "cell_type": "markdown",
   "id": "af745484-cc50-451c-8a29-af5f481bc03c",
   "metadata": {},
   "source": [
    "## Putting everything together"
   ]
  },
  {
   "cell_type": "code",
   "execution_count": 4,
   "id": "97ef41de-73f2-48e0-ac9e-ad27a83dd6c4",
   "metadata": {},
   "outputs": [],
   "source": [
    "# valid_csv = '/home/sadat/Desktop/PoseRAC/CowBytes_pose/annotation/valid.csv'\n",
    "# destination = '/home/sadat/Desktop/PoseRAC/CowBytes_pose/video/test'\n",
    "\n",
    "valid_csv = '/home/sadat/Desktop/BiteCount-A/annotations/cow_bite_links_1407_clipped.csv'\n",
    "destination = '/home/sadat/Desktop/PoseRAC/CowBytes_pose/video/test'\n",
    "\n",
    "valid_df = pd.read_csv(valid_csv)\n",
    "\n",
    "test_poses_path = '/home/sadat/Desktop/PoseRAC/CowBytes_pose/test_poses'\n",
    "os.makedirs(test_poses_path, exist_ok=True)"
   ]
  },
  {
   "cell_type": "code",
   "execution_count": 5,
   "id": "6ffa65b9-0175-4a2a-8e02-963d86e7733f",
   "metadata": {},
   "outputs": [],
   "source": [
    "for video_name in valid_df['name']:\n",
    "    source = os.path.join('/home/sadat/Desktop/PoseRAC/CowBytes_pose/video/train', video_name)\n",
    "    shutil.copy(source, destination)"
   ]
  },
  {
   "cell_type": "code",
   "execution_count": 6,
   "id": "ff577c60-bae8-4395-8783-8609f0c8ba8f",
   "metadata": {
    "scrolled": true
   },
   "outputs": [
    {
     "name": "stdout",
     "output_type": "stream",
     "text": [
      "Using snapshot-645000 for model /home/sadat/Desktop/DeepLabCut/examples/CowBytes-Single-Sadat-2024-06-30/dlc-models/iteration-0/CowBytes-SingleJun30-trainset95shuffle1\n"
     ]
    },
    {
     "name": "stderr",
     "output_type": "stream",
     "text": [
      "/home/sadat/miniconda3/envs/deeplabcut/lib/python3.8/site-packages/tensorflow/python/keras/engine/base_layer_v1.py:1694: UserWarning: `layer.apply` is deprecated and will be removed in a future version. Please use `layer.__call__` method instead.\n",
      "  warnings.warn('`layer.apply` is deprecated and '\n",
      "2024-08-13 11:41:16.526369: I tensorflow/stream_executor/cuda/cuda_gpu_executor.cc:975] successful NUMA node read from SysFS had negative value (-1), but there must be at least one NUMA node, so returning NUMA node zero\n",
      "2024-08-13 11:41:16.530686: I tensorflow/stream_executor/cuda/cuda_gpu_executor.cc:975] successful NUMA node read from SysFS had negative value (-1), but there must be at least one NUMA node, so returning NUMA node zero\n",
      "2024-08-13 11:41:16.530880: I tensorflow/stream_executor/cuda/cuda_gpu_executor.cc:975] successful NUMA node read from SysFS had negative value (-1), but there must be at least one NUMA node, so returning NUMA node zero\n",
      "2024-08-13 11:41:16.531148: I tensorflow/core/platform/cpu_feature_guard.cc:193] This TensorFlow binary is optimized with oneAPI Deep Neural Network Library (oneDNN) to use the following CPU instructions in performance-critical operations:  AVX2 FMA\n",
      "To enable them in other operations, rebuild TensorFlow with the appropriate compiler flags.\n",
      "2024-08-13 11:41:16.532478: I tensorflow/stream_executor/cuda/cuda_gpu_executor.cc:975] successful NUMA node read from SysFS had negative value (-1), but there must be at least one NUMA node, so returning NUMA node zero\n",
      "2024-08-13 11:41:16.532661: I tensorflow/stream_executor/cuda/cuda_gpu_executor.cc:975] successful NUMA node read from SysFS had negative value (-1), but there must be at least one NUMA node, so returning NUMA node zero\n",
      "2024-08-13 11:41:16.532826: I tensorflow/stream_executor/cuda/cuda_gpu_executor.cc:975] successful NUMA node read from SysFS had negative value (-1), but there must be at least one NUMA node, so returning NUMA node zero\n",
      "2024-08-13 11:41:16.928079: I tensorflow/stream_executor/cuda/cuda_gpu_executor.cc:975] successful NUMA node read from SysFS had negative value (-1), but there must be at least one NUMA node, so returning NUMA node zero\n",
      "2024-08-13 11:41:16.928295: I tensorflow/stream_executor/cuda/cuda_gpu_executor.cc:975] successful NUMA node read from SysFS had negative value (-1), but there must be at least one NUMA node, so returning NUMA node zero\n",
      "2024-08-13 11:41:16.928468: I tensorflow/stream_executor/cuda/cuda_gpu_executor.cc:975] successful NUMA node read from SysFS had negative value (-1), but there must be at least one NUMA node, so returning NUMA node zero\n",
      "2024-08-13 11:41:16.928604: I tensorflow/core/common_runtime/gpu/gpu_device.cc:1532] Created device /job:localhost/replica:0/task:0/device:GPU:0 with 21573 MB memory:  -> device: 0, name: NVIDIA GeForce RTX 4090, pci bus id: 0000:2b:00.0, compute capability: 8.9\n",
      "2024-08-13 11:41:16.948915: I tensorflow/compiler/mlir/mlir_graph_optimization_pass.cc:354] MLIR V1 optimization pass is not enabled\n"
     ]
    },
    {
     "name": "stdout",
     "output_type": "stream",
     "text": [
      "Analyzing all the videos in the directory...\n",
      "Starting to analyze %  /home/sadat/Desktop/PoseRAC/CowBytes_pose/video/test/2052108669082759e3e4b26bcff213b8a64e09a17d501ccb06bb477b4706323e_1.mp4\n",
      "Loading  /home/sadat/Desktop/PoseRAC/CowBytes_pose/video/test/2052108669082759e3e4b26bcff213b8a64e09a17d501ccb06bb477b4706323e_1.mp4\n",
      "Duration of video [s]:  18.0 , recorded with  24.0 fps!\n",
      "Overall # of frames:  432  found with (before cropping) frame dimensions:  640 360\n",
      "Starting to extract posture\n"
     ]
    },
    {
     "name": "stderr",
     "output_type": "stream",
     "text": [
      "  0%|                                                   | 0/432 [00:00<?, ?it/s]2024-08-13 11:41:18.295997: I tensorflow/stream_executor/cuda/cuda_dnn.cc:384] Loaded cuDNN version 8100\n",
      "2024-08-13 11:41:18.861520: W tensorflow/stream_executor/gpu/asm_compiler.cc:230] Falling back to the CUDA driver for PTX compilation; ptxas does not support CC 8.9\n",
      "2024-08-13 11:41:18.861538: W tensorflow/stream_executor/gpu/asm_compiler.cc:233] Used ptxas at ptxas\n",
      "2024-08-13 11:41:18.861589: W tensorflow/stream_executor/gpu/redzone_allocator.cc:314] UNIMPLEMENTED: ptxas ptxas too old. Falling back to the driver to compile.\n",
      "Relying on driver to perform ptx compilation. \n",
      "Modify $PATH to customize ptxas location.\n",
      "This message will be only logged once.\n",
      "100%|████████████████████████████████████████| 432/432 [00:03<00:00, 108.51it/s]\n"
     ]
    },
    {
     "name": "stdout",
     "output_type": "stream",
     "text": [
      "Saving results in /home/sadat/Desktop/PoseRAC/CowBytes_pose/video/test...\n",
      "Saving csv poses!\n",
      "Starting to analyze %  /home/sadat/Desktop/PoseRAC/CowBytes_pose/video/test/4a639247a4b687c6ae226f986414241864b4174f8e30190b62ad4821e5c3f875_2.mp4\n",
      "Loading  /home/sadat/Desktop/PoseRAC/CowBytes_pose/video/test/4a639247a4b687c6ae226f986414241864b4174f8e30190b62ad4821e5c3f875_2.mp4\n",
      "Duration of video [s]:  20.5 , recorded with  24.0 fps!\n",
      "Overall # of frames:  492  found with (before cropping) frame dimensions:  640 360\n",
      "Starting to extract posture\n"
     ]
    },
    {
     "name": "stderr",
     "output_type": "stream",
     "text": [
      "100%|████████████████████████████████████████| 492/492 [00:01<00:00, 274.41it/s]\n"
     ]
    },
    {
     "name": "stdout",
     "output_type": "stream",
     "text": [
      "Saving results in /home/sadat/Desktop/PoseRAC/CowBytes_pose/video/test...\n",
      "Saving csv poses!\n",
      "Starting to analyze %  /home/sadat/Desktop/PoseRAC/CowBytes_pose/video/test/ed504fc41cd8eebaf15e43dd858dab5aaadcec172a4773f903e6dfcf8791b38e_1.mp4\n",
      "Loading  /home/sadat/Desktop/PoseRAC/CowBytes_pose/video/test/ed504fc41cd8eebaf15e43dd858dab5aaadcec172a4773f903e6dfcf8791b38e_1.mp4\n",
      "Duration of video [s]:  5.0 , recorded with  24.0 fps!\n",
      "Overall # of frames:  120  found with (before cropping) frame dimensions:  640 360\n",
      "Starting to extract posture\n"
     ]
    },
    {
     "name": "stderr",
     "output_type": "stream",
     "text": [
      "100%|████████████████████████████████████████| 120/120 [00:00<00:00, 206.31it/s]\n"
     ]
    },
    {
     "name": "stdout",
     "output_type": "stream",
     "text": [
      "Saving results in /home/sadat/Desktop/PoseRAC/CowBytes_pose/video/test...\n",
      "Saving csv poses!\n",
      "Starting to analyze %  /home/sadat/Desktop/PoseRAC/CowBytes_pose/video/test/e151c20b878c4425ce832d2f5120a218f4e31b765ec2a352130a5a877fddd041_1.mp4\n",
      "Loading  /home/sadat/Desktop/PoseRAC/CowBytes_pose/video/test/e151c20b878c4425ce832d2f5120a218f4e31b765ec2a352130a5a877fddd041_1.mp4\n",
      "Duration of video [s]:  17.54 , recorded with  24.0 fps!\n",
      "Overall # of frames:  421  found with (before cropping) frame dimensions:  640 360\n",
      "Starting to extract posture\n"
     ]
    },
    {
     "name": "stderr",
     "output_type": "stream",
     "text": [
      "100%|████████████████████████████████████████| 421/421 [00:01<00:00, 266.05it/s]\n"
     ]
    },
    {
     "name": "stdout",
     "output_type": "stream",
     "text": [
      "Saving results in /home/sadat/Desktop/PoseRAC/CowBytes_pose/video/test...\n",
      "Saving csv poses!\n",
      "Starting to analyze %  /home/sadat/Desktop/PoseRAC/CowBytes_pose/video/test/756025eb6d43d923f9f175cb27e2a31cc0412c31de9278f6af8a7dccc225841a_1.mp4\n",
      "Loading  /home/sadat/Desktop/PoseRAC/CowBytes_pose/video/test/756025eb6d43d923f9f175cb27e2a31cc0412c31de9278f6af8a7dccc225841a_1.mp4\n",
      "Duration of video [s]:  13.75 , recorded with  24.0 fps!\n",
      "Overall # of frames:  330  found with (before cropping) frame dimensions:  640 360\n",
      "Starting to extract posture\n"
     ]
    },
    {
     "name": "stderr",
     "output_type": "stream",
     "text": [
      "100%|████████████████████████████████████████| 330/330 [00:01<00:00, 253.67it/s]\n"
     ]
    },
    {
     "name": "stdout",
     "output_type": "stream",
     "text": [
      "Saving results in /home/sadat/Desktop/PoseRAC/CowBytes_pose/video/test...\n",
      "Saving csv poses!\n",
      "Starting to analyze %  /home/sadat/Desktop/PoseRAC/CowBytes_pose/video/test/0c35d3331b192fbe5af76ea6781f56b3b1d0fe526416ef38b2163e163e2d5cb0_1.mp4\n",
      "Loading  /home/sadat/Desktop/PoseRAC/CowBytes_pose/video/test/0c35d3331b192fbe5af76ea6781f56b3b1d0fe526416ef38b2163e163e2d5cb0_1.mp4\n",
      "Duration of video [s]:  4.96 , recorded with  24.0 fps!\n",
      "Overall # of frames:  119  found with (before cropping) frame dimensions:  640 360\n",
      "Starting to extract posture\n"
     ]
    },
    {
     "name": "stderr",
     "output_type": "stream",
     "text": [
      "100%|████████████████████████████████████████| 119/119 [00:00<00:00, 193.63it/s]\n"
     ]
    },
    {
     "name": "stdout",
     "output_type": "stream",
     "text": [
      "Saving results in /home/sadat/Desktop/PoseRAC/CowBytes_pose/video/test...\n",
      "Saving csv poses!\n",
      "Starting to analyze %  /home/sadat/Desktop/PoseRAC/CowBytes_pose/video/test/f53de12a897705fdec98d52bd3cc1d67ef9293a28f33e765569ca89a7dca1f8b_1.mp4\n",
      "Loading  /home/sadat/Desktop/PoseRAC/CowBytes_pose/video/test/f53de12a897705fdec98d52bd3cc1d67ef9293a28f33e765569ca89a7dca1f8b_1.mp4\n",
      "Duration of video [s]:  6.46 , recorded with  24.0 fps!\n",
      "Overall # of frames:  155  found with (before cropping) frame dimensions:  640 360\n",
      "Starting to extract posture\n"
     ]
    },
    {
     "name": "stderr",
     "output_type": "stream",
     "text": [
      "100%|████████████████████████████████████████| 155/155 [00:00<00:00, 196.96it/s]\n"
     ]
    },
    {
     "name": "stdout",
     "output_type": "stream",
     "text": [
      "Saving results in /home/sadat/Desktop/PoseRAC/CowBytes_pose/video/test...\n",
      "Saving csv poses!\n",
      "Starting to analyze %  /home/sadat/Desktop/PoseRAC/CowBytes_pose/video/test/a84ae1282abc51e5698d2b63472b892cae3ffdabacc66c9bcf1efabdf637b1e5_2.mp4\n",
      "Loading  /home/sadat/Desktop/PoseRAC/CowBytes_pose/video/test/a84ae1282abc51e5698d2b63472b892cae3ffdabacc66c9bcf1efabdf637b1e5_2.mp4\n",
      "Duration of video [s]:  19.58 , recorded with  24.0 fps!\n",
      "Overall # of frames:  470  found with (before cropping) frame dimensions:  640 360\n",
      "Starting to extract posture\n"
     ]
    },
    {
     "name": "stderr",
     "output_type": "stream",
     "text": [
      "100%|████████████████████████████████████████| 470/470 [00:01<00:00, 271.86it/s]\n"
     ]
    },
    {
     "name": "stdout",
     "output_type": "stream",
     "text": [
      "Saving results in /home/sadat/Desktop/PoseRAC/CowBytes_pose/video/test...\n",
      "Saving csv poses!\n",
      "Starting to analyze %  /home/sadat/Desktop/PoseRAC/CowBytes_pose/video/test/37c993d16e39c7a06469d11edce24326323c489f75de5dcd0c73eba86d9eb942_3.mp4\n",
      "Loading  /home/sadat/Desktop/PoseRAC/CowBytes_pose/video/test/37c993d16e39c7a06469d11edce24326323c489f75de5dcd0c73eba86d9eb942_3.mp4\n",
      "Duration of video [s]:  8.4 , recorded with  30.0 fps!\n",
      "Overall # of frames:  252  found with (before cropping) frame dimensions:  640 360\n",
      "Starting to extract posture\n"
     ]
    },
    {
     "name": "stderr",
     "output_type": "stream",
     "text": [
      "100%|████████████████████████████████████████| 252/252 [00:01<00:00, 244.69it/s]\n"
     ]
    },
    {
     "name": "stdout",
     "output_type": "stream",
     "text": [
      "Saving results in /home/sadat/Desktop/PoseRAC/CowBytes_pose/video/test...\n",
      "Saving csv poses!\n",
      "Starting to analyze %  /home/sadat/Desktop/PoseRAC/CowBytes_pose/video/test/747419b046c70c69e41b2857b7af91465dcc0c49e0e91ca96f253da03067dd32_2.mp4\n",
      "Loading  /home/sadat/Desktop/PoseRAC/CowBytes_pose/video/test/747419b046c70c69e41b2857b7af91465dcc0c49e0e91ca96f253da03067dd32_2.mp4\n",
      "Duration of video [s]:  17.58 , recorded with  24.0 fps!\n",
      "Overall # of frames:  422  found with (before cropping) frame dimensions:  640 360\n",
      "Starting to extract posture\n"
     ]
    },
    {
     "name": "stderr",
     "output_type": "stream",
     "text": [
      "100%|████████████████████████████████████████| 422/422 [00:01<00:00, 264.86it/s]\n"
     ]
    },
    {
     "name": "stdout",
     "output_type": "stream",
     "text": [
      "Saving results in /home/sadat/Desktop/PoseRAC/CowBytes_pose/video/test...\n",
      "Saving csv poses!\n",
      "Starting to analyze %  /home/sadat/Desktop/PoseRAC/CowBytes_pose/video/test/a84ae1282abc51e5698d2b63472b892cae3ffdabacc66c9bcf1efabdf637b1e5_1.mp4\n",
      "Loading  /home/sadat/Desktop/PoseRAC/CowBytes_pose/video/test/a84ae1282abc51e5698d2b63472b892cae3ffdabacc66c9bcf1efabdf637b1e5_1.mp4\n",
      "Duration of video [s]:  13.08 , recorded with  24.0 fps!\n",
      "Overall # of frames:  314  found with (before cropping) frame dimensions:  640 360\n",
      "Starting to extract posture\n"
     ]
    },
    {
     "name": "stderr",
     "output_type": "stream",
     "text": [
      "100%|████████████████████████████████████████| 314/314 [00:01<00:00, 243.41it/s]\n"
     ]
    },
    {
     "name": "stdout",
     "output_type": "stream",
     "text": [
      "Saving results in /home/sadat/Desktop/PoseRAC/CowBytes_pose/video/test...\n",
      "Saving csv poses!\n",
      "Starting to analyze %  /home/sadat/Desktop/PoseRAC/CowBytes_pose/video/test/8f609871c33a11835defd4b9a79a6b30ee4f311d86cc4f513f94515c2cf81126_1.mp4\n",
      "Loading  /home/sadat/Desktop/PoseRAC/CowBytes_pose/video/test/8f609871c33a11835defd4b9a79a6b30ee4f311d86cc4f513f94515c2cf81126_1.mp4\n",
      "Duration of video [s]:  22.17 , recorded with  24.0 fps!\n",
      "Overall # of frames:  532  found with (before cropping) frame dimensions:  640 360\n",
      "Starting to extract posture\n"
     ]
    },
    {
     "name": "stderr",
     "output_type": "stream",
     "text": [
      "100%|████████████████████████████████████████| 532/532 [00:01<00:00, 266.31it/s]\n"
     ]
    },
    {
     "name": "stdout",
     "output_type": "stream",
     "text": [
      "Saving results in /home/sadat/Desktop/PoseRAC/CowBytes_pose/video/test...\n",
      "Saving csv poses!\n",
      "Starting to analyze %  /home/sadat/Desktop/PoseRAC/CowBytes_pose/video/test/4ff8a74c52c529eceb817a1d89e76a3ae053583c2abc491ecacbe560484b2e7e_3.mp4\n",
      "Loading  /home/sadat/Desktop/PoseRAC/CowBytes_pose/video/test/4ff8a74c52c529eceb817a1d89e76a3ae053583c2abc491ecacbe560484b2e7e_3.mp4\n",
      "Duration of video [s]:  11.0 , recorded with  24.0 fps!\n",
      "Overall # of frames:  264  found with (before cropping) frame dimensions:  640 360\n",
      "Starting to extract posture\n"
     ]
    },
    {
     "name": "stderr",
     "output_type": "stream",
     "text": [
      "100%|████████████████████████████████████████| 264/264 [00:01<00:00, 245.66it/s]\n"
     ]
    },
    {
     "name": "stdout",
     "output_type": "stream",
     "text": [
      "Saving results in /home/sadat/Desktop/PoseRAC/CowBytes_pose/video/test...\n",
      "Saving csv poses!\n",
      "Starting to analyze %  /home/sadat/Desktop/PoseRAC/CowBytes_pose/video/test/3c86acfbc4289cc6d83adc3268a97e3eb2ecf1316d731b487627190a1e4ac88f_1.mp4\n",
      "Loading  /home/sadat/Desktop/PoseRAC/CowBytes_pose/video/test/3c86acfbc4289cc6d83adc3268a97e3eb2ecf1316d731b487627190a1e4ac88f_1.mp4\n",
      "Duration of video [s]:  15.92 , recorded with  24.0 fps!\n",
      "Overall # of frames:  382  found with (before cropping) frame dimensions:  640 360\n",
      "Starting to extract posture\n"
     ]
    },
    {
     "name": "stderr",
     "output_type": "stream",
     "text": [
      "100%|████████████████████████████████████████| 382/382 [00:01<00:00, 262.44it/s]\n"
     ]
    },
    {
     "name": "stdout",
     "output_type": "stream",
     "text": [
      "Saving results in /home/sadat/Desktop/PoseRAC/CowBytes_pose/video/test...\n",
      "Saving csv poses!\n",
      "Starting to analyze %  /home/sadat/Desktop/PoseRAC/CowBytes_pose/video/test/4fc0428ba0f9882718fb5d7e4196369d2af69c153d42de9717a25a3919782d80_2.mp4\n",
      "Loading  /home/sadat/Desktop/PoseRAC/CowBytes_pose/video/test/4fc0428ba0f9882718fb5d7e4196369d2af69c153d42de9717a25a3919782d80_2.mp4\n",
      "Duration of video [s]:  26.5 , recorded with  24.0 fps!\n",
      "Overall # of frames:  636  found with (before cropping) frame dimensions:  640 360\n",
      "Starting to extract posture\n"
     ]
    },
    {
     "name": "stderr",
     "output_type": "stream",
     "text": [
      "100%|████████████████████████████████████████| 636/636 [00:02<00:00, 273.69it/s]\n"
     ]
    },
    {
     "name": "stdout",
     "output_type": "stream",
     "text": [
      "Saving results in /home/sadat/Desktop/PoseRAC/CowBytes_pose/video/test...\n",
      "Saving csv poses!\n",
      "Starting to analyze %  /home/sadat/Desktop/PoseRAC/CowBytes_pose/video/test/95040dc15ce9ada82353103a13d1b395c937a9ea6747159f631bfa492b98373f_3.mp4\n",
      "Loading  /home/sadat/Desktop/PoseRAC/CowBytes_pose/video/test/95040dc15ce9ada82353103a13d1b395c937a9ea6747159f631bfa492b98373f_3.mp4\n",
      "Duration of video [s]:  11.25 , recorded with  24.0 fps!\n",
      "Overall # of frames:  270  found with (before cropping) frame dimensions:  640 360\n",
      "Starting to extract posture\n"
     ]
    },
    {
     "name": "stderr",
     "output_type": "stream",
     "text": [
      "100%|████████████████████████████████████████| 270/270 [00:01<00:00, 246.31it/s]\n"
     ]
    },
    {
     "name": "stdout",
     "output_type": "stream",
     "text": [
      "Saving results in /home/sadat/Desktop/PoseRAC/CowBytes_pose/video/test...\n",
      "Saving csv poses!\n",
      "Starting to analyze %  /home/sadat/Desktop/PoseRAC/CowBytes_pose/video/test/d40739c2aa4b801a2eda2bbb8a554a6ff85e3fc331b719fb52af72bf43224086_2.mp4\n",
      "Loading  /home/sadat/Desktop/PoseRAC/CowBytes_pose/video/test/d40739c2aa4b801a2eda2bbb8a554a6ff85e3fc331b719fb52af72bf43224086_2.mp4\n",
      "Duration of video [s]:  21.74 , recorded with  14.9 fps!\n",
      "Overall # of frames:  324  found with (before cropping) frame dimensions:  640 360\n",
      "Starting to extract posture\n"
     ]
    },
    {
     "name": "stderr",
     "output_type": "stream",
     "text": [
      "100%|████████████████████████████████████████| 324/324 [00:01<00:00, 250.42it/s]\n"
     ]
    },
    {
     "name": "stdout",
     "output_type": "stream",
     "text": [
      "Saving results in /home/sadat/Desktop/PoseRAC/CowBytes_pose/video/test...\n",
      "Saving csv poses!\n",
      "Starting to analyze %  /home/sadat/Desktop/PoseRAC/CowBytes_pose/video/test/692f8f48cf19ed491f3cf69d8eeef1f7effe01ddf3126a68e20f80070cde51ea_1.mp4\n",
      "Loading  /home/sadat/Desktop/PoseRAC/CowBytes_pose/video/test/692f8f48cf19ed491f3cf69d8eeef1f7effe01ddf3126a68e20f80070cde51ea_1.mp4\n",
      "Duration of video [s]:  18.8 , recorded with  25.0 fps!\n",
      "Overall # of frames:  470  found with (before cropping) frame dimensions:  640 360\n",
      "Starting to extract posture\n"
     ]
    },
    {
     "name": "stderr",
     "output_type": "stream",
     "text": [
      "100%|████████████████████████████████████████| 470/470 [00:01<00:00, 262.51it/s]\n"
     ]
    },
    {
     "name": "stdout",
     "output_type": "stream",
     "text": [
      "Saving results in /home/sadat/Desktop/PoseRAC/CowBytes_pose/video/test...\n",
      "Saving csv poses!\n",
      "Starting to analyze %  /home/sadat/Desktop/PoseRAC/CowBytes_pose/video/test/cd4bc06caf8ea3015a8af0deaace4d3747268f55194cad3992097a5f6dc82b6c_1.mp4\n",
      "Loading  /home/sadat/Desktop/PoseRAC/CowBytes_pose/video/test/cd4bc06caf8ea3015a8af0deaace4d3747268f55194cad3992097a5f6dc82b6c_1.mp4\n",
      "Duration of video [s]:  15.42 , recorded with  24.0 fps!\n",
      "Overall # of frames:  370  found with (before cropping) frame dimensions:  640 360\n",
      "Starting to extract posture\n"
     ]
    },
    {
     "name": "stderr",
     "output_type": "stream",
     "text": [
      "100%|████████████████████████████████████████| 370/370 [00:01<00:00, 256.29it/s]\n"
     ]
    },
    {
     "name": "stdout",
     "output_type": "stream",
     "text": [
      "Saving results in /home/sadat/Desktop/PoseRAC/CowBytes_pose/video/test...\n",
      "Saving csv poses!\n",
      "Starting to analyze %  /home/sadat/Desktop/PoseRAC/CowBytes_pose/video/test/14ac6845ecc16c132aa2ecc75f5619c36d603e5f5e9021a3502fabde86a4363f_3.mp4\n",
      "Loading  /home/sadat/Desktop/PoseRAC/CowBytes_pose/video/test/14ac6845ecc16c132aa2ecc75f5619c36d603e5f5e9021a3502fabde86a4363f_3.mp4\n",
      "Duration of video [s]:  9.33 , recorded with  15.0 fps!\n",
      "Overall # of frames:  140  found with (before cropping) frame dimensions:  640 360\n",
      "Starting to extract posture\n"
     ]
    },
    {
     "name": "stderr",
     "output_type": "stream",
     "text": [
      "100%|████████████████████████████████████████| 140/140 [00:00<00:00, 207.70it/s]\n"
     ]
    },
    {
     "name": "stdout",
     "output_type": "stream",
     "text": [
      "Saving results in /home/sadat/Desktop/PoseRAC/CowBytes_pose/video/test...\n",
      "Saving csv poses!\n",
      "Starting to analyze %  /home/sadat/Desktop/PoseRAC/CowBytes_pose/video/test/884d5cc9ca1caa87c9638e04e2c96996d4ed373050e94e8ea4956a8213b8dd67_1.mp4\n",
      "Loading  /home/sadat/Desktop/PoseRAC/CowBytes_pose/video/test/884d5cc9ca1caa87c9638e04e2c96996d4ed373050e94e8ea4956a8213b8dd67_1.mp4\n",
      "Duration of video [s]:  12.84 , recorded with  25.0 fps!\n",
      "Overall # of frames:  321  found with (before cropping) frame dimensions:  640 360\n",
      "Starting to extract posture\n"
     ]
    },
    {
     "name": "stderr",
     "output_type": "stream",
     "text": [
      "100%|████████████████████████████████████████| 321/321 [00:01<00:00, 249.20it/s]\n"
     ]
    },
    {
     "name": "stdout",
     "output_type": "stream",
     "text": [
      "Saving results in /home/sadat/Desktop/PoseRAC/CowBytes_pose/video/test...\n",
      "Saving csv poses!\n",
      "Starting to analyze %  /home/sadat/Desktop/PoseRAC/CowBytes_pose/video/test/2f4338b600baddf8b021162744427b9faaf7ec28230638ceeffadbfafd86ba44_2.mp4\n",
      "Loading  /home/sadat/Desktop/PoseRAC/CowBytes_pose/video/test/2f4338b600baddf8b021162744427b9faaf7ec28230638ceeffadbfafd86ba44_2.mp4\n",
      "Duration of video [s]:  10.58 , recorded with  24.0 fps!\n",
      "Overall # of frames:  254  found with (before cropping) frame dimensions:  640 360\n",
      "Starting to extract posture\n"
     ]
    },
    {
     "name": "stderr",
     "output_type": "stream",
     "text": [
      "100%|████████████████████████████████████████| 254/254 [00:01<00:00, 245.16it/s]\n"
     ]
    },
    {
     "name": "stdout",
     "output_type": "stream",
     "text": [
      "Saving results in /home/sadat/Desktop/PoseRAC/CowBytes_pose/video/test...\n",
      "Saving csv poses!\n",
      "Starting to analyze %  /home/sadat/Desktop/PoseRAC/CowBytes_pose/video/test/d22ff64fcde2391afb2df7381a24370f7152a727144b9b44ac4d2a82a84dddcc_1.mp4\n",
      "Loading  /home/sadat/Desktop/PoseRAC/CowBytes_pose/video/test/d22ff64fcde2391afb2df7381a24370f7152a727144b9b44ac4d2a82a84dddcc_1.mp4\n",
      "Duration of video [s]:  6.54 , recorded with  24.0 fps!\n",
      "Overall # of frames:  157  found with (before cropping) frame dimensions:  640 360\n",
      "Starting to extract posture\n"
     ]
    },
    {
     "name": "stderr",
     "output_type": "stream",
     "text": [
      "100%|████████████████████████████████████████| 157/157 [00:00<00:00, 218.15it/s]\n"
     ]
    },
    {
     "name": "stdout",
     "output_type": "stream",
     "text": [
      "Saving results in /home/sadat/Desktop/PoseRAC/CowBytes_pose/video/test...\n",
      "Saving csv poses!\n",
      "Starting to analyze %  /home/sadat/Desktop/PoseRAC/CowBytes_pose/video/test/8f609871c33a11835defd4b9a79a6b30ee4f311d86cc4f513f94515c2cf81126_2.mp4\n",
      "Loading  /home/sadat/Desktop/PoseRAC/CowBytes_pose/video/test/8f609871c33a11835defd4b9a79a6b30ee4f311d86cc4f513f94515c2cf81126_2.mp4\n",
      "Duration of video [s]:  9.71 , recorded with  24.0 fps!\n",
      "Overall # of frames:  233  found with (before cropping) frame dimensions:  640 360\n",
      "Starting to extract posture\n"
     ]
    },
    {
     "name": "stderr",
     "output_type": "stream",
     "text": [
      "100%|████████████████████████████████████████| 233/233 [00:00<00:00, 233.59it/s]\n"
     ]
    },
    {
     "name": "stdout",
     "output_type": "stream",
     "text": [
      "Saving results in /home/sadat/Desktop/PoseRAC/CowBytes_pose/video/test...\n",
      "Saving csv poses!\n",
      "Starting to analyze %  /home/sadat/Desktop/PoseRAC/CowBytes_pose/video/test/9c08225dd12cdfdfbdc00043de3d390c275458ebe07d07114df2fedb056f4e08_1.mp4\n",
      "Loading  /home/sadat/Desktop/PoseRAC/CowBytes_pose/video/test/9c08225dd12cdfdfbdc00043de3d390c275458ebe07d07114df2fedb056f4e08_1.mp4\n",
      "Duration of video [s]:  3.0 , recorded with  24.0 fps!\n",
      "Overall # of frames:  72  found with (before cropping) frame dimensions:  640 360\n",
      "Starting to extract posture\n"
     ]
    },
    {
     "name": "stderr",
     "output_type": "stream",
     "text": [
      "100%|██████████████████████████████████████████| 72/72 [00:00<00:00, 160.39it/s]\n"
     ]
    },
    {
     "name": "stdout",
     "output_type": "stream",
     "text": [
      "Saving results in /home/sadat/Desktop/PoseRAC/CowBytes_pose/video/test...\n",
      "Saving csv poses!\n",
      "Starting to analyze %  /home/sadat/Desktop/PoseRAC/CowBytes_pose/video/test/46e9cc048a75d3c6404323ffa5ff8668c6b96a1640c61a52ec1155ef8b13d8bc_2.mp4\n",
      "Loading  /home/sadat/Desktop/PoseRAC/CowBytes_pose/video/test/46e9cc048a75d3c6404323ffa5ff8668c6b96a1640c61a52ec1155ef8b13d8bc_2.mp4\n",
      "Duration of video [s]:  7.58 , recorded with  24.0 fps!\n",
      "Overall # of frames:  182  found with (before cropping) frame dimensions:  640 360\n",
      "Starting to extract posture\n"
     ]
    },
    {
     "name": "stderr",
     "output_type": "stream",
     "text": [
      "100%|████████████████████████████████████████| 182/182 [00:00<00:00, 222.45it/s]\n"
     ]
    },
    {
     "name": "stdout",
     "output_type": "stream",
     "text": [
      "Saving results in /home/sadat/Desktop/PoseRAC/CowBytes_pose/video/test...\n",
      "Saving csv poses!\n",
      "Starting to analyze %  /home/sadat/Desktop/PoseRAC/CowBytes_pose/video/test/0739b5b782dcfd787ebd280dbe01b1118380b41a717750235d98e6d4a15165c6_1.mp4\n",
      "Loading  /home/sadat/Desktop/PoseRAC/CowBytes_pose/video/test/0739b5b782dcfd787ebd280dbe01b1118380b41a717750235d98e6d4a15165c6_1.mp4\n",
      "Duration of video [s]:  20.0 , recorded with  24.0 fps!\n",
      "Overall # of frames:  480  found with (before cropping) frame dimensions:  640 360\n",
      "Starting to extract posture\n"
     ]
    },
    {
     "name": "stderr",
     "output_type": "stream",
     "text": [
      "100%|████████████████████████████████████████| 480/480 [00:01<00:00, 274.74it/s]\n"
     ]
    },
    {
     "name": "stdout",
     "output_type": "stream",
     "text": [
      "Saving results in /home/sadat/Desktop/PoseRAC/CowBytes_pose/video/test...\n",
      "Saving csv poses!\n",
      "Starting to analyze %  /home/sadat/Desktop/PoseRAC/CowBytes_pose/video/test/3c86acfbc4289cc6d83adc3268a97e3eb2ecf1316d731b487627190a1e4ac88f_2.mp4\n",
      "Loading  /home/sadat/Desktop/PoseRAC/CowBytes_pose/video/test/3c86acfbc4289cc6d83adc3268a97e3eb2ecf1316d731b487627190a1e4ac88f_2.mp4\n",
      "Duration of video [s]:  19.54 , recorded with  24.0 fps!\n",
      "Overall # of frames:  469  found with (before cropping) frame dimensions:  640 360\n",
      "Starting to extract posture\n"
     ]
    },
    {
     "name": "stderr",
     "output_type": "stream",
     "text": [
      "100%|████████████████████████████████████████| 469/469 [00:01<00:00, 266.54it/s]\n"
     ]
    },
    {
     "name": "stdout",
     "output_type": "stream",
     "text": [
      "Saving results in /home/sadat/Desktop/PoseRAC/CowBytes_pose/video/test...\n",
      "Saving csv poses!\n",
      "Starting to analyze %  /home/sadat/Desktop/PoseRAC/CowBytes_pose/video/test/85ff8081163fa72a539d5215af9e01f86a078178bd0b2f4b93c71ba033ab456a_3.mp4\n",
      "Loading  /home/sadat/Desktop/PoseRAC/CowBytes_pose/video/test/85ff8081163fa72a539d5215af9e01f86a078178bd0b2f4b93c71ba033ab456a_3.mp4\n",
      "Duration of video [s]:  17.58 , recorded with  24.0 fps!\n",
      "Overall # of frames:  422  found with (before cropping) frame dimensions:  640 360\n",
      "Starting to extract posture\n"
     ]
    },
    {
     "name": "stderr",
     "output_type": "stream",
     "text": [
      "100%|████████████████████████████████████████| 422/422 [00:01<00:00, 258.88it/s]\n"
     ]
    },
    {
     "name": "stdout",
     "output_type": "stream",
     "text": [
      "Saving results in /home/sadat/Desktop/PoseRAC/CowBytes_pose/video/test...\n",
      "Saving csv poses!\n",
      "Starting to analyze %  /home/sadat/Desktop/PoseRAC/CowBytes_pose/video/test/14ac6845ecc16c132aa2ecc75f5619c36d603e5f5e9021a3502fabde86a4363f_2.mp4\n",
      "Loading  /home/sadat/Desktop/PoseRAC/CowBytes_pose/video/test/14ac6845ecc16c132aa2ecc75f5619c36d603e5f5e9021a3502fabde86a4363f_2.mp4\n",
      "Duration of video [s]:  21.8 , recorded with  15.0 fps!\n",
      "Overall # of frames:  327  found with (before cropping) frame dimensions:  640 360\n",
      "Starting to extract posture\n"
     ]
    },
    {
     "name": "stderr",
     "output_type": "stream",
     "text": [
      "100%|████████████████████████████████████████| 327/327 [00:01<00:00, 256.08it/s]\n"
     ]
    },
    {
     "name": "stdout",
     "output_type": "stream",
     "text": [
      "Saving results in /home/sadat/Desktop/PoseRAC/CowBytes_pose/video/test...\n",
      "Saving csv poses!\n",
      "Starting to analyze %  /home/sadat/Desktop/PoseRAC/CowBytes_pose/video/test/94cdae122f4e4e40aa8ab7cdee44926435768e88eca067ed71629a073398967e_1.mp4\n",
      "Loading  /home/sadat/Desktop/PoseRAC/CowBytes_pose/video/test/94cdae122f4e4e40aa8ab7cdee44926435768e88eca067ed71629a073398967e_1.mp4\n",
      "Duration of video [s]:  9.0 , recorded with  24.0 fps!\n",
      "Overall # of frames:  216  found with (before cropping) frame dimensions:  640 360\n",
      "Starting to extract posture\n"
     ]
    },
    {
     "name": "stderr",
     "output_type": "stream",
     "text": [
      "100%|████████████████████████████████████████| 216/216 [00:00<00:00, 231.25it/s]\n"
     ]
    },
    {
     "name": "stdout",
     "output_type": "stream",
     "text": [
      "Saving results in /home/sadat/Desktop/PoseRAC/CowBytes_pose/video/test...\n",
      "Saving csv poses!\n",
      "Starting to analyze %  /home/sadat/Desktop/PoseRAC/CowBytes_pose/video/test/4a639247a4b687c6ae226f986414241864b4174f8e30190b62ad4821e5c3f875_3.mp4\n",
      "Loading  /home/sadat/Desktop/PoseRAC/CowBytes_pose/video/test/4a639247a4b687c6ae226f986414241864b4174f8e30190b62ad4821e5c3f875_3.mp4\n",
      "Duration of video [s]:  25.0 , recorded with  24.0 fps!\n",
      "Overall # of frames:  600  found with (before cropping) frame dimensions:  640 360\n",
      "Starting to extract posture\n"
     ]
    },
    {
     "name": "stderr",
     "output_type": "stream",
     "text": [
      "100%|████████████████████████████████████████| 600/600 [00:02<00:00, 279.34it/s]\n"
     ]
    },
    {
     "name": "stdout",
     "output_type": "stream",
     "text": [
      "Saving results in /home/sadat/Desktop/PoseRAC/CowBytes_pose/video/test...\n",
      "Saving csv poses!\n",
      "Starting to analyze %  /home/sadat/Desktop/PoseRAC/CowBytes_pose/video/test/e151c20b878c4425ce832d2f5120a218f4e31b765ec2a352130a5a877fddd041_3.mp4\n",
      "Loading  /home/sadat/Desktop/PoseRAC/CowBytes_pose/video/test/e151c20b878c4425ce832d2f5120a218f4e31b765ec2a352130a5a877fddd041_3.mp4\n",
      "Duration of video [s]:  27.0 , recorded with  24.0 fps!\n",
      "Overall # of frames:  648  found with (before cropping) frame dimensions:  640 360\n",
      "Starting to extract posture\n"
     ]
    },
    {
     "name": "stderr",
     "output_type": "stream",
     "text": [
      "100%|████████████████████████████████████████| 648/648 [00:02<00:00, 260.87it/s]\n"
     ]
    },
    {
     "name": "stdout",
     "output_type": "stream",
     "text": [
      "Saving results in /home/sadat/Desktop/PoseRAC/CowBytes_pose/video/test...\n",
      "Saving csv poses!\n",
      "Starting to analyze %  /home/sadat/Desktop/PoseRAC/CowBytes_pose/video/test/743a064e5f68f7acd214bbf9df289c9d6fa16e4f851e321fdfb8a07b80dde08a_2.mp4\n",
      "Loading  /home/sadat/Desktop/PoseRAC/CowBytes_pose/video/test/743a064e5f68f7acd214bbf9df289c9d6fa16e4f851e321fdfb8a07b80dde08a_2.mp4\n",
      "Duration of video [s]:  11.58 , recorded with  24.0 fps!\n",
      "Overall # of frames:  278  found with (before cropping) frame dimensions:  640 360\n",
      "Starting to extract posture\n"
     ]
    },
    {
     "name": "stderr",
     "output_type": "stream",
     "text": [
      "100%|████████████████████████████████████████| 278/278 [00:01<00:00, 244.62it/s]\n"
     ]
    },
    {
     "name": "stdout",
     "output_type": "stream",
     "text": [
      "Saving results in /home/sadat/Desktop/PoseRAC/CowBytes_pose/video/test...\n",
      "Saving csv poses!\n",
      "Starting to analyze %  /home/sadat/Desktop/PoseRAC/CowBytes_pose/video/test/6f9416bb9789f27385491d3b308c52f2c5a441038301fcb9f5fe4df5a60b0a45_1.mp4\n",
      "Loading  /home/sadat/Desktop/PoseRAC/CowBytes_pose/video/test/6f9416bb9789f27385491d3b308c52f2c5a441038301fcb9f5fe4df5a60b0a45_1.mp4\n",
      "Duration of video [s]:  1.21 , recorded with  24.0 fps!\n",
      "Overall # of frames:  29  found with (before cropping) frame dimensions:  640 360\n",
      "Starting to extract posture\n"
     ]
    },
    {
     "name": "stderr",
     "output_type": "stream",
     "text": [
      "100%|███████████████████████████████████████████| 29/29 [00:00<00:00, 90.51it/s]\n"
     ]
    },
    {
     "name": "stdout",
     "output_type": "stream",
     "text": [
      "Saving results in /home/sadat/Desktop/PoseRAC/CowBytes_pose/video/test...\n",
      "Saving csv poses!\n",
      "Starting to analyze %  /home/sadat/Desktop/PoseRAC/CowBytes_pose/video/test/2052108669082759e3e4b26bcff213b8a64e09a17d501ccb06bb477b4706323e_2.mp4\n",
      "Loading  /home/sadat/Desktop/PoseRAC/CowBytes_pose/video/test/2052108669082759e3e4b26bcff213b8a64e09a17d501ccb06bb477b4706323e_2.mp4\n",
      "Duration of video [s]:  14.58 , recorded with  24.0 fps!\n",
      "Overall # of frames:  350  found with (before cropping) frame dimensions:  640 360\n",
      "Starting to extract posture\n"
     ]
    },
    {
     "name": "stderr",
     "output_type": "stream",
     "text": [
      "100%|████████████████████████████████████████| 350/350 [00:01<00:00, 253.67it/s]\n"
     ]
    },
    {
     "name": "stdout",
     "output_type": "stream",
     "text": [
      "Saving results in /home/sadat/Desktop/PoseRAC/CowBytes_pose/video/test...\n",
      "Saving csv poses!\n",
      "Starting to analyze %  /home/sadat/Desktop/PoseRAC/CowBytes_pose/video/test/117f0eeafe8d5ac58b984131dff27ba3e285203d3e3ea7d090f300f1e33b3c4b_1.mp4\n",
      "Loading  /home/sadat/Desktop/PoseRAC/CowBytes_pose/video/test/117f0eeafe8d5ac58b984131dff27ba3e285203d3e3ea7d090f300f1e33b3c4b_1.mp4\n",
      "Duration of video [s]:  13.33 , recorded with  24.0 fps!\n",
      "Overall # of frames:  320  found with (before cropping) frame dimensions:  640 360\n",
      "Starting to extract posture\n"
     ]
    },
    {
     "name": "stderr",
     "output_type": "stream",
     "text": [
      "100%|████████████████████████████████████████| 320/320 [00:01<00:00, 250.80it/s]\n"
     ]
    },
    {
     "name": "stdout",
     "output_type": "stream",
     "text": [
      "Saving results in /home/sadat/Desktop/PoseRAC/CowBytes_pose/video/test...\n",
      "Saving csv poses!\n",
      "Starting to analyze %  /home/sadat/Desktop/PoseRAC/CowBytes_pose/video/test/743a064e5f68f7acd214bbf9df289c9d6fa16e4f851e321fdfb8a07b80dde08a_1.mp4\n",
      "Loading  /home/sadat/Desktop/PoseRAC/CowBytes_pose/video/test/743a064e5f68f7acd214bbf9df289c9d6fa16e4f851e321fdfb8a07b80dde08a_1.mp4\n",
      "Duration of video [s]:  12.79 , recorded with  24.0 fps!\n",
      "Overall # of frames:  307  found with (before cropping) frame dimensions:  640 360\n",
      "Starting to extract posture\n"
     ]
    },
    {
     "name": "stderr",
     "output_type": "stream",
     "text": [
      "100%|████████████████████████████████████████| 307/307 [00:01<00:00, 249.79it/s]\n"
     ]
    },
    {
     "name": "stdout",
     "output_type": "stream",
     "text": [
      "Saving results in /home/sadat/Desktop/PoseRAC/CowBytes_pose/video/test...\n",
      "Saving csv poses!\n",
      "Starting to analyze %  /home/sadat/Desktop/PoseRAC/CowBytes_pose/video/test/95040dc15ce9ada82353103a13d1b395c937a9ea6747159f631bfa492b98373f_2.mp4\n",
      "Loading  /home/sadat/Desktop/PoseRAC/CowBytes_pose/video/test/95040dc15ce9ada82353103a13d1b395c937a9ea6747159f631bfa492b98373f_2.mp4\n",
      "Duration of video [s]:  12.54 , recorded with  24.0 fps!\n",
      "Overall # of frames:  301  found with (before cropping) frame dimensions:  640 360\n",
      "Starting to extract posture\n"
     ]
    },
    {
     "name": "stderr",
     "output_type": "stream",
     "text": [
      "100%|████████████████████████████████████████| 301/301 [00:01<00:00, 253.00it/s]\n"
     ]
    },
    {
     "name": "stdout",
     "output_type": "stream",
     "text": [
      "Saving results in /home/sadat/Desktop/PoseRAC/CowBytes_pose/video/test...\n",
      "Saving csv poses!\n",
      "Starting to analyze %  /home/sadat/Desktop/PoseRAC/CowBytes_pose/video/test/fa287b67c5b84b2ee911726f6225435a2d74e49296db21d70cba892e267f755e_1.mp4\n",
      "Loading  /home/sadat/Desktop/PoseRAC/CowBytes_pose/video/test/fa287b67c5b84b2ee911726f6225435a2d74e49296db21d70cba892e267f755e_1.mp4\n",
      "Duration of video [s]:  4.0 , recorded with  24.0 fps!\n",
      "Overall # of frames:  96  found with (before cropping) frame dimensions:  640 360\n",
      "Starting to extract posture\n"
     ]
    },
    {
     "name": "stderr",
     "output_type": "stream",
     "text": [
      "100%|██████████████████████████████████████████| 96/96 [00:00<00:00, 181.57it/s]\n"
     ]
    },
    {
     "name": "stdout",
     "output_type": "stream",
     "text": [
      "Saving results in /home/sadat/Desktop/PoseRAC/CowBytes_pose/video/test...\n",
      "Saving csv poses!\n",
      "Starting to analyze %  /home/sadat/Desktop/PoseRAC/CowBytes_pose/video/test/85ff8081163fa72a539d5215af9e01f86a078178bd0b2f4b93c71ba033ab456a_1.mp4\n",
      "Loading  /home/sadat/Desktop/PoseRAC/CowBytes_pose/video/test/85ff8081163fa72a539d5215af9e01f86a078178bd0b2f4b93c71ba033ab456a_1.mp4\n",
      "Duration of video [s]:  9.5 , recorded with  24.0 fps!\n",
      "Overall # of frames:  228  found with (before cropping) frame dimensions:  640 360\n",
      "Starting to extract posture\n"
     ]
    },
    {
     "name": "stderr",
     "output_type": "stream",
     "text": [
      "100%|████████████████████████████████████████| 228/228 [00:01<00:00, 223.48it/s]\n"
     ]
    },
    {
     "name": "stdout",
     "output_type": "stream",
     "text": [
      "Saving results in /home/sadat/Desktop/PoseRAC/CowBytes_pose/video/test...\n",
      "Saving csv poses!\n",
      "Starting to analyze %  /home/sadat/Desktop/PoseRAC/CowBytes_pose/video/test/e151c20b878c4425ce832d2f5120a218f4e31b765ec2a352130a5a877fddd041_2.mp4\n",
      "Loading  /home/sadat/Desktop/PoseRAC/CowBytes_pose/video/test/e151c20b878c4425ce832d2f5120a218f4e31b765ec2a352130a5a877fddd041_2.mp4\n",
      "Duration of video [s]:  18.0 , recorded with  24.0 fps!\n",
      "Overall # of frames:  432  found with (before cropping) frame dimensions:  640 360\n",
      "Starting to extract posture\n"
     ]
    },
    {
     "name": "stderr",
     "output_type": "stream",
     "text": [
      "100%|████████████████████████████████████████| 432/432 [00:01<00:00, 253.15it/s]\n"
     ]
    },
    {
     "name": "stdout",
     "output_type": "stream",
     "text": [
      "Saving results in /home/sadat/Desktop/PoseRAC/CowBytes_pose/video/test...\n",
      "Saving csv poses!\n",
      "Starting to analyze %  /home/sadat/Desktop/PoseRAC/CowBytes_pose/video/test/9c7cbf325c3227806845c6b47c600d381965a61f9d6f0e578303bd40821681e4_1.mp4\n",
      "Loading  /home/sadat/Desktop/PoseRAC/CowBytes_pose/video/test/9c7cbf325c3227806845c6b47c600d381965a61f9d6f0e578303bd40821681e4_1.mp4\n",
      "Duration of video [s]:  5.0 , recorded with  24.0 fps!\n",
      "Overall # of frames:  120  found with (before cropping) frame dimensions:  640 360\n",
      "Starting to extract posture\n"
     ]
    },
    {
     "name": "stderr",
     "output_type": "stream",
     "text": [
      "100%|████████████████████████████████████████| 120/120 [00:00<00:00, 188.46it/s]\n"
     ]
    },
    {
     "name": "stdout",
     "output_type": "stream",
     "text": [
      "Saving results in /home/sadat/Desktop/PoseRAC/CowBytes_pose/video/test...\n",
      "Saving csv poses!\n",
      "Starting to analyze %  /home/sadat/Desktop/PoseRAC/CowBytes_pose/video/test/6be40617f843db3e56b60af7a7dac4dad0f1d647838ed30133be97b1984696d0_1.mp4\n",
      "Loading  /home/sadat/Desktop/PoseRAC/CowBytes_pose/video/test/6be40617f843db3e56b60af7a7dac4dad0f1d647838ed30133be97b1984696d0_1.mp4\n",
      "Duration of video [s]:  15.96 , recorded with  24.0 fps!\n",
      "Overall # of frames:  383  found with (before cropping) frame dimensions:  640 360\n",
      "Starting to extract posture\n"
     ]
    },
    {
     "name": "stderr",
     "output_type": "stream",
     "text": [
      "100%|████████████████████████████████████████| 383/383 [00:01<00:00, 254.25it/s]\n"
     ]
    },
    {
     "name": "stdout",
     "output_type": "stream",
     "text": [
      "Saving results in /home/sadat/Desktop/PoseRAC/CowBytes_pose/video/test...\n",
      "Saving csv poses!\n",
      "Starting to analyze %  /home/sadat/Desktop/PoseRAC/CowBytes_pose/video/test/10f1a9b90589c2bc657320dc4958fb19ea2d51fbcdb251402e6112e4407de2e7_4.mp4\n",
      "Loading  /home/sadat/Desktop/PoseRAC/CowBytes_pose/video/test/10f1a9b90589c2bc657320dc4958fb19ea2d51fbcdb251402e6112e4407de2e7_4.mp4\n",
      "Duration of video [s]:  11.9 , recorded with  30.0 fps!\n",
      "Overall # of frames:  357  found with (before cropping) frame dimensions:  640 360\n",
      "Starting to extract posture\n"
     ]
    },
    {
     "name": "stderr",
     "output_type": "stream",
     "text": [
      "100%|████████████████████████████████████████| 357/357 [00:01<00:00, 251.43it/s]\n"
     ]
    },
    {
     "name": "stdout",
     "output_type": "stream",
     "text": [
      "Saving results in /home/sadat/Desktop/PoseRAC/CowBytes_pose/video/test...\n",
      "Saving csv poses!\n",
      "Starting to analyze %  /home/sadat/Desktop/PoseRAC/CowBytes_pose/video/test/747419b046c70c69e41b2857b7af91465dcc0c49e0e91ca96f253da03067dd32_1.mp4\n",
      "Loading  /home/sadat/Desktop/PoseRAC/CowBytes_pose/video/test/747419b046c70c69e41b2857b7af91465dcc0c49e0e91ca96f253da03067dd32_1.mp4\n",
      "Duration of video [s]:  13.67 , recorded with  24.0 fps!\n",
      "Overall # of frames:  328  found with (before cropping) frame dimensions:  640 360\n",
      "Starting to extract posture\n"
     ]
    },
    {
     "name": "stderr",
     "output_type": "stream",
     "text": [
      "100%|████████████████████████████████████████| 328/328 [00:01<00:00, 236.35it/s]\n"
     ]
    },
    {
     "name": "stdout",
     "output_type": "stream",
     "text": [
      "Saving results in /home/sadat/Desktop/PoseRAC/CowBytes_pose/video/test...\n",
      "Saving csv poses!\n",
      "Starting to analyze %  /home/sadat/Desktop/PoseRAC/CowBytes_pose/video/test/1cd30bf7a77bbfaaf85acb2b27da587a74e5951067ba962b500fd088e25a937b_1.mp4\n",
      "Loading  /home/sadat/Desktop/PoseRAC/CowBytes_pose/video/test/1cd30bf7a77bbfaaf85acb2b27da587a74e5951067ba962b500fd088e25a937b_1.mp4\n",
      "Duration of video [s]:  9.0 , recorded with  24.0 fps!\n",
      "Overall # of frames:  216  found with (before cropping) frame dimensions:  640 360\n",
      "Starting to extract posture\n"
     ]
    },
    {
     "name": "stderr",
     "output_type": "stream",
     "text": [
      "100%|████████████████████████████████████████| 216/216 [00:00<00:00, 233.72it/s]\n"
     ]
    },
    {
     "name": "stdout",
     "output_type": "stream",
     "text": [
      "Saving results in /home/sadat/Desktop/PoseRAC/CowBytes_pose/video/test...\n",
      "Saving csv poses!\n",
      "Starting to analyze %  /home/sadat/Desktop/PoseRAC/CowBytes_pose/video/test/4ff8a74c52c529eceb817a1d89e76a3ae053583c2abc491ecacbe560484b2e7e_2.mp4\n",
      "Loading  /home/sadat/Desktop/PoseRAC/CowBytes_pose/video/test/4ff8a74c52c529eceb817a1d89e76a3ae053583c2abc491ecacbe560484b2e7e_2.mp4\n",
      "Duration of video [s]:  22.46 , recorded with  24.0 fps!\n",
      "Overall # of frames:  539  found with (before cropping) frame dimensions:  640 360\n",
      "Starting to extract posture\n"
     ]
    },
    {
     "name": "stderr",
     "output_type": "stream",
     "text": [
      "100%|████████████████████████████████████████| 539/539 [00:01<00:00, 273.51it/s]\n"
     ]
    },
    {
     "name": "stdout",
     "output_type": "stream",
     "text": [
      "Saving results in /home/sadat/Desktop/PoseRAC/CowBytes_pose/video/test...\n",
      "Saving csv poses!\n",
      "Starting to analyze %  /home/sadat/Desktop/PoseRAC/CowBytes_pose/video/test/10f1a9b90589c2bc657320dc4958fb19ea2d51fbcdb251402e6112e4407de2e7_1.mp4\n",
      "Loading  /home/sadat/Desktop/PoseRAC/CowBytes_pose/video/test/10f1a9b90589c2bc657320dc4958fb19ea2d51fbcdb251402e6112e4407de2e7_1.mp4\n",
      "Duration of video [s]:  15.3 , recorded with  30.0 fps!\n",
      "Overall # of frames:  459  found with (before cropping) frame dimensions:  640 360\n",
      "Starting to extract posture\n"
     ]
    },
    {
     "name": "stderr",
     "output_type": "stream",
     "text": [
      "100%|████████████████████████████████████████| 459/459 [00:01<00:00, 258.80it/s]\n"
     ]
    },
    {
     "name": "stdout",
     "output_type": "stream",
     "text": [
      "Saving results in /home/sadat/Desktop/PoseRAC/CowBytes_pose/video/test...\n",
      "Saving csv poses!\n",
      "Starting to analyze %  /home/sadat/Desktop/PoseRAC/CowBytes_pose/video/test/b57a702fc0cade7763d6c30dbdd01970007eb537e18fc759f2e55132075d36db_2.mp4\n",
      "Loading  /home/sadat/Desktop/PoseRAC/CowBytes_pose/video/test/b57a702fc0cade7763d6c30dbdd01970007eb537e18fc759f2e55132075d36db_2.mp4\n",
      "Duration of video [s]:  12.18 , recorded with  29.97 fps!\n",
      "Overall # of frames:  365  found with (before cropping) frame dimensions:  640 360\n",
      "Starting to extract posture\n"
     ]
    },
    {
     "name": "stderr",
     "output_type": "stream",
     "text": [
      "100%|████████████████████████████████████████| 365/365 [00:01<00:00, 246.65it/s]\n"
     ]
    },
    {
     "name": "stdout",
     "output_type": "stream",
     "text": [
      "Saving results in /home/sadat/Desktop/PoseRAC/CowBytes_pose/video/test...\n",
      "Saving csv poses!\n",
      "Starting to analyze %  /home/sadat/Desktop/PoseRAC/CowBytes_pose/video/test/14ac6845ecc16c132aa2ecc75f5619c36d603e5f5e9021a3502fabde86a4363f_1.mp4\n",
      "Loading  /home/sadat/Desktop/PoseRAC/CowBytes_pose/video/test/14ac6845ecc16c132aa2ecc75f5619c36d603e5f5e9021a3502fabde86a4363f_1.mp4\n",
      "Duration of video [s]:  13.8 , recorded with  15.0 fps!\n",
      "Overall # of frames:  207  found with (before cropping) frame dimensions:  640 360\n",
      "Starting to extract posture\n"
     ]
    },
    {
     "name": "stderr",
     "output_type": "stream",
     "text": [
      "100%|████████████████████████████████████████| 207/207 [00:00<00:00, 216.88it/s]\n"
     ]
    },
    {
     "name": "stdout",
     "output_type": "stream",
     "text": [
      "Saving results in /home/sadat/Desktop/PoseRAC/CowBytes_pose/video/test...\n",
      "Saving csv poses!\n",
      "Starting to analyze %  /home/sadat/Desktop/PoseRAC/CowBytes_pose/video/test/46e9cc048a75d3c6404323ffa5ff8668c6b96a1640c61a52ec1155ef8b13d8bc_1.mp4\n",
      "Loading  /home/sadat/Desktop/PoseRAC/CowBytes_pose/video/test/46e9cc048a75d3c6404323ffa5ff8668c6b96a1640c61a52ec1155ef8b13d8bc_1.mp4\n",
      "Duration of video [s]:  14.92 , recorded with  24.0 fps!\n",
      "Overall # of frames:  358  found with (before cropping) frame dimensions:  640 360\n",
      "Starting to extract posture\n"
     ]
    },
    {
     "name": "stderr",
     "output_type": "stream",
     "text": [
      "100%|████████████████████████████████████████| 358/358 [00:01<00:00, 254.04it/s]\n"
     ]
    },
    {
     "name": "stdout",
     "output_type": "stream",
     "text": [
      "Saving results in /home/sadat/Desktop/PoseRAC/CowBytes_pose/video/test...\n",
      "Saving csv poses!\n",
      "Starting to analyze %  /home/sadat/Desktop/PoseRAC/CowBytes_pose/video/test/b1c6177d364b621dccd0cc51731a53a6022dd589b7222a146464538cc28f7dbb_1.mp4\n",
      "Loading  /home/sadat/Desktop/PoseRAC/CowBytes_pose/video/test/b1c6177d364b621dccd0cc51731a53a6022dd589b7222a146464538cc28f7dbb_1.mp4\n",
      "Duration of video [s]:  20.0 , recorded with  24.0 fps!\n",
      "Overall # of frames:  480  found with (before cropping) frame dimensions:  640 360\n",
      "Starting to extract posture\n"
     ]
    },
    {
     "name": "stderr",
     "output_type": "stream",
     "text": [
      "100%|████████████████████████████████████████| 480/480 [00:01<00:00, 261.53it/s]\n"
     ]
    },
    {
     "name": "stdout",
     "output_type": "stream",
     "text": [
      "Saving results in /home/sadat/Desktop/PoseRAC/CowBytes_pose/video/test...\n",
      "Saving csv poses!\n",
      "Starting to analyze %  /home/sadat/Desktop/PoseRAC/CowBytes_pose/video/test/2f4338b600baddf8b021162744427b9faaf7ec28230638ceeffadbfafd86ba44_1.mp4\n",
      "Loading  /home/sadat/Desktop/PoseRAC/CowBytes_pose/video/test/2f4338b600baddf8b021162744427b9faaf7ec28230638ceeffadbfafd86ba44_1.mp4\n",
      "Duration of video [s]:  13.33 , recorded with  24.0 fps!\n",
      "Overall # of frames:  320  found with (before cropping) frame dimensions:  640 360\n",
      "Starting to extract posture\n"
     ]
    },
    {
     "name": "stderr",
     "output_type": "stream",
     "text": [
      "100%|████████████████████████████████████████| 320/320 [00:01<00:00, 257.26it/s]\n"
     ]
    },
    {
     "name": "stdout",
     "output_type": "stream",
     "text": [
      "Saving results in /home/sadat/Desktop/PoseRAC/CowBytes_pose/video/test...\n",
      "Saving csv poses!\n",
      "Starting to analyze %  /home/sadat/Desktop/PoseRAC/CowBytes_pose/video/test/d40739c2aa4b801a2eda2bbb8a554a6ff85e3fc331b719fb52af72bf43224086_1.mp4\n",
      "Loading  /home/sadat/Desktop/PoseRAC/CowBytes_pose/video/test/d40739c2aa4b801a2eda2bbb8a554a6ff85e3fc331b719fb52af72bf43224086_1.mp4\n",
      "Duration of video [s]:  8.99 , recorded with  14.9 fps!\n",
      "Overall # of frames:  134  found with (before cropping) frame dimensions:  640 360\n",
      "Starting to extract posture\n"
     ]
    },
    {
     "name": "stderr",
     "output_type": "stream",
     "text": [
      "100%|████████████████████████████████████████| 134/134 [00:00<00:00, 202.84it/s]\n"
     ]
    },
    {
     "name": "stdout",
     "output_type": "stream",
     "text": [
      "Saving results in /home/sadat/Desktop/PoseRAC/CowBytes_pose/video/test...\n",
      "Saving csv poses!\n",
      "Starting to analyze %  /home/sadat/Desktop/PoseRAC/CowBytes_pose/video/test/37c993d16e39c7a06469d11edce24326323c489f75de5dcd0c73eba86d9eb942_2.mp4\n",
      "Loading  /home/sadat/Desktop/PoseRAC/CowBytes_pose/video/test/37c993d16e39c7a06469d11edce24326323c489f75de5dcd0c73eba86d9eb942_2.mp4\n",
      "Duration of video [s]:  21.67 , recorded with  30.0 fps!\n",
      "Overall # of frames:  650  found with (before cropping) frame dimensions:  640 360\n",
      "Starting to extract posture\n"
     ]
    },
    {
     "name": "stderr",
     "output_type": "stream",
     "text": [
      "100%|████████████████████████████████████████| 650/650 [00:02<00:00, 275.23it/s]\n"
     ]
    },
    {
     "name": "stdout",
     "output_type": "stream",
     "text": [
      "Saving results in /home/sadat/Desktop/PoseRAC/CowBytes_pose/video/test...\n",
      "Saving csv poses!\n",
      "Starting to analyze %  /home/sadat/Desktop/PoseRAC/CowBytes_pose/video/test/b57a702fc0cade7763d6c30dbdd01970007eb537e18fc759f2e55132075d36db_3.mp4\n",
      "Loading  /home/sadat/Desktop/PoseRAC/CowBytes_pose/video/test/b57a702fc0cade7763d6c30dbdd01970007eb537e18fc759f2e55132075d36db_3.mp4\n",
      "Duration of video [s]:  17.55 , recorded with  29.97 fps!\n",
      "Overall # of frames:  526  found with (before cropping) frame dimensions:  640 360\n",
      "Starting to extract posture\n"
     ]
    },
    {
     "name": "stderr",
     "output_type": "stream",
     "text": [
      "100%|████████████████████████████████████████| 526/526 [00:02<00:00, 258.13it/s]\n"
     ]
    },
    {
     "name": "stdout",
     "output_type": "stream",
     "text": [
      "Saving results in /home/sadat/Desktop/PoseRAC/CowBytes_pose/video/test...\n",
      "Saving csv poses!\n",
      "Starting to analyze %  /home/sadat/Desktop/PoseRAC/CowBytes_pose/video/test/85ff8081163fa72a539d5215af9e01f86a078178bd0b2f4b93c71ba033ab456a_2.mp4\n",
      "Loading  /home/sadat/Desktop/PoseRAC/CowBytes_pose/video/test/85ff8081163fa72a539d5215af9e01f86a078178bd0b2f4b93c71ba033ab456a_2.mp4\n",
      "Duration of video [s]:  19.29 , recorded with  24.0 fps!\n",
      "Overall # of frames:  463  found with (before cropping) frame dimensions:  640 360\n",
      "Starting to extract posture\n"
     ]
    },
    {
     "name": "stderr",
     "output_type": "stream",
     "text": [
      "100%|████████████████████████████████████████| 463/463 [00:01<00:00, 262.74it/s]\n"
     ]
    },
    {
     "name": "stdout",
     "output_type": "stream",
     "text": [
      "Saving results in /home/sadat/Desktop/PoseRAC/CowBytes_pose/video/test...\n",
      "Saving csv poses!\n",
      "Starting to analyze %  /home/sadat/Desktop/PoseRAC/CowBytes_pose/video/test/37c993d16e39c7a06469d11edce24326323c489f75de5dcd0c73eba86d9eb942_1.mp4\n",
      "Loading  /home/sadat/Desktop/PoseRAC/CowBytes_pose/video/test/37c993d16e39c7a06469d11edce24326323c489f75de5dcd0c73eba86d9eb942_1.mp4\n",
      "Duration of video [s]:  14.5 , recorded with  30.0 fps!\n",
      "Overall # of frames:  435  found with (before cropping) frame dimensions:  640 360\n",
      "Starting to extract posture\n"
     ]
    },
    {
     "name": "stderr",
     "output_type": "stream",
     "text": [
      "100%|████████████████████████████████████████| 435/435 [00:01<00:00, 261.16it/s]\n"
     ]
    },
    {
     "name": "stdout",
     "output_type": "stream",
     "text": [
      "Saving results in /home/sadat/Desktop/PoseRAC/CowBytes_pose/video/test...\n",
      "Saving csv poses!\n",
      "Starting to analyze %  /home/sadat/Desktop/PoseRAC/CowBytes_pose/video/test/9f06f158766658820031cf3f32a755a1403bcbcb696ce9febc42105f31f4fa46_2.mp4\n",
      "Loading  /home/sadat/Desktop/PoseRAC/CowBytes_pose/video/test/9f06f158766658820031cf3f32a755a1403bcbcb696ce9febc42105f31f4fa46_2.mp4\n",
      "Duration of video [s]:  18.5 , recorded with  24.0 fps!\n",
      "Overall # of frames:  444  found with (before cropping) frame dimensions:  640 360\n",
      "Starting to extract posture\n"
     ]
    },
    {
     "name": "stderr",
     "output_type": "stream",
     "text": [
      "100%|████████████████████████████████████████| 444/444 [00:01<00:00, 267.52it/s]\n"
     ]
    },
    {
     "name": "stdout",
     "output_type": "stream",
     "text": [
      "Saving results in /home/sadat/Desktop/PoseRAC/CowBytes_pose/video/test...\n",
      "Saving csv poses!\n",
      "Starting to analyze %  /home/sadat/Desktop/PoseRAC/CowBytes_pose/video/test/95040dc15ce9ada82353103a13d1b395c937a9ea6747159f631bfa492b98373f_1.mp4\n",
      "Loading  /home/sadat/Desktop/PoseRAC/CowBytes_pose/video/test/95040dc15ce9ada82353103a13d1b395c937a9ea6747159f631bfa492b98373f_1.mp4\n",
      "Duration of video [s]:  12.25 , recorded with  24.0 fps!\n",
      "Overall # of frames:  294  found with (before cropping) frame dimensions:  640 360\n",
      "Starting to extract posture\n"
     ]
    },
    {
     "name": "stderr",
     "output_type": "stream",
     "text": [
      "100%|████████████████████████████████████████| 294/294 [00:01<00:00, 247.77it/s]\n"
     ]
    },
    {
     "name": "stdout",
     "output_type": "stream",
     "text": [
      "Saving results in /home/sadat/Desktop/PoseRAC/CowBytes_pose/video/test...\n",
      "Saving csv poses!\n",
      "Starting to analyze %  /home/sadat/Desktop/PoseRAC/CowBytes_pose/video/test/ab4a3fa6085cc8998dad48f20cb5a041d97201723db1d665a90a3ee388f4bb6a_1.mp4\n",
      "Loading  /home/sadat/Desktop/PoseRAC/CowBytes_pose/video/test/ab4a3fa6085cc8998dad48f20cb5a041d97201723db1d665a90a3ee388f4bb6a_1.mp4\n",
      "Duration of video [s]:  11.35 , recorded with  29.95 fps!\n",
      "Overall # of frames:  340  found with (before cropping) frame dimensions:  640 360\n",
      "Starting to extract posture\n"
     ]
    },
    {
     "name": "stderr",
     "output_type": "stream",
     "text": [
      "100%|████████████████████████████████████████| 340/340 [00:01<00:00, 259.38it/s]\n"
     ]
    },
    {
     "name": "stdout",
     "output_type": "stream",
     "text": [
      "Saving results in /home/sadat/Desktop/PoseRAC/CowBytes_pose/video/test...\n",
      "Saving csv poses!\n",
      "Starting to analyze %  /home/sadat/Desktop/PoseRAC/CowBytes_pose/video/test/54d5f63b8d886c2519a1eb5b4a19b409a919c0b94ac345062e8014f08487fdd4_2.mp4\n",
      "Loading  /home/sadat/Desktop/PoseRAC/CowBytes_pose/video/test/54d5f63b8d886c2519a1eb5b4a19b409a919c0b94ac345062e8014f08487fdd4_2.mp4\n",
      "Duration of video [s]:  17.58 , recorded with  24.0 fps!\n",
      "Overall # of frames:  422  found with (before cropping) frame dimensions:  640 360\n",
      "Starting to extract posture\n"
     ]
    },
    {
     "name": "stderr",
     "output_type": "stream",
     "text": [
      "100%|████████████████████████████████████████| 422/422 [00:01<00:00, 264.14it/s]\n"
     ]
    },
    {
     "name": "stdout",
     "output_type": "stream",
     "text": [
      "Saving results in /home/sadat/Desktop/PoseRAC/CowBytes_pose/video/test...\n",
      "Saving csv poses!\n",
      "Starting to analyze %  /home/sadat/Desktop/PoseRAC/CowBytes_pose/video/test/95040dc15ce9ada82353103a13d1b395c937a9ea6747159f631bfa492b98373f_5.mp4\n",
      "Loading  /home/sadat/Desktop/PoseRAC/CowBytes_pose/video/test/95040dc15ce9ada82353103a13d1b395c937a9ea6747159f631bfa492b98373f_5.mp4\n",
      "Duration of video [s]:  11.33 , recorded with  24.0 fps!\n",
      "Overall # of frames:  272  found with (before cropping) frame dimensions:  640 360\n",
      "Starting to extract posture\n"
     ]
    },
    {
     "name": "stderr",
     "output_type": "stream",
     "text": [
      "100%|████████████████████████████████████████| 272/272 [00:01<00:00, 245.19it/s]\n"
     ]
    },
    {
     "name": "stdout",
     "output_type": "stream",
     "text": [
      "Saving results in /home/sadat/Desktop/PoseRAC/CowBytes_pose/video/test...\n",
      "Saving csv poses!\n",
      "Starting to analyze %  /home/sadat/Desktop/PoseRAC/CowBytes_pose/video/test/9f06f158766658820031cf3f32a755a1403bcbcb696ce9febc42105f31f4fa46_1.mp4\n",
      "Loading  /home/sadat/Desktop/PoseRAC/CowBytes_pose/video/test/9f06f158766658820031cf3f32a755a1403bcbcb696ce9febc42105f31f4fa46_1.mp4\n",
      "Duration of video [s]:  14.0 , recorded with  24.0 fps!\n",
      "Overall # of frames:  336  found with (before cropping) frame dimensions:  640 360\n",
      "Starting to extract posture\n"
     ]
    },
    {
     "name": "stderr",
     "output_type": "stream",
     "text": [
      "100%|████████████████████████████████████████| 336/336 [00:01<00:00, 255.26it/s]\n"
     ]
    },
    {
     "name": "stdout",
     "output_type": "stream",
     "text": [
      "Saving results in /home/sadat/Desktop/PoseRAC/CowBytes_pose/video/test...\n",
      "Saving csv poses!\n",
      "Starting to analyze %  /home/sadat/Desktop/PoseRAC/CowBytes_pose/video/test/d136ae29ffec48fd62ef8dbf80878dfece480fdbfcb72855a780cdcd03f0d08e_1.mp4\n",
      "Loading  /home/sadat/Desktop/PoseRAC/CowBytes_pose/video/test/d136ae29ffec48fd62ef8dbf80878dfece480fdbfcb72855a780cdcd03f0d08e_1.mp4\n",
      "Duration of video [s]:  14.68 , recorded with  23.98 fps!\n",
      "Overall # of frames:  352  found with (before cropping) frame dimensions:  640 360\n",
      "Starting to extract posture\n"
     ]
    },
    {
     "name": "stderr",
     "output_type": "stream",
     "text": [
      "100%|████████████████████████████████████████| 352/352 [00:01<00:00, 260.33it/s]\n"
     ]
    },
    {
     "name": "stdout",
     "output_type": "stream",
     "text": [
      "Saving results in /home/sadat/Desktop/PoseRAC/CowBytes_pose/video/test...\n",
      "Saving csv poses!\n",
      "Starting to analyze %  /home/sadat/Desktop/PoseRAC/CowBytes_pose/video/test/6bad72b6e29e294f91508e5dbcc3b762e42c9103ddcf6e70968f7fe8d030a808_1.mp4\n",
      "Loading  /home/sadat/Desktop/PoseRAC/CowBytes_pose/video/test/6bad72b6e29e294f91508e5dbcc3b762e42c9103ddcf6e70968f7fe8d030a808_1.mp4\n",
      "Duration of video [s]:  10.0 , recorded with  24.0 fps!\n",
      "Overall # of frames:  240  found with (before cropping) frame dimensions:  640 360\n",
      "Starting to extract posture\n"
     ]
    },
    {
     "name": "stderr",
     "output_type": "stream",
     "text": [
      "100%|████████████████████████████████████████| 240/240 [00:00<00:00, 241.50it/s]\n"
     ]
    },
    {
     "name": "stdout",
     "output_type": "stream",
     "text": [
      "Saving results in /home/sadat/Desktop/PoseRAC/CowBytes_pose/video/test...\n",
      "Saving csv poses!\n",
      "Starting to analyze %  /home/sadat/Desktop/PoseRAC/CowBytes_pose/video/test/4ff8a74c52c529eceb817a1d89e76a3ae053583c2abc491ecacbe560484b2e7e_1.mp4\n",
      "Loading  /home/sadat/Desktop/PoseRAC/CowBytes_pose/video/test/4ff8a74c52c529eceb817a1d89e76a3ae053583c2abc491ecacbe560484b2e7e_1.mp4\n",
      "Duration of video [s]:  10.04 , recorded with  24.0 fps!\n",
      "Overall # of frames:  241  found with (before cropping) frame dimensions:  640 360\n",
      "Starting to extract posture\n"
     ]
    },
    {
     "name": "stderr",
     "output_type": "stream",
     "text": [
      "100%|████████████████████████████████████████| 241/241 [00:01<00:00, 233.46it/s]\n"
     ]
    },
    {
     "name": "stdout",
     "output_type": "stream",
     "text": [
      "Saving results in /home/sadat/Desktop/PoseRAC/CowBytes_pose/video/test...\n",
      "Saving csv poses!\n",
      "Starting to analyze %  /home/sadat/Desktop/PoseRAC/CowBytes_pose/video/test/284d9ee203882c3bcc2dff888d49ba6ea4da8fbd943e8eab4ff2dc54ae719e55_1.mp4\n",
      "Loading  /home/sadat/Desktop/PoseRAC/CowBytes_pose/video/test/284d9ee203882c3bcc2dff888d49ba6ea4da8fbd943e8eab4ff2dc54ae719e55_1.mp4\n",
      "Duration of video [s]:  15.21 , recorded with  24.0 fps!\n",
      "Overall # of frames:  365  found with (before cropping) frame dimensions:  640 360\n",
      "Starting to extract posture\n"
     ]
    },
    {
     "name": "stderr",
     "output_type": "stream",
     "text": [
      "100%|████████████████████████████████████████| 365/365 [00:01<00:00, 260.52it/s]\n"
     ]
    },
    {
     "name": "stdout",
     "output_type": "stream",
     "text": [
      "Saving results in /home/sadat/Desktop/PoseRAC/CowBytes_pose/video/test...\n",
      "Saving csv poses!\n",
      "Starting to analyze %  /home/sadat/Desktop/PoseRAC/CowBytes_pose/video/test/b5347ffb6bbbbbc94ac468bf69dfdf119ca4334ed4973a766baf803a7399af95_1.mp4\n",
      "Loading  /home/sadat/Desktop/PoseRAC/CowBytes_pose/video/test/b5347ffb6bbbbbc94ac468bf69dfdf119ca4334ed4973a766baf803a7399af95_1.mp4\n",
      "Duration of video [s]:  15.0 , recorded with  24.0 fps!\n",
      "Overall # of frames:  360  found with (before cropping) frame dimensions:  640 360\n",
      "Starting to extract posture\n"
     ]
    },
    {
     "name": "stderr",
     "output_type": "stream",
     "text": [
      "100%|████████████████████████████████████████| 360/360 [00:01<00:00, 257.10it/s]\n"
     ]
    },
    {
     "name": "stdout",
     "output_type": "stream",
     "text": [
      "Saving results in /home/sadat/Desktop/PoseRAC/CowBytes_pose/video/test...\n",
      "Saving csv poses!\n",
      "Starting to analyze %  /home/sadat/Desktop/PoseRAC/CowBytes_pose/video/test/10f1a9b90589c2bc657320dc4958fb19ea2d51fbcdb251402e6112e4407de2e7_3.mp4\n",
      "Loading  /home/sadat/Desktop/PoseRAC/CowBytes_pose/video/test/10f1a9b90589c2bc657320dc4958fb19ea2d51fbcdb251402e6112e4407de2e7_3.mp4\n",
      "Duration of video [s]:  15.53 , recorded with  30.0 fps!\n",
      "Overall # of frames:  466  found with (before cropping) frame dimensions:  640 360\n",
      "Starting to extract posture\n"
     ]
    },
    {
     "name": "stderr",
     "output_type": "stream",
     "text": [
      "100%|████████████████████████████████████████| 466/466 [00:01<00:00, 266.70it/s]\n"
     ]
    },
    {
     "name": "stdout",
     "output_type": "stream",
     "text": [
      "Saving results in /home/sadat/Desktop/PoseRAC/CowBytes_pose/video/test...\n",
      "Saving csv poses!\n",
      "Starting to analyze %  /home/sadat/Desktop/PoseRAC/CowBytes_pose/video/test/4a639247a4b687c6ae226f986414241864b4174f8e30190b62ad4821e5c3f875_1.mp4\n",
      "Loading  /home/sadat/Desktop/PoseRAC/CowBytes_pose/video/test/4a639247a4b687c6ae226f986414241864b4174f8e30190b62ad4821e5c3f875_1.mp4\n",
      "Duration of video [s]:  10.0 , recorded with  24.0 fps!\n",
      "Overall # of frames:  240  found with (before cropping) frame dimensions:  640 360\n",
      "Starting to extract posture\n"
     ]
    },
    {
     "name": "stderr",
     "output_type": "stream",
     "text": [
      "100%|████████████████████████████████████████| 240/240 [00:01<00:00, 238.00it/s]\n"
     ]
    },
    {
     "name": "stdout",
     "output_type": "stream",
     "text": [
      "Saving results in /home/sadat/Desktop/PoseRAC/CowBytes_pose/video/test...\n",
      "Saving csv poses!\n",
      "Starting to analyze %  /home/sadat/Desktop/PoseRAC/CowBytes_pose/video/test/b57a702fc0cade7763d6c30dbdd01970007eb537e18fc759f2e55132075d36db_1.mp4\n",
      "Loading  /home/sadat/Desktop/PoseRAC/CowBytes_pose/video/test/b57a702fc0cade7763d6c30dbdd01970007eb537e18fc759f2e55132075d36db_1.mp4\n",
      "Duration of video [s]:  14.41 , recorded with  29.97 fps!\n",
      "Overall # of frames:  432  found with (before cropping) frame dimensions:  640 360\n",
      "Starting to extract posture\n"
     ]
    },
    {
     "name": "stderr",
     "output_type": "stream",
     "text": [
      "100%|████████████████████████████████████████| 432/432 [00:01<00:00, 264.16it/s]\n"
     ]
    },
    {
     "name": "stdout",
     "output_type": "stream",
     "text": [
      "Saving results in /home/sadat/Desktop/PoseRAC/CowBytes_pose/video/test...\n",
      "Saving csv poses!\n",
      "Starting to analyze %  /home/sadat/Desktop/PoseRAC/CowBytes_pose/video/test/caa5e097d4d523448fefdcb1926de02fb9c420bc246ea35dc12d27c4881ff5a4_1.mp4\n",
      "Loading  /home/sadat/Desktop/PoseRAC/CowBytes_pose/video/test/caa5e097d4d523448fefdcb1926de02fb9c420bc246ea35dc12d27c4881ff5a4_1.mp4\n",
      "Duration of video [s]:  4.75 , recorded with  24.0 fps!\n",
      "Overall # of frames:  114  found with (before cropping) frame dimensions:  640 360\n",
      "Starting to extract posture\n"
     ]
    },
    {
     "name": "stderr",
     "output_type": "stream",
     "text": [
      "100%|████████████████████████████████████████| 114/114 [00:00<00:00, 185.99it/s]\n"
     ]
    },
    {
     "name": "stdout",
     "output_type": "stream",
     "text": [
      "Saving results in /home/sadat/Desktop/PoseRAC/CowBytes_pose/video/test...\n",
      "Saving csv poses!\n",
      "Starting to analyze %  /home/sadat/Desktop/PoseRAC/CowBytes_pose/video/test/4fc0428ba0f9882718fb5d7e4196369d2af69c153d42de9717a25a3919782d80_1.mp4\n",
      "Loading  /home/sadat/Desktop/PoseRAC/CowBytes_pose/video/test/4fc0428ba0f9882718fb5d7e4196369d2af69c153d42de9717a25a3919782d80_1.mp4\n",
      "Duration of video [s]:  19.92 , recorded with  24.0 fps!\n",
      "Overall # of frames:  478  found with (before cropping) frame dimensions:  640 360\n",
      "Starting to extract posture\n"
     ]
    },
    {
     "name": "stderr",
     "output_type": "stream",
     "text": [
      "100%|████████████████████████████████████████| 478/478 [00:01<00:00, 267.17it/s]\n"
     ]
    },
    {
     "name": "stdout",
     "output_type": "stream",
     "text": [
      "Saving results in /home/sadat/Desktop/PoseRAC/CowBytes_pose/video/test...\n",
      "Saving csv poses!\n",
      "Starting to analyze %  /home/sadat/Desktop/PoseRAC/CowBytes_pose/video/test/056837a2b71e7d93ad65e388dbb0c670a0a440c3ba4f88d82d728ff49d77844c_1.mp4\n",
      "Loading  /home/sadat/Desktop/PoseRAC/CowBytes_pose/video/test/056837a2b71e7d93ad65e388dbb0c670a0a440c3ba4f88d82d728ff49d77844c_1.mp4\n",
      "Duration of video [s]:  9.0 , recorded with  24.0 fps!\n",
      "Overall # of frames:  216  found with (before cropping) frame dimensions:  640 360\n",
      "Starting to extract posture\n"
     ]
    },
    {
     "name": "stderr",
     "output_type": "stream",
     "text": [
      "100%|████████████████████████████████████████| 216/216 [00:00<00:00, 234.75it/s]\n"
     ]
    },
    {
     "name": "stdout",
     "output_type": "stream",
     "text": [
      "Saving results in /home/sadat/Desktop/PoseRAC/CowBytes_pose/video/test...\n",
      "Saving csv poses!\n",
      "Starting to analyze %  /home/sadat/Desktop/PoseRAC/CowBytes_pose/video/test/73c745847dc41f6e0c54fefcadfd13613a200d58b7073017124483409638c9be_1.mp4\n",
      "Loading  /home/sadat/Desktop/PoseRAC/CowBytes_pose/video/test/73c745847dc41f6e0c54fefcadfd13613a200d58b7073017124483409638c9be_1.mp4\n",
      "Duration of video [s]:  1.84 , recorded with  12.5 fps!\n",
      "Overall # of frames:  23  found with (before cropping) frame dimensions:  640 360\n",
      "Starting to extract posture\n"
     ]
    },
    {
     "name": "stderr",
     "output_type": "stream",
     "text": [
      "100%|███████████████████████████████████████████| 23/23 [00:00<00:00, 69.04it/s]\n"
     ]
    },
    {
     "name": "stdout",
     "output_type": "stream",
     "text": [
      "Saving results in /home/sadat/Desktop/PoseRAC/CowBytes_pose/video/test...\n",
      "Saving csv poses!\n",
      "Starting to analyze %  /home/sadat/Desktop/PoseRAC/CowBytes_pose/video/test/10f1a9b90589c2bc657320dc4958fb19ea2d51fbcdb251402e6112e4407de2e7_2.mp4\n",
      "Loading  /home/sadat/Desktop/PoseRAC/CowBytes_pose/video/test/10f1a9b90589c2bc657320dc4958fb19ea2d51fbcdb251402e6112e4407de2e7_2.mp4\n",
      "Duration of video [s]:  31.17 , recorded with  30.0 fps!\n",
      "Overall # of frames:  935  found with (before cropping) frame dimensions:  640 360\n",
      "Starting to extract posture\n"
     ]
    },
    {
     "name": "stderr",
     "output_type": "stream",
     "text": [
      "100%|████████████████████████████████████████| 935/935 [00:03<00:00, 281.91it/s]\n"
     ]
    },
    {
     "name": "stdout",
     "output_type": "stream",
     "text": [
      "Saving results in /home/sadat/Desktop/PoseRAC/CowBytes_pose/video/test...\n",
      "Saving csv poses!\n",
      "Starting to analyze %  /home/sadat/Desktop/PoseRAC/CowBytes_pose/video/test/c81785443adb4396f41032f03038f66f5772097bd7bf6f58ca4b2552d12255ec_1.mp4\n",
      "Loading  /home/sadat/Desktop/PoseRAC/CowBytes_pose/video/test/c81785443adb4396f41032f03038f66f5772097bd7bf6f58ca4b2552d12255ec_1.mp4\n",
      "Duration of video [s]:  2.0 , recorded with  24.0 fps!\n",
      "Overall # of frames:  48  found with (before cropping) frame dimensions:  640 360\n",
      "Starting to extract posture\n"
     ]
    },
    {
     "name": "stderr",
     "output_type": "stream",
     "text": [
      "100%|██████████████████████████████████████████| 48/48 [00:00<00:00, 117.94it/s]\n"
     ]
    },
    {
     "name": "stdout",
     "output_type": "stream",
     "text": [
      "Saving results in /home/sadat/Desktop/PoseRAC/CowBytes_pose/video/test...\n",
      "Saving csv poses!\n",
      "Starting to analyze %  /home/sadat/Desktop/PoseRAC/CowBytes_pose/video/test/74ca4423b3f022a944a4f84d4c57a31c715f69041e3cc5911de83ef128a94b7f_1.mp4\n",
      "Loading  /home/sadat/Desktop/PoseRAC/CowBytes_pose/video/test/74ca4423b3f022a944a4f84d4c57a31c715f69041e3cc5911de83ef128a94b7f_1.mp4\n",
      "Duration of video [s]:  5.33 , recorded with  24.0 fps!\n",
      "Overall # of frames:  128  found with (before cropping) frame dimensions:  640 360\n",
      "Starting to extract posture\n"
     ]
    },
    {
     "name": "stderr",
     "output_type": "stream",
     "text": [
      "100%|████████████████████████████████████████| 128/128 [00:00<00:00, 197.66it/s]\n"
     ]
    },
    {
     "name": "stdout",
     "output_type": "stream",
     "text": [
      "Saving results in /home/sadat/Desktop/PoseRAC/CowBytes_pose/video/test...\n",
      "Saving csv poses!\n",
      "Starting to analyze %  /home/sadat/Desktop/PoseRAC/CowBytes_pose/video/test/284d9ee203882c3bcc2dff888d49ba6ea4da8fbd943e8eab4ff2dc54ae719e55_2.mp4\n",
      "Loading  /home/sadat/Desktop/PoseRAC/CowBytes_pose/video/test/284d9ee203882c3bcc2dff888d49ba6ea4da8fbd943e8eab4ff2dc54ae719e55_2.mp4\n",
      "Duration of video [s]:  20.58 , recorded with  24.0 fps!\n",
      "Overall # of frames:  494  found with (before cropping) frame dimensions:  640 360\n",
      "Starting to extract posture\n"
     ]
    },
    {
     "name": "stderr",
     "output_type": "stream",
     "text": [
      "100%|████████████████████████████████████████| 494/494 [00:01<00:00, 265.67it/s]\n"
     ]
    },
    {
     "name": "stdout",
     "output_type": "stream",
     "text": [
      "Saving results in /home/sadat/Desktop/PoseRAC/CowBytes_pose/video/test...\n",
      "Saving csv poses!\n",
      "Starting to analyze %  /home/sadat/Desktop/PoseRAC/CowBytes_pose/video/test/95040dc15ce9ada82353103a13d1b395c937a9ea6747159f631bfa492b98373f_4.mp4\n",
      "Loading  /home/sadat/Desktop/PoseRAC/CowBytes_pose/video/test/95040dc15ce9ada82353103a13d1b395c937a9ea6747159f631bfa492b98373f_4.mp4\n",
      "Duration of video [s]:  14.67 , recorded with  24.0 fps!\n",
      "Overall # of frames:  352  found with (before cropping) frame dimensions:  640 360\n",
      "Starting to extract posture\n"
     ]
    },
    {
     "name": "stderr",
     "output_type": "stream",
     "text": [
      "100%|████████████████████████████████████████| 352/352 [00:01<00:00, 253.42it/s]\n"
     ]
    },
    {
     "name": "stdout",
     "output_type": "stream",
     "text": [
      "Saving results in /home/sadat/Desktop/PoseRAC/CowBytes_pose/video/test...\n",
      "Saving csv poses!\n",
      "Starting to analyze %  /home/sadat/Desktop/PoseRAC/CowBytes_pose/video/test/b57a702fc0cade7763d6c30dbdd01970007eb537e18fc759f2e55132075d36db_4.mp4\n",
      "Loading  /home/sadat/Desktop/PoseRAC/CowBytes_pose/video/test/b57a702fc0cade7763d6c30dbdd01970007eb537e18fc759f2e55132075d36db_4.mp4\n",
      "Duration of video [s]:  17.15 , recorded with  29.97 fps!\n",
      "Overall # of frames:  514  found with (before cropping) frame dimensions:  640 360\n",
      "Starting to extract posture\n"
     ]
    },
    {
     "name": "stderr",
     "output_type": "stream",
     "text": [
      "100%|████████████████████████████████████████| 514/514 [00:01<00:00, 266.18it/s]\n"
     ]
    },
    {
     "name": "stdout",
     "output_type": "stream",
     "text": [
      "Saving results in /home/sadat/Desktop/PoseRAC/CowBytes_pose/video/test...\n",
      "Saving csv poses!\n",
      "Starting to analyze %  /home/sadat/Desktop/PoseRAC/CowBytes_pose/video/test/e8793e070b7f0381aef1a8f802010929abf59e7dd0014be27be3844ff54ae181_1.mp4\n",
      "Loading  /home/sadat/Desktop/PoseRAC/CowBytes_pose/video/test/e8793e070b7f0381aef1a8f802010929abf59e7dd0014be27be3844ff54ae181_1.mp4\n",
      "Duration of video [s]:  5.17 , recorded with  24.0 fps!\n",
      "Overall # of frames:  124  found with (before cropping) frame dimensions:  640 360\n",
      "Starting to extract posture\n"
     ]
    },
    {
     "name": "stderr",
     "output_type": "stream",
     "text": [
      "100%|████████████████████████████████████████| 124/124 [00:00<00:00, 184.89it/s]\n"
     ]
    },
    {
     "name": "stdout",
     "output_type": "stream",
     "text": [
      "Saving results in /home/sadat/Desktop/PoseRAC/CowBytes_pose/video/test...\n",
      "Saving csv poses!\n",
      "Starting to analyze %  /home/sadat/Desktop/PoseRAC/CowBytes_pose/video/test/d40739c2aa4b801a2eda2bbb8a554a6ff85e3fc331b719fb52af72bf43224086_3.mp4\n",
      "Loading  /home/sadat/Desktop/PoseRAC/CowBytes_pose/video/test/d40739c2aa4b801a2eda2bbb8a554a6ff85e3fc331b719fb52af72bf43224086_3.mp4\n",
      "Duration of video [s]:  3.36 , recorded with  14.9 fps!\n",
      "Overall # of frames:  50  found with (before cropping) frame dimensions:  640 360\n",
      "Starting to extract posture\n"
     ]
    },
    {
     "name": "stderr",
     "output_type": "stream",
     "text": [
      "100%|██████████████████████████████████████████| 50/50 [00:00<00:00, 125.05it/s]\n"
     ]
    },
    {
     "name": "stdout",
     "output_type": "stream",
     "text": [
      "Saving results in /home/sadat/Desktop/PoseRAC/CowBytes_pose/video/test...\n",
      "Saving csv poses!\n",
      "Starting to analyze %  /home/sadat/Desktop/PoseRAC/CowBytes_pose/video/test/a08cd526a4dda562d02e7c1abc655fe1726c908ec696fca4b533e0a84312205b_1.mp4\n",
      "Loading  /home/sadat/Desktop/PoseRAC/CowBytes_pose/video/test/a08cd526a4dda562d02e7c1abc655fe1726c908ec696fca4b533e0a84312205b_1.mp4\n",
      "Duration of video [s]:  6.79 , recorded with  24.0 fps!\n",
      "Overall # of frames:  163  found with (before cropping) frame dimensions:  640 360\n",
      "Starting to extract posture\n"
     ]
    },
    {
     "name": "stderr",
     "output_type": "stream",
     "text": [
      "100%|████████████████████████████████████████| 163/163 [00:00<00:00, 193.52it/s]\n"
     ]
    },
    {
     "name": "stdout",
     "output_type": "stream",
     "text": [
      "Saving results in /home/sadat/Desktop/PoseRAC/CowBytes_pose/video/test...\n",
      "Saving csv poses!\n",
      "Starting to analyze %  /home/sadat/Desktop/PoseRAC/CowBytes_pose/video/test/54d5f63b8d886c2519a1eb5b4a19b409a919c0b94ac345062e8014f08487fdd4_1.mp4\n",
      "Loading  /home/sadat/Desktop/PoseRAC/CowBytes_pose/video/test/54d5f63b8d886c2519a1eb5b4a19b409a919c0b94ac345062e8014f08487fdd4_1.mp4\n",
      "Duration of video [s]:  17.17 , recorded with  24.0 fps!\n",
      "Overall # of frames:  412  found with (before cropping) frame dimensions:  640 360\n",
      "Starting to extract posture\n"
     ]
    },
    {
     "name": "stderr",
     "output_type": "stream",
     "text": [
      "100%|████████████████████████████████████████| 412/412 [00:01<00:00, 246.40it/s]\n"
     ]
    },
    {
     "name": "stdout",
     "output_type": "stream",
     "text": [
      "Saving results in /home/sadat/Desktop/PoseRAC/CowBytes_pose/video/test...\n",
      "Saving csv poses!\n",
      "Starting to analyze %  /home/sadat/Desktop/PoseRAC/CowBytes_pose/video/test/0baf219dc65f856d93429bfcaf5c6d9a1f2a8e813cc452f01f4819d32baca3d5_1.mp4\n",
      "Loading  /home/sadat/Desktop/PoseRAC/CowBytes_pose/video/test/0baf219dc65f856d93429bfcaf5c6d9a1f2a8e813cc452f01f4819d32baca3d5_1.mp4\n",
      "Duration of video [s]:  9.0 , recorded with  24.0 fps!\n",
      "Overall # of frames:  216  found with (before cropping) frame dimensions:  640 360\n",
      "Starting to extract posture\n"
     ]
    },
    {
     "name": "stderr",
     "output_type": "stream",
     "text": [
      "100%|████████████████████████████████████████| 216/216 [00:00<00:00, 223.81it/s]\n"
     ]
    },
    {
     "name": "stdout",
     "output_type": "stream",
     "text": [
      "Saving results in /home/sadat/Desktop/PoseRAC/CowBytes_pose/video/test...\n",
      "Saving csv poses!\n",
      "Starting to analyze %  /home/sadat/Desktop/PoseRAC/CowBytes_pose/video/test/bc55bbdacb62113d0ca532f3d9ed246563c8fa4745f5d86b7e3f8d5ff63d4137_1.mp4\n",
      "Loading  /home/sadat/Desktop/PoseRAC/CowBytes_pose/video/test/bc55bbdacb62113d0ca532f3d9ed246563c8fa4745f5d86b7e3f8d5ff63d4137_1.mp4\n",
      "Duration of video [s]:  11.92 , recorded with  24.0 fps!\n",
      "Overall # of frames:  286  found with (before cropping) frame dimensions:  640 360\n",
      "Starting to extract posture\n"
     ]
    },
    {
     "name": "stderr",
     "output_type": "stream",
     "text": [
      "100%|████████████████████████████████████████| 286/286 [00:01<00:00, 231.81it/s]\n"
     ]
    },
    {
     "name": "stdout",
     "output_type": "stream",
     "text": [
      "Saving results in /home/sadat/Desktop/PoseRAC/CowBytes_pose/video/test...\n",
      "Saving csv poses!\n",
      "Starting to analyze %  /home/sadat/Desktop/PoseRAC/CowBytes_pose/video/test/cd4bc06caf8ea3015a8af0deaace4d3747268f55194cad3992097a5f6dc82b6c_2.mp4\n",
      "Loading  /home/sadat/Desktop/PoseRAC/CowBytes_pose/video/test/cd4bc06caf8ea3015a8af0deaace4d3747268f55194cad3992097a5f6dc82b6c_2.mp4\n",
      "Duration of video [s]:  19.42 , recorded with  24.0 fps!\n",
      "Overall # of frames:  466  found with (before cropping) frame dimensions:  640 360\n",
      "Starting to extract posture\n"
     ]
    },
    {
     "name": "stderr",
     "output_type": "stream",
     "text": [
      "100%|████████████████████████████████████████| 466/466 [00:01<00:00, 251.24it/s]\n"
     ]
    },
    {
     "name": "stdout",
     "output_type": "stream",
     "text": [
      "Saving results in /home/sadat/Desktop/PoseRAC/CowBytes_pose/video/test...\n",
      "Saving csv poses!\n",
      "The videos are analyzed. Now your research can truly start! \n",
      " You can create labeled videos with 'create_labeled_video'\n",
      "If the tracking is not satisfactory for some videos, consider expanding the training set. You can use the function 'extract_outlier_frames' to extract a few representative outlier frames.\n"
     ]
    },
    {
     "data": {
      "text/plain": [
       "'DLC_resnet50_CowBytes-SingleJun30shuffle1_645000'"
      ]
     },
     "execution_count": 6,
     "metadata": {},
     "output_type": "execute_result"
    }
   ],
   "source": [
    "deeplabcut.analyze_videos(path_config_file,['/home/sadat/Desktop/PoseRAC/CowBytes_pose/video/test'],save_as_csv=True)"
   ]
  },
  {
   "cell_type": "markdown",
   "id": "f4b487d1",
   "metadata": {},
   "source": [
    "# Ratios"
   ]
  },
  {
   "cell_type": "code",
   "execution_count": 7,
   "id": "c3be2bc7",
   "metadata": {},
   "outputs": [],
   "source": [
    "columns_ = ['distance_0_1_to_distance_10_17',\n",
    " 'distance_0_6_to_distance_14_18',\n",
    " 'distance_0_12_to_distance_1_17',\n",
    " 'distance_0_25_to_distance_2_10',\n",
    " 'distance_1_4_to_distance_2_7',\n",
    " 'distance_1_4_to_distance_4_6',\n",
    " 'distance_1_4_to_distance_7_14',\n",
    " 'distance_1_4_to_distance_12_23',\n",
    " 'distance_1_5_to_distance_1_17',\n",
    " 'distance_1_5_to_distance_10_22',\n",
    " 'distance_1_5_to_distance_12_26',\n",
    " 'distance_1_6_to_distance_8_13',\n",
    " 'distance_1_8_to_distance_4_8',\n",
    " 'distance_1_12_to_distance_3_26',\n",
    " 'distance_1_18_to_distance_5_18',\n",
    " 'distance_1_21_to_distance_7_15',\n",
    " 'distance_1_22_to_distance_7_20',\n",
    " 'distance_2_4_to_distance_2_11',\n",
    " 'distance_2_5_to_distance_3_8',\n",
    " 'distance_2_5_to_distance_11_12',\n",
    " 'distance_2_7_to_distance_5_7',\n",
    " 'distance_2_10_to_distance_9_10',\n",
    " 'distance_2_17_to_distance_7_12',\n",
    " 'distance_3_4_to_distance_6_18',\n",
    " 'distance_3_4_to_distance_19_22',\n",
    " 'distance_3_6_to_distance_7_26',\n",
    " 'distance_3_6_to_distance_10_19',\n",
    " 'distance_3_8_to_distance_4_8',\n",
    " 'distance_3_19_to_distance_6_13',\n",
    " 'distance_3_20_to_distance_14_21',\n",
    " 'distance_3_23_to_distance_14_24',\n",
    " 'distance_3_25_to_distance_5_10',\n",
    " 'distance_3_25_to_distance_18_22',\n",
    " 'distance_4_11_to_distance_6_11',\n",
    " 'distance_4_12_to_distance_16_19',\n",
    " 'distance_4_13_to_distance_13_19',\n",
    " 'distance_5_7_to_distance_5_17',\n",
    " 'distance_5_7_to_distance_6_18',\n",
    " 'distance_5_7_to_distance_16_18',\n",
    " 'distance_6_7_to_distance_12_17',\n",
    " 'distance_6_9_to_distance_9_23',\n",
    " 'distance_7_22_to_distance_8_10',\n",
    " 'distance_7_23_to_distance_14_26',\n",
    " 'distance_8_12_to_distance_22_25',\n",
    " 'distance_8_22_to_distance_14_24',\n",
    " 'distance_9_13_to_distance_12_13',\n",
    " 'distance_9_18_to_distance_23_25',\n",
    " 'distance_9_21_to_distance_19_23',\n",
    " 'distance_10_15_to_distance_10_23',\n",
    " 'distance_11_13_to_distance_19_24',\n",
    " 'distance_17_23_to_distance_21_24']"
   ]
  },
  {
   "cell_type": "code",
   "execution_count": 9,
   "id": "95178016-ce55-4e6c-8edd-727b75f07dba",
   "metadata": {},
   "outputs": [],
   "source": [
    "# Read csv file and process it\n",
    "csv_files = glob.glob(os.path.join(destination, '*.csv'))"
   ]
  },
  {
   "cell_type": "code",
   "execution_count": 35,
   "id": "30d2d082-1cb5-4f55-8b4f-4c18dbce47c4",
   "metadata": {},
   "outputs": [],
   "source": [
    "for csv_file in csv_files:\n",
    "    df = pd.read_csv(csv_file)\n",
    "    # Dropping the first two rows\n",
    "    df = df.drop([0, 1]).reset_index(drop=True)\n",
    "    \n",
    "    #     # Add 9 empty columns\n",
    "    #     for i in range(18):\n",
    "    #         df[f'empty_col_{i+1}'] = 0\n",
    "    \n",
    "    # Drop the first column\n",
    "    df.drop(['scorer'], axis=1, inplace=True)\n",
    "    \n",
    "    \"\"\"\n",
    "    OPTIONAL: Calculate the ratios.\n",
    "    \"\"\"\n",
    "    # Extract the x and y coordinates\n",
    "    poses_x = df.iloc[:, ::3].astype(float)\n",
    "    poses_y = df.iloc[:, 1::3].astype(float)\n",
    "\n",
    "    # Function to calculate Euclidean distance\n",
    "    def euclidean_distance(x1, y1, x2, y2):\n",
    "        return np.sqrt((x2 - x1)**2 + (y2 - y1)**2)\n",
    "\n",
    "    # Function to calculate the distance ratio\n",
    "    def calculate_ratio(df, idx1, idx2, idx3, idx4):\n",
    "        dist1 = euclidean_distance(poses_x.iloc[:, idx1], poses_y.iloc[:, idx1], poses_x.iloc[:, idx2], poses_y.iloc[:, idx2])\n",
    "        dist2 = euclidean_distance(poses_x.iloc[:, idx3], poses_y.iloc[:, idx3], poses_x.iloc[:, idx4], poses_y.iloc[:, idx4])\n",
    "\n",
    "        # Calculate the ratio and handle division by zero\n",
    "        try:\n",
    "            ratio = dist1 / dist2\n",
    "        except ZeroDivisionError:\n",
    "            ratio = 0\n",
    "\n",
    "        return ratio\n",
    "\n",
    "    # List to store the ratio columns\n",
    "    ratio_df = pd.DataFrame()\n",
    "\n",
    "    # Calculate the ratios\n",
    "    for col in columns_:\n",
    "        # Extract pose indices from the column name\n",
    "        parts = col.split('_to_')\n",
    "        pose_1 = parts[0].split('_')[1:]\n",
    "        pose_2 = parts[1].split('_')[1:]\n",
    "\n",
    "        # Calculate the ratio\n",
    "        ratio_df[col] = calculate_ratio(df, int(pose_1[0]), int(pose_1[1]), int(pose_2[0]), int(pose_2[1]))\n",
    "        \n",
    "    df = ratio_df\n",
    "    \n",
    "    \"\"\"\n",
    "    END OF OPTIONAL PART\n",
    "    \"\"\"\n",
    "\n",
    "    # Convert to np_array and save it\n",
    "    np_array = df.to_numpy(dtype=float)\n",
    "\n",
    "    # Extract the video_name\n",
    "    video_name = os.path.basename(csv_file).split('DLC')[0]\n",
    "\n",
    "    np.save(os.path.join(test_poses_path, video_name), np_array)"
   ]
  },
  {
   "cell_type": "code",
   "execution_count": 36,
   "id": "e264363b-f67c-43bb-852a-283e386414b4",
   "metadata": {},
   "outputs": [
    {
     "name": "stdout",
     "output_type": "stream",
     "text": [
      "Deleted: /home/sadat/Desktop/PoseRAC/CowBytes_pose/video/test/bc55bbdacb62113d0ca532f3d9ed246563c8fa4745f5d86b7e3f8d5ff63d4137_1DLC_resnet50_CowBytes-SingleJun30shuffle1_645000.csv\n",
      "Deleted: /home/sadat/Desktop/PoseRAC/CowBytes_pose/video/test/8f609871c33a11835defd4b9a79a6b30ee4f311d86cc4f513f94515c2cf81126_2DLC_resnet50_CowBytes-SingleJun30shuffle1_645000.csv\n",
      "Deleted: /home/sadat/Desktop/PoseRAC/CowBytes_pose/video/test/94cdae122f4e4e40aa8ab7cdee44926435768e88eca067ed71629a073398967e_1DLC_resnet50_CowBytes-SingleJun30shuffle1_645000.h5\n",
      "Deleted: /home/sadat/Desktop/PoseRAC/CowBytes_pose/video/test/73c745847dc41f6e0c54fefcadfd13613a200d58b7073017124483409638c9be_1DLC_resnet50_CowBytes-SingleJun30shuffle1_645000.h5\n",
      "Deleted: /home/sadat/Desktop/PoseRAC/CowBytes_pose/video/test/94cdae122f4e4e40aa8ab7cdee44926435768e88eca067ed71629a073398967e_1DLC_resnet50_CowBytes-SingleJun30shuffle1_645000_meta.pickle\n",
      "Deleted: /home/sadat/Desktop/PoseRAC/CowBytes_pose/video/test/2052108669082759e3e4b26bcff213b8a64e09a17d501ccb06bb477b4706323e_2DLC_resnet50_CowBytes-SingleJun30shuffle1_645000.h5\n",
      "Deleted: /home/sadat/Desktop/PoseRAC/CowBytes_pose/video/test/4a639247a4b687c6ae226f986414241864b4174f8e30190b62ad4821e5c3f875_2DLC_resnet50_CowBytes-SingleJun30shuffle1_645000_meta.pickle\n",
      "Deleted: /home/sadat/Desktop/PoseRAC/CowBytes_pose/video/test/b57a702fc0cade7763d6c30dbdd01970007eb537e18fc759f2e55132075d36db_2DLC_resnet50_CowBytes-SingleJun30shuffle1_645000_meta.pickle\n",
      "Deleted: /home/sadat/Desktop/PoseRAC/CowBytes_pose/video/test/4fc0428ba0f9882718fb5d7e4196369d2af69c153d42de9717a25a3919782d80_1DLC_resnet50_CowBytes-SingleJun30shuffle1_645000_meta.pickle\n",
      "Deleted: /home/sadat/Desktop/PoseRAC/CowBytes_pose/video/test/73c745847dc41f6e0c54fefcadfd13613a200d58b7073017124483409638c9be_1DLC_resnet50_CowBytes-SingleJun30shuffle1_645000.csv\n",
      "Deleted: /home/sadat/Desktop/PoseRAC/CowBytes_pose/video/test/37c993d16e39c7a06469d11edce24326323c489f75de5dcd0c73eba86d9eb942_2DLC_resnet50_CowBytes-SingleJun30shuffle1_645000.h5\n",
      "Deleted: /home/sadat/Desktop/PoseRAC/CowBytes_pose/video/test/b57a702fc0cade7763d6c30dbdd01970007eb537e18fc759f2e55132075d36db_3DLC_resnet50_CowBytes-SingleJun30shuffle1_645000.csv\n",
      "Deleted: /home/sadat/Desktop/PoseRAC/CowBytes_pose/video/test/284d9ee203882c3bcc2dff888d49ba6ea4da8fbd943e8eab4ff2dc54ae719e55_1DLC_resnet50_CowBytes-SingleJun30shuffle1_645000.h5\n",
      "Deleted: /home/sadat/Desktop/PoseRAC/CowBytes_pose/video/test/14ac6845ecc16c132aa2ecc75f5619c36d603e5f5e9021a3502fabde86a4363f_1DLC_resnet50_CowBytes-SingleJun30shuffle1_645000.csv\n",
      "Deleted: /home/sadat/Desktop/PoseRAC/CowBytes_pose/video/test/e8793e070b7f0381aef1a8f802010929abf59e7dd0014be27be3844ff54ae181_1DLC_resnet50_CowBytes-SingleJun30shuffle1_645000_meta.pickle\n",
      "Deleted: /home/sadat/Desktop/PoseRAC/CowBytes_pose/video/test/884d5cc9ca1caa87c9638e04e2c96996d4ed373050e94e8ea4956a8213b8dd67_1DLC_resnet50_CowBytes-SingleJun30shuffle1_645000_meta.pickle\n",
      "Deleted: /home/sadat/Desktop/PoseRAC/CowBytes_pose/video/test/2052108669082759e3e4b26bcff213b8a64e09a17d501ccb06bb477b4706323e_2DLC_resnet50_CowBytes-SingleJun30shuffle1_645000_meta.pickle\n",
      "Deleted: /home/sadat/Desktop/PoseRAC/CowBytes_pose/video/test/cd4bc06caf8ea3015a8af0deaace4d3747268f55194cad3992097a5f6dc82b6c_1DLC_resnet50_CowBytes-SingleJun30shuffle1_645000.h5\n",
      "Deleted: /home/sadat/Desktop/PoseRAC/CowBytes_pose/video/test/d40739c2aa4b801a2eda2bbb8a554a6ff85e3fc331b719fb52af72bf43224086_2DLC_resnet50_CowBytes-SingleJun30shuffle1_645000.h5\n",
      "Deleted: /home/sadat/Desktop/PoseRAC/CowBytes_pose/video/test/b57a702fc0cade7763d6c30dbdd01970007eb537e18fc759f2e55132075d36db_4DLC_resnet50_CowBytes-SingleJun30shuffle1_645000.csv\n",
      "Deleted: /home/sadat/Desktop/PoseRAC/CowBytes_pose/video/test/a84ae1282abc51e5698d2b63472b892cae3ffdabacc66c9bcf1efabdf637b1e5_2DLC_resnet50_CowBytes-SingleJun30shuffle1_645000.h5\n",
      "Deleted: /home/sadat/Desktop/PoseRAC/CowBytes_pose/video/test/ab4a3fa6085cc8998dad48f20cb5a041d97201723db1d665a90a3ee388f4bb6a_1DLC_resnet50_CowBytes-SingleJun30shuffle1_645000_meta.pickle\n",
      "Deleted: /home/sadat/Desktop/PoseRAC/CowBytes_pose/video/test/37c993d16e39c7a06469d11edce24326323c489f75de5dcd0c73eba86d9eb942_1DLC_resnet50_CowBytes-SingleJun30shuffle1_645000.h5\n",
      "Deleted: /home/sadat/Desktop/PoseRAC/CowBytes_pose/video/test/4a639247a4b687c6ae226f986414241864b4174f8e30190b62ad4821e5c3f875_3DLC_resnet50_CowBytes-SingleJun30shuffle1_645000_meta.pickle\n",
      "Deleted: /home/sadat/Desktop/PoseRAC/CowBytes_pose/video/test/4fc0428ba0f9882718fb5d7e4196369d2af69c153d42de9717a25a3919782d80_1DLC_resnet50_CowBytes-SingleJun30shuffle1_645000.csv\n",
      "Deleted: /home/sadat/Desktop/PoseRAC/CowBytes_pose/video/test/0739b5b782dcfd787ebd280dbe01b1118380b41a717750235d98e6d4a15165c6_1DLC_resnet50_CowBytes-SingleJun30shuffle1_645000_meta.pickle\n",
      "Deleted: /home/sadat/Desktop/PoseRAC/CowBytes_pose/video/test/95040dc15ce9ada82353103a13d1b395c937a9ea6747159f631bfa492b98373f_4DLC_resnet50_CowBytes-SingleJun30shuffle1_645000.csv\n",
      "Deleted: /home/sadat/Desktop/PoseRAC/CowBytes_pose/video/test/056837a2b71e7d93ad65e388dbb0c670a0a440c3ba4f88d82d728ff49d77844c_1DLC_resnet50_CowBytes-SingleJun30shuffle1_645000.csv\n",
      "Deleted: /home/sadat/Desktop/PoseRAC/CowBytes_pose/video/test/d40739c2aa4b801a2eda2bbb8a554a6ff85e3fc331b719fb52af72bf43224086_1DLC_resnet50_CowBytes-SingleJun30shuffle1_645000.csv\n",
      "Deleted: /home/sadat/Desktop/PoseRAC/CowBytes_pose/video/test/fa287b67c5b84b2ee911726f6225435a2d74e49296db21d70cba892e267f755e_1DLC_resnet50_CowBytes-SingleJun30shuffle1_645000.csv\n",
      "Deleted: /home/sadat/Desktop/PoseRAC/CowBytes_pose/video/test/6be40617f843db3e56b60af7a7dac4dad0f1d647838ed30133be97b1984696d0_1DLC_resnet50_CowBytes-SingleJun30shuffle1_645000.csv\n",
      "Deleted: /home/sadat/Desktop/PoseRAC/CowBytes_pose/video/test/4fc0428ba0f9882718fb5d7e4196369d2af69c153d42de9717a25a3919782d80_2DLC_resnet50_CowBytes-SingleJun30shuffle1_645000_meta.pickle\n",
      "Deleted: /home/sadat/Desktop/PoseRAC/CowBytes_pose/video/test/4ff8a74c52c529eceb817a1d89e76a3ae053583c2abc491ecacbe560484b2e7e_3DLC_resnet50_CowBytes-SingleJun30shuffle1_645000_meta.pickle\n",
      "Deleted: /home/sadat/Desktop/PoseRAC/CowBytes_pose/video/test/2f4338b600baddf8b021162744427b9faaf7ec28230638ceeffadbfafd86ba44_2DLC_resnet50_CowBytes-SingleJun30shuffle1_645000_meta.pickle\n",
      "Deleted: /home/sadat/Desktop/PoseRAC/CowBytes_pose/video/test/cd4bc06caf8ea3015a8af0deaace4d3747268f55194cad3992097a5f6dc82b6c_1DLC_resnet50_CowBytes-SingleJun30shuffle1_645000.csv\n",
      "Deleted: /home/sadat/Desktop/PoseRAC/CowBytes_pose/video/test/46e9cc048a75d3c6404323ffa5ff8668c6b96a1640c61a52ec1155ef8b13d8bc_1DLC_resnet50_CowBytes-SingleJun30shuffle1_645000_meta.pickle\n",
      "Deleted: /home/sadat/Desktop/PoseRAC/CowBytes_pose/video/test/0739b5b782dcfd787ebd280dbe01b1118380b41a717750235d98e6d4a15165c6_1DLC_resnet50_CowBytes-SingleJun30shuffle1_645000.h5\n",
      "Deleted: /home/sadat/Desktop/PoseRAC/CowBytes_pose/video/test/a84ae1282abc51e5698d2b63472b892cae3ffdabacc66c9bcf1efabdf637b1e5_2DLC_resnet50_CowBytes-SingleJun30shuffle1_645000.csv\n",
      "Deleted: /home/sadat/Desktop/PoseRAC/CowBytes_pose/video/test/2052108669082759e3e4b26bcff213b8a64e09a17d501ccb06bb477b4706323e_1DLC_resnet50_CowBytes-SingleJun30shuffle1_645000.csv\n",
      "Deleted: /home/sadat/Desktop/PoseRAC/CowBytes_pose/video/test/4ff8a74c52c529eceb817a1d89e76a3ae053583c2abc491ecacbe560484b2e7e_3DLC_resnet50_CowBytes-SingleJun30shuffle1_645000.h5\n",
      "Deleted: /home/sadat/Desktop/PoseRAC/CowBytes_pose/video/test/54d5f63b8d886c2519a1eb5b4a19b409a919c0b94ac345062e8014f08487fdd4_2DLC_resnet50_CowBytes-SingleJun30shuffle1_645000_meta.pickle\n",
      "Deleted: /home/sadat/Desktop/PoseRAC/CowBytes_pose/video/test/ed504fc41cd8eebaf15e43dd858dab5aaadcec172a4773f903e6dfcf8791b38e_1DLC_resnet50_CowBytes-SingleJun30shuffle1_645000_meta.pickle\n",
      "Deleted: /home/sadat/Desktop/PoseRAC/CowBytes_pose/video/test/46e9cc048a75d3c6404323ffa5ff8668c6b96a1640c61a52ec1155ef8b13d8bc_1DLC_resnet50_CowBytes-SingleJun30shuffle1_645000.csv\n",
      "Deleted: /home/sadat/Desktop/PoseRAC/CowBytes_pose/video/test/0739b5b782dcfd787ebd280dbe01b1118380b41a717750235d98e6d4a15165c6_1DLC_resnet50_CowBytes-SingleJun30shuffle1_645000.csv\n",
      "Deleted: /home/sadat/Desktop/PoseRAC/CowBytes_pose/video/test/b57a702fc0cade7763d6c30dbdd01970007eb537e18fc759f2e55132075d36db_4DLC_resnet50_CowBytes-SingleJun30shuffle1_645000.h5\n",
      "Deleted: /home/sadat/Desktop/PoseRAC/CowBytes_pose/video/test/3c86acfbc4289cc6d83adc3268a97e3eb2ecf1316d731b487627190a1e4ac88f_1DLC_resnet50_CowBytes-SingleJun30shuffle1_645000.h5\n",
      "Deleted: /home/sadat/Desktop/PoseRAC/CowBytes_pose/video/test/9c08225dd12cdfdfbdc00043de3d390c275458ebe07d07114df2fedb056f4e08_1DLC_resnet50_CowBytes-SingleJun30shuffle1_645000_meta.pickle\n",
      "Deleted: /home/sadat/Desktop/PoseRAC/CowBytes_pose/video/test/e8793e070b7f0381aef1a8f802010929abf59e7dd0014be27be3844ff54ae181_1DLC_resnet50_CowBytes-SingleJun30shuffle1_645000.csv\n",
      "Deleted: /home/sadat/Desktop/PoseRAC/CowBytes_pose/video/test/10f1a9b90589c2bc657320dc4958fb19ea2d51fbcdb251402e6112e4407de2e7_2DLC_resnet50_CowBytes-SingleJun30shuffle1_645000_meta.pickle\n",
      "Deleted: /home/sadat/Desktop/PoseRAC/CowBytes_pose/video/test/37c993d16e39c7a06469d11edce24326323c489f75de5dcd0c73eba86d9eb942_2DLC_resnet50_CowBytes-SingleJun30shuffle1_645000_meta.pickle\n",
      "Deleted: /home/sadat/Desktop/PoseRAC/CowBytes_pose/video/test/c81785443adb4396f41032f03038f66f5772097bd7bf6f58ca4b2552d12255ec_1DLC_resnet50_CowBytes-SingleJun30shuffle1_645000_meta.pickle\n",
      "Deleted: /home/sadat/Desktop/PoseRAC/CowBytes_pose/video/test/4a639247a4b687c6ae226f986414241864b4174f8e30190b62ad4821e5c3f875_3DLC_resnet50_CowBytes-SingleJun30shuffle1_645000.csv\n",
      "Deleted: /home/sadat/Desktop/PoseRAC/CowBytes_pose/video/test/c81785443adb4396f41032f03038f66f5772097bd7bf6f58ca4b2552d12255ec_1DLC_resnet50_CowBytes-SingleJun30shuffle1_645000.csv\n",
      "Deleted: /home/sadat/Desktop/PoseRAC/CowBytes_pose/video/test/ed504fc41cd8eebaf15e43dd858dab5aaadcec172a4773f903e6dfcf8791b38e_1DLC_resnet50_CowBytes-SingleJun30shuffle1_645000.h5\n",
      "Deleted: /home/sadat/Desktop/PoseRAC/CowBytes_pose/video/test/9f06f158766658820031cf3f32a755a1403bcbcb696ce9febc42105f31f4fa46_1DLC_resnet50_CowBytes-SingleJun30shuffle1_645000.h5\n",
      "Deleted: /home/sadat/Desktop/PoseRAC/CowBytes_pose/video/test/10f1a9b90589c2bc657320dc4958fb19ea2d51fbcdb251402e6112e4407de2e7_1DLC_resnet50_CowBytes-SingleJun30shuffle1_645000.csv\n",
      "Deleted: /home/sadat/Desktop/PoseRAC/CowBytes_pose/video/test/0baf219dc65f856d93429bfcaf5c6d9a1f2a8e813cc452f01f4819d32baca3d5_1DLC_resnet50_CowBytes-SingleJun30shuffle1_645000.h5\n",
      "Deleted: /home/sadat/Desktop/PoseRAC/CowBytes_pose/video/test/b5347ffb6bbbbbc94ac468bf69dfdf119ca4334ed4973a766baf803a7399af95_1DLC_resnet50_CowBytes-SingleJun30shuffle1_645000_meta.pickle\n",
      "Deleted: /home/sadat/Desktop/PoseRAC/CowBytes_pose/video/test/756025eb6d43d923f9f175cb27e2a31cc0412c31de9278f6af8a7dccc225841a_1DLC_resnet50_CowBytes-SingleJun30shuffle1_645000.h5\n",
      "Deleted: /home/sadat/Desktop/PoseRAC/CowBytes_pose/video/test/ed504fc41cd8eebaf15e43dd858dab5aaadcec172a4773f903e6dfcf8791b38e_1DLC_resnet50_CowBytes-SingleJun30shuffle1_645000.csv\n",
      "Deleted: /home/sadat/Desktop/PoseRAC/CowBytes_pose/video/test/747419b046c70c69e41b2857b7af91465dcc0c49e0e91ca96f253da03067dd32_2DLC_resnet50_CowBytes-SingleJun30shuffle1_645000.csv\n",
      "Deleted: /home/sadat/Desktop/PoseRAC/CowBytes_pose/video/test/ab4a3fa6085cc8998dad48f20cb5a041d97201723db1d665a90a3ee388f4bb6a_1DLC_resnet50_CowBytes-SingleJun30shuffle1_645000.csv\n",
      "Deleted: /home/sadat/Desktop/PoseRAC/CowBytes_pose/video/test/85ff8081163fa72a539d5215af9e01f86a078178bd0b2f4b93c71ba033ab456a_1DLC_resnet50_CowBytes-SingleJun30shuffle1_645000_meta.pickle\n",
      "Deleted: /home/sadat/Desktop/PoseRAC/CowBytes_pose/video/test/14ac6845ecc16c132aa2ecc75f5619c36d603e5f5e9021a3502fabde86a4363f_3DLC_resnet50_CowBytes-SingleJun30shuffle1_645000.h5\n",
      "Deleted: /home/sadat/Desktop/PoseRAC/CowBytes_pose/video/test/e151c20b878c4425ce832d2f5120a218f4e31b765ec2a352130a5a877fddd041_2DLC_resnet50_CowBytes-SingleJun30shuffle1_645000_meta.pickle\n",
      "Deleted: /home/sadat/Desktop/PoseRAC/CowBytes_pose/video/test/756025eb6d43d923f9f175cb27e2a31cc0412c31de9278f6af8a7dccc225841a_1DLC_resnet50_CowBytes-SingleJun30shuffle1_645000_meta.pickle\n",
      "Deleted: /home/sadat/Desktop/PoseRAC/CowBytes_pose/video/test/95040dc15ce9ada82353103a13d1b395c937a9ea6747159f631bfa492b98373f_5DLC_resnet50_CowBytes-SingleJun30shuffle1_645000_meta.pickle\n",
      "Deleted: /home/sadat/Desktop/PoseRAC/CowBytes_pose/video/test/f53de12a897705fdec98d52bd3cc1d67ef9293a28f33e765569ca89a7dca1f8b_1DLC_resnet50_CowBytes-SingleJun30shuffle1_645000.h5\n",
      "Deleted: /home/sadat/Desktop/PoseRAC/CowBytes_pose/video/test/6be40617f843db3e56b60af7a7dac4dad0f1d647838ed30133be97b1984696d0_1DLC_resnet50_CowBytes-SingleJun30shuffle1_645000.h5\n",
      "Deleted: /home/sadat/Desktop/PoseRAC/CowBytes_pose/video/test/95040dc15ce9ada82353103a13d1b395c937a9ea6747159f631bfa492b98373f_3DLC_resnet50_CowBytes-SingleJun30shuffle1_645000_meta.pickle\n",
      "Deleted: /home/sadat/Desktop/PoseRAC/CowBytes_pose/video/test/46e9cc048a75d3c6404323ffa5ff8668c6b96a1640c61a52ec1155ef8b13d8bc_2DLC_resnet50_CowBytes-SingleJun30shuffle1_645000_meta.pickle\n",
      "Deleted: /home/sadat/Desktop/PoseRAC/CowBytes_pose/video/test/1cd30bf7a77bbfaaf85acb2b27da587a74e5951067ba962b500fd088e25a937b_1DLC_resnet50_CowBytes-SingleJun30shuffle1_645000.csv\n",
      "Deleted: /home/sadat/Desktop/PoseRAC/CowBytes_pose/video/test/95040dc15ce9ada82353103a13d1b395c937a9ea6747159f631bfa492b98373f_1DLC_resnet50_CowBytes-SingleJun30shuffle1_645000.csv\n",
      "Deleted: /home/sadat/Desktop/PoseRAC/CowBytes_pose/video/test/2f4338b600baddf8b021162744427b9faaf7ec28230638ceeffadbfafd86ba44_1DLC_resnet50_CowBytes-SingleJun30shuffle1_645000_meta.pickle\n",
      "Deleted: /home/sadat/Desktop/PoseRAC/CowBytes_pose/video/test/b1c6177d364b621dccd0cc51731a53a6022dd589b7222a146464538cc28f7dbb_1DLC_resnet50_CowBytes-SingleJun30shuffle1_645000.h5\n",
      "Deleted: /home/sadat/Desktop/PoseRAC/CowBytes_pose/video/test/85ff8081163fa72a539d5215af9e01f86a078178bd0b2f4b93c71ba033ab456a_1DLC_resnet50_CowBytes-SingleJun30shuffle1_645000.h5\n",
      "Deleted: /home/sadat/Desktop/PoseRAC/CowBytes_pose/video/test/4a639247a4b687c6ae226f986414241864b4174f8e30190b62ad4821e5c3f875_3DLC_resnet50_CowBytes-SingleJun30shuffle1_645000.h5\n",
      "Deleted: /home/sadat/Desktop/PoseRAC/CowBytes_pose/video/test/d40739c2aa4b801a2eda2bbb8a554a6ff85e3fc331b719fb52af72bf43224086_3DLC_resnet50_CowBytes-SingleJun30shuffle1_645000_meta.pickle\n",
      "Deleted: /home/sadat/Desktop/PoseRAC/CowBytes_pose/video/test/284d9ee203882c3bcc2dff888d49ba6ea4da8fbd943e8eab4ff2dc54ae719e55_2DLC_resnet50_CowBytes-SingleJun30shuffle1_645000.h5\n",
      "Deleted: /home/sadat/Desktop/PoseRAC/CowBytes_pose/video/test/4a639247a4b687c6ae226f986414241864b4174f8e30190b62ad4821e5c3f875_1DLC_resnet50_CowBytes-SingleJun30shuffle1_645000.h5\n",
      "Deleted: /home/sadat/Desktop/PoseRAC/CowBytes_pose/video/test/884d5cc9ca1caa87c9638e04e2c96996d4ed373050e94e8ea4956a8213b8dd67_1DLC_resnet50_CowBytes-SingleJun30shuffle1_645000.csv\n",
      "Deleted: /home/sadat/Desktop/PoseRAC/CowBytes_pose/video/test/2052108669082759e3e4b26bcff213b8a64e09a17d501ccb06bb477b4706323e_2DLC_resnet50_CowBytes-SingleJun30shuffle1_645000.csv\n",
      "Deleted: /home/sadat/Desktop/PoseRAC/CowBytes_pose/video/test/747419b046c70c69e41b2857b7af91465dcc0c49e0e91ca96f253da03067dd32_1DLC_resnet50_CowBytes-SingleJun30shuffle1_645000.csv\n",
      "Deleted: /home/sadat/Desktop/PoseRAC/CowBytes_pose/video/test/a84ae1282abc51e5698d2b63472b892cae3ffdabacc66c9bcf1efabdf637b1e5_1DLC_resnet50_CowBytes-SingleJun30shuffle1_645000.csv\n",
      "Deleted: /home/sadat/Desktop/PoseRAC/CowBytes_pose/video/test/747419b046c70c69e41b2857b7af91465dcc0c49e0e91ca96f253da03067dd32_1DLC_resnet50_CowBytes-SingleJun30shuffle1_645000.h5\n",
      "Deleted: /home/sadat/Desktop/PoseRAC/CowBytes_pose/video/test/117f0eeafe8d5ac58b984131dff27ba3e285203d3e3ea7d090f300f1e33b3c4b_1DLC_resnet50_CowBytes-SingleJun30shuffle1_645000.csv\n",
      "Deleted: /home/sadat/Desktop/PoseRAC/CowBytes_pose/video/test/4fc0428ba0f9882718fb5d7e4196369d2af69c153d42de9717a25a3919782d80_2DLC_resnet50_CowBytes-SingleJun30shuffle1_645000.h5\n",
      "Deleted: /home/sadat/Desktop/PoseRAC/CowBytes_pose/video/test/14ac6845ecc16c132aa2ecc75f5619c36d603e5f5e9021a3502fabde86a4363f_1DLC_resnet50_CowBytes-SingleJun30shuffle1_645000.h5\n",
      "Deleted: /home/sadat/Desktop/PoseRAC/CowBytes_pose/video/test/37c993d16e39c7a06469d11edce24326323c489f75de5dcd0c73eba86d9eb942_2DLC_resnet50_CowBytes-SingleJun30shuffle1_645000.csv\n",
      "Deleted: /home/sadat/Desktop/PoseRAC/CowBytes_pose/video/test/8f609871c33a11835defd4b9a79a6b30ee4f311d86cc4f513f94515c2cf81126_2DLC_resnet50_CowBytes-SingleJun30shuffle1_645000.h5\n",
      "Deleted: /home/sadat/Desktop/PoseRAC/CowBytes_pose/video/test/4a639247a4b687c6ae226f986414241864b4174f8e30190b62ad4821e5c3f875_1DLC_resnet50_CowBytes-SingleJun30shuffle1_645000.csv\n",
      "Deleted: /home/sadat/Desktop/PoseRAC/CowBytes_pose/video/test/b1c6177d364b621dccd0cc51731a53a6022dd589b7222a146464538cc28f7dbb_1DLC_resnet50_CowBytes-SingleJun30shuffle1_645000.csv\n",
      "Deleted: /home/sadat/Desktop/PoseRAC/CowBytes_pose/video/test/10f1a9b90589c2bc657320dc4958fb19ea2d51fbcdb251402e6112e4407de2e7_4DLC_resnet50_CowBytes-SingleJun30shuffle1_645000_meta.pickle\n",
      "Deleted: /home/sadat/Desktop/PoseRAC/CowBytes_pose/video/test/95040dc15ce9ada82353103a13d1b395c937a9ea6747159f631bfa492b98373f_5DLC_resnet50_CowBytes-SingleJun30shuffle1_645000.h5\n",
      "Deleted: /home/sadat/Desktop/PoseRAC/CowBytes_pose/video/test/b57a702fc0cade7763d6c30dbdd01970007eb537e18fc759f2e55132075d36db_1DLC_resnet50_CowBytes-SingleJun30shuffle1_645000_meta.pickle\n",
      "Deleted: /home/sadat/Desktop/PoseRAC/CowBytes_pose/video/test/4ff8a74c52c529eceb817a1d89e76a3ae053583c2abc491ecacbe560484b2e7e_1DLC_resnet50_CowBytes-SingleJun30shuffle1_645000.csv\n",
      "Deleted: /home/sadat/Desktop/PoseRAC/CowBytes_pose/video/test/d40739c2aa4b801a2eda2bbb8a554a6ff85e3fc331b719fb52af72bf43224086_1DLC_resnet50_CowBytes-SingleJun30shuffle1_645000_meta.pickle\n",
      "Deleted: /home/sadat/Desktop/PoseRAC/CowBytes_pose/video/test/d136ae29ffec48fd62ef8dbf80878dfece480fdbfcb72855a780cdcd03f0d08e_1DLC_resnet50_CowBytes-SingleJun30shuffle1_645000.h5\n",
      "Deleted: /home/sadat/Desktop/PoseRAC/CowBytes_pose/video/test/9c08225dd12cdfdfbdc00043de3d390c275458ebe07d07114df2fedb056f4e08_1DLC_resnet50_CowBytes-SingleJun30shuffle1_645000.h5\n",
      "Deleted: /home/sadat/Desktop/PoseRAC/CowBytes_pose/video/test/e8793e070b7f0381aef1a8f802010929abf59e7dd0014be27be3844ff54ae181_1DLC_resnet50_CowBytes-SingleJun30shuffle1_645000.h5\n",
      "Deleted: /home/sadat/Desktop/PoseRAC/CowBytes_pose/video/test/caa5e097d4d523448fefdcb1926de02fb9c420bc246ea35dc12d27c4881ff5a4_1DLC_resnet50_CowBytes-SingleJun30shuffle1_645000.h5\n",
      "Deleted: /home/sadat/Desktop/PoseRAC/CowBytes_pose/video/test/1cd30bf7a77bbfaaf85acb2b27da587a74e5951067ba962b500fd088e25a937b_1DLC_resnet50_CowBytes-SingleJun30shuffle1_645000.h5\n",
      "Deleted: /home/sadat/Desktop/PoseRAC/CowBytes_pose/video/test/95040dc15ce9ada82353103a13d1b395c937a9ea6747159f631bfa492b98373f_4DLC_resnet50_CowBytes-SingleJun30shuffle1_645000_meta.pickle\n",
      "Deleted: /home/sadat/Desktop/PoseRAC/CowBytes_pose/video/test/95040dc15ce9ada82353103a13d1b395c937a9ea6747159f631bfa492b98373f_2DLC_resnet50_CowBytes-SingleJun30shuffle1_645000.csv\n",
      "Deleted: /home/sadat/Desktop/PoseRAC/CowBytes_pose/video/test/2f4338b600baddf8b021162744427b9faaf7ec28230638ceeffadbfafd86ba44_1DLC_resnet50_CowBytes-SingleJun30shuffle1_645000.h5\n",
      "Deleted: /home/sadat/Desktop/PoseRAC/CowBytes_pose/video/test/46e9cc048a75d3c6404323ffa5ff8668c6b96a1640c61a52ec1155ef8b13d8bc_2DLC_resnet50_CowBytes-SingleJun30shuffle1_645000.h5\n",
      "Deleted: /home/sadat/Desktop/PoseRAC/CowBytes_pose/video/test/95040dc15ce9ada82353103a13d1b395c937a9ea6747159f631bfa492b98373f_3DLC_resnet50_CowBytes-SingleJun30shuffle1_645000.h5\n",
      "Deleted: /home/sadat/Desktop/PoseRAC/CowBytes_pose/video/test/692f8f48cf19ed491f3cf69d8eeef1f7effe01ddf3126a68e20f80070cde51ea_1DLC_resnet50_CowBytes-SingleJun30shuffle1_645000_meta.pickle\n",
      "Deleted: /home/sadat/Desktop/PoseRAC/CowBytes_pose/video/test/a84ae1282abc51e5698d2b63472b892cae3ffdabacc66c9bcf1efabdf637b1e5_1DLC_resnet50_CowBytes-SingleJun30shuffle1_645000.h5\n",
      "Deleted: /home/sadat/Desktop/PoseRAC/CowBytes_pose/video/test/4ff8a74c52c529eceb817a1d89e76a3ae053583c2abc491ecacbe560484b2e7e_3DLC_resnet50_CowBytes-SingleJun30shuffle1_645000.csv\n",
      "Deleted: /home/sadat/Desktop/PoseRAC/CowBytes_pose/video/test/4ff8a74c52c529eceb817a1d89e76a3ae053583c2abc491ecacbe560484b2e7e_1DLC_resnet50_CowBytes-SingleJun30shuffle1_645000.h5\n",
      "Deleted: /home/sadat/Desktop/PoseRAC/CowBytes_pose/video/test/95040dc15ce9ada82353103a13d1b395c937a9ea6747159f631bfa492b98373f_1DLC_resnet50_CowBytes-SingleJun30shuffle1_645000.h5\n",
      "Deleted: /home/sadat/Desktop/PoseRAC/CowBytes_pose/video/test/14ac6845ecc16c132aa2ecc75f5619c36d603e5f5e9021a3502fabde86a4363f_3DLC_resnet50_CowBytes-SingleJun30shuffle1_645000_meta.pickle\n",
      "Deleted: /home/sadat/Desktop/PoseRAC/CowBytes_pose/video/test/6bad72b6e29e294f91508e5dbcc3b762e42c9103ddcf6e70968f7fe8d030a808_1DLC_resnet50_CowBytes-SingleJun30shuffle1_645000.h5\n",
      "Deleted: /home/sadat/Desktop/PoseRAC/CowBytes_pose/video/test/4fc0428ba0f9882718fb5d7e4196369d2af69c153d42de9717a25a3919782d80_2DLC_resnet50_CowBytes-SingleJun30shuffle1_645000.csv\n",
      "Deleted: /home/sadat/Desktop/PoseRAC/CowBytes_pose/video/test/d40739c2aa4b801a2eda2bbb8a554a6ff85e3fc331b719fb52af72bf43224086_3DLC_resnet50_CowBytes-SingleJun30shuffle1_645000.h5\n",
      "Deleted: /home/sadat/Desktop/PoseRAC/CowBytes_pose/video/test/4ff8a74c52c529eceb817a1d89e76a3ae053583c2abc491ecacbe560484b2e7e_2DLC_resnet50_CowBytes-SingleJun30shuffle1_645000_meta.pickle\n",
      "Deleted: /home/sadat/Desktop/PoseRAC/CowBytes_pose/video/test/2052108669082759e3e4b26bcff213b8a64e09a17d501ccb06bb477b4706323e_1DLC_resnet50_CowBytes-SingleJun30shuffle1_645000.h5\n",
      "Deleted: /home/sadat/Desktop/PoseRAC/CowBytes_pose/video/test/b57a702fc0cade7763d6c30dbdd01970007eb537e18fc759f2e55132075d36db_1DLC_resnet50_CowBytes-SingleJun30shuffle1_645000.h5\n",
      "Deleted: /home/sadat/Desktop/PoseRAC/CowBytes_pose/video/test/b57a702fc0cade7763d6c30dbdd01970007eb537e18fc759f2e55132075d36db_2DLC_resnet50_CowBytes-SingleJun30shuffle1_645000.h5\n",
      "Deleted: /home/sadat/Desktop/PoseRAC/CowBytes_pose/video/test/6bad72b6e29e294f91508e5dbcc3b762e42c9103ddcf6e70968f7fe8d030a808_1DLC_resnet50_CowBytes-SingleJun30shuffle1_645000.csv\n",
      "Deleted: /home/sadat/Desktop/PoseRAC/CowBytes_pose/video/test/37c993d16e39c7a06469d11edce24326323c489f75de5dcd0c73eba86d9eb942_3DLC_resnet50_CowBytes-SingleJun30shuffle1_645000.csv\n",
      "Deleted: /home/sadat/Desktop/PoseRAC/CowBytes_pose/video/test/14ac6845ecc16c132aa2ecc75f5619c36d603e5f5e9021a3502fabde86a4363f_3DLC_resnet50_CowBytes-SingleJun30shuffle1_645000.csv\n",
      "Deleted: /home/sadat/Desktop/PoseRAC/CowBytes_pose/video/test/10f1a9b90589c2bc657320dc4958fb19ea2d51fbcdb251402e6112e4407de2e7_3DLC_resnet50_CowBytes-SingleJun30shuffle1_645000.csv\n",
      "Deleted: /home/sadat/Desktop/PoseRAC/CowBytes_pose/video/test/e151c20b878c4425ce832d2f5120a218f4e31b765ec2a352130a5a877fddd041_2DLC_resnet50_CowBytes-SingleJun30shuffle1_645000.csv\n",
      "Deleted: /home/sadat/Desktop/PoseRAC/CowBytes_pose/video/test/b5347ffb6bbbbbc94ac468bf69dfdf119ca4334ed4973a766baf803a7399af95_1DLC_resnet50_CowBytes-SingleJun30shuffle1_645000.h5\n",
      "Deleted: /home/sadat/Desktop/PoseRAC/CowBytes_pose/video/test/caa5e097d4d523448fefdcb1926de02fb9c420bc246ea35dc12d27c4881ff5a4_1DLC_resnet50_CowBytes-SingleJun30shuffle1_645000_meta.pickle\n",
      "Deleted: /home/sadat/Desktop/PoseRAC/CowBytes_pose/video/test/d40739c2aa4b801a2eda2bbb8a554a6ff85e3fc331b719fb52af72bf43224086_2DLC_resnet50_CowBytes-SingleJun30shuffle1_645000.csv\n",
      "Deleted: /home/sadat/Desktop/PoseRAC/CowBytes_pose/video/test/2f4338b600baddf8b021162744427b9faaf7ec28230638ceeffadbfafd86ba44_2DLC_resnet50_CowBytes-SingleJun30shuffle1_645000.csv\n",
      "Deleted: /home/sadat/Desktop/PoseRAC/CowBytes_pose/video/test/95040dc15ce9ada82353103a13d1b395c937a9ea6747159f631bfa492b98373f_3DLC_resnet50_CowBytes-SingleJun30shuffle1_645000.csv\n",
      "Deleted: /home/sadat/Desktop/PoseRAC/CowBytes_pose/video/test/056837a2b71e7d93ad65e388dbb0c670a0a440c3ba4f88d82d728ff49d77844c_1DLC_resnet50_CowBytes-SingleJun30shuffle1_645000.h5\n",
      "Deleted: /home/sadat/Desktop/PoseRAC/CowBytes_pose/video/test/756025eb6d43d923f9f175cb27e2a31cc0412c31de9278f6af8a7dccc225841a_1DLC_resnet50_CowBytes-SingleJun30shuffle1_645000.csv\n",
      "Deleted: /home/sadat/Desktop/PoseRAC/CowBytes_pose/video/test/95040dc15ce9ada82353103a13d1b395c937a9ea6747159f631bfa492b98373f_5DLC_resnet50_CowBytes-SingleJun30shuffle1_645000.csv\n",
      "Deleted: /home/sadat/Desktop/PoseRAC/CowBytes_pose/video/test/3c86acfbc4289cc6d83adc3268a97e3eb2ecf1316d731b487627190a1e4ac88f_2DLC_resnet50_CowBytes-SingleJun30shuffle1_645000.csv\n",
      "Deleted: /home/sadat/Desktop/PoseRAC/CowBytes_pose/video/test/54d5f63b8d886c2519a1eb5b4a19b409a919c0b94ac345062e8014f08487fdd4_2DLC_resnet50_CowBytes-SingleJun30shuffle1_645000.h5\n",
      "Deleted: /home/sadat/Desktop/PoseRAC/CowBytes_pose/video/test/85ff8081163fa72a539d5215af9e01f86a078178bd0b2f4b93c71ba033ab456a_2DLC_resnet50_CowBytes-SingleJun30shuffle1_645000_meta.pickle\n",
      "Deleted: /home/sadat/Desktop/PoseRAC/CowBytes_pose/video/test/f53de12a897705fdec98d52bd3cc1d67ef9293a28f33e765569ca89a7dca1f8b_1DLC_resnet50_CowBytes-SingleJun30shuffle1_645000_meta.pickle\n",
      "Deleted: /home/sadat/Desktop/PoseRAC/CowBytes_pose/video/test/e151c20b878c4425ce832d2f5120a218f4e31b765ec2a352130a5a877fddd041_3DLC_resnet50_CowBytes-SingleJun30shuffle1_645000.h5\n",
      "Deleted: /home/sadat/Desktop/PoseRAC/CowBytes_pose/video/test/0baf219dc65f856d93429bfcaf5c6d9a1f2a8e813cc452f01f4819d32baca3d5_1DLC_resnet50_CowBytes-SingleJun30shuffle1_645000.csv\n",
      "Deleted: /home/sadat/Desktop/PoseRAC/CowBytes_pose/video/test/94cdae122f4e4e40aa8ab7cdee44926435768e88eca067ed71629a073398967e_1DLC_resnet50_CowBytes-SingleJun30shuffle1_645000.csv\n",
      "Deleted: /home/sadat/Desktop/PoseRAC/CowBytes_pose/video/test/74ca4423b3f022a944a4f84d4c57a31c715f69041e3cc5911de83ef128a94b7f_1DLC_resnet50_CowBytes-SingleJun30shuffle1_645000_meta.pickle\n",
      "Deleted: /home/sadat/Desktop/PoseRAC/CowBytes_pose/video/test/743a064e5f68f7acd214bbf9df289c9d6fa16e4f851e321fdfb8a07b80dde08a_1DLC_resnet50_CowBytes-SingleJun30shuffle1_645000.csv\n",
      "Deleted: /home/sadat/Desktop/PoseRAC/CowBytes_pose/video/test/37c993d16e39c7a06469d11edce24326323c489f75de5dcd0c73eba86d9eb942_3DLC_resnet50_CowBytes-SingleJun30shuffle1_645000.h5\n",
      "Deleted: /home/sadat/Desktop/PoseRAC/CowBytes_pose/video/test/a84ae1282abc51e5698d2b63472b892cae3ffdabacc66c9bcf1efabdf637b1e5_1DLC_resnet50_CowBytes-SingleJun30shuffle1_645000_meta.pickle\n",
      "Deleted: /home/sadat/Desktop/PoseRAC/CowBytes_pose/video/test/d40739c2aa4b801a2eda2bbb8a554a6ff85e3fc331b719fb52af72bf43224086_2DLC_resnet50_CowBytes-SingleJun30shuffle1_645000_meta.pickle\n",
      "Deleted: /home/sadat/Desktop/PoseRAC/CowBytes_pose/video/test/cd4bc06caf8ea3015a8af0deaace4d3747268f55194cad3992097a5f6dc82b6c_2DLC_resnet50_CowBytes-SingleJun30shuffle1_645000_meta.pickle\n",
      "Deleted: /home/sadat/Desktop/PoseRAC/CowBytes_pose/video/test/95040dc15ce9ada82353103a13d1b395c937a9ea6747159f631bfa492b98373f_2DLC_resnet50_CowBytes-SingleJun30shuffle1_645000_meta.pickle\n",
      "Deleted: /home/sadat/Desktop/PoseRAC/CowBytes_pose/video/test/cd4bc06caf8ea3015a8af0deaace4d3747268f55194cad3992097a5f6dc82b6c_1DLC_resnet50_CowBytes-SingleJun30shuffle1_645000_meta.pickle\n",
      "Deleted: /home/sadat/Desktop/PoseRAC/CowBytes_pose/video/test/9c7cbf325c3227806845c6b47c600d381965a61f9d6f0e578303bd40821681e4_1DLC_resnet50_CowBytes-SingleJun30shuffle1_645000.h5\n",
      "Deleted: /home/sadat/Desktop/PoseRAC/CowBytes_pose/video/test/bc55bbdacb62113d0ca532f3d9ed246563c8fa4745f5d86b7e3f8d5ff63d4137_1DLC_resnet50_CowBytes-SingleJun30shuffle1_645000.h5\n",
      "Deleted: /home/sadat/Desktop/PoseRAC/CowBytes_pose/video/test/3c86acfbc4289cc6d83adc3268a97e3eb2ecf1316d731b487627190a1e4ac88f_2DLC_resnet50_CowBytes-SingleJun30shuffle1_645000_meta.pickle\n",
      "Deleted: /home/sadat/Desktop/PoseRAC/CowBytes_pose/video/test/85ff8081163fa72a539d5215af9e01f86a078178bd0b2f4b93c71ba033ab456a_3DLC_resnet50_CowBytes-SingleJun30shuffle1_645000.csv\n",
      "Deleted: /home/sadat/Desktop/PoseRAC/CowBytes_pose/video/test/4ff8a74c52c529eceb817a1d89e76a3ae053583c2abc491ecacbe560484b2e7e_2DLC_resnet50_CowBytes-SingleJun30shuffle1_645000.csv\n",
      "Deleted: /home/sadat/Desktop/PoseRAC/CowBytes_pose/video/test/8f609871c33a11835defd4b9a79a6b30ee4f311d86cc4f513f94515c2cf81126_1DLC_resnet50_CowBytes-SingleJun30shuffle1_645000.csv\n",
      "Deleted: /home/sadat/Desktop/PoseRAC/CowBytes_pose/video/test/8f609871c33a11835defd4b9a79a6b30ee4f311d86cc4f513f94515c2cf81126_2DLC_resnet50_CowBytes-SingleJun30shuffle1_645000_meta.pickle\n",
      "Deleted: /home/sadat/Desktop/PoseRAC/CowBytes_pose/video/test/743a064e5f68f7acd214bbf9df289c9d6fa16e4f851e321fdfb8a07b80dde08a_2DLC_resnet50_CowBytes-SingleJun30shuffle1_645000_meta.pickle\n",
      "Deleted: /home/sadat/Desktop/PoseRAC/CowBytes_pose/video/test/85ff8081163fa72a539d5215af9e01f86a078178bd0b2f4b93c71ba033ab456a_1DLC_resnet50_CowBytes-SingleJun30shuffle1_645000.csv\n",
      "Deleted: /home/sadat/Desktop/PoseRAC/CowBytes_pose/video/test/14ac6845ecc16c132aa2ecc75f5619c36d603e5f5e9021a3502fabde86a4363f_2DLC_resnet50_CowBytes-SingleJun30shuffle1_645000.h5\n",
      "Deleted: /home/sadat/Desktop/PoseRAC/CowBytes_pose/video/test/e151c20b878c4425ce832d2f5120a218f4e31b765ec2a352130a5a877fddd041_3DLC_resnet50_CowBytes-SingleJun30shuffle1_645000_meta.pickle\n",
      "Deleted: /home/sadat/Desktop/PoseRAC/CowBytes_pose/video/test/743a064e5f68f7acd214bbf9df289c9d6fa16e4f851e321fdfb8a07b80dde08a_1DLC_resnet50_CowBytes-SingleJun30shuffle1_645000_meta.pickle\n",
      "Deleted: /home/sadat/Desktop/PoseRAC/CowBytes_pose/video/test/10f1a9b90589c2bc657320dc4958fb19ea2d51fbcdb251402e6112e4407de2e7_4DLC_resnet50_CowBytes-SingleJun30shuffle1_645000.csv\n",
      "Deleted: /home/sadat/Desktop/PoseRAC/CowBytes_pose/video/test/10f1a9b90589c2bc657320dc4958fb19ea2d51fbcdb251402e6112e4407de2e7_2DLC_resnet50_CowBytes-SingleJun30shuffle1_645000.h5\n",
      "Deleted: /home/sadat/Desktop/PoseRAC/CowBytes_pose/video/test/4fc0428ba0f9882718fb5d7e4196369d2af69c153d42de9717a25a3919782d80_1DLC_resnet50_CowBytes-SingleJun30shuffle1_645000.h5\n",
      "Deleted: /home/sadat/Desktop/PoseRAC/CowBytes_pose/video/test/6f9416bb9789f27385491d3b308c52f2c5a441038301fcb9f5fe4df5a60b0a45_1DLC_resnet50_CowBytes-SingleJun30shuffle1_645000.csv\n",
      "Deleted: /home/sadat/Desktop/PoseRAC/CowBytes_pose/video/test/74ca4423b3f022a944a4f84d4c57a31c715f69041e3cc5911de83ef128a94b7f_1DLC_resnet50_CowBytes-SingleJun30shuffle1_645000.csv\n",
      "Deleted: /home/sadat/Desktop/PoseRAC/CowBytes_pose/video/test/95040dc15ce9ada82353103a13d1b395c937a9ea6747159f631bfa492b98373f_1DLC_resnet50_CowBytes-SingleJun30shuffle1_645000_meta.pickle\n",
      "Deleted: /home/sadat/Desktop/PoseRAC/CowBytes_pose/video/test/85ff8081163fa72a539d5215af9e01f86a078178bd0b2f4b93c71ba033ab456a_3DLC_resnet50_CowBytes-SingleJun30shuffle1_645000_meta.pickle\n",
      "Deleted: /home/sadat/Desktop/PoseRAC/CowBytes_pose/video/test/d22ff64fcde2391afb2df7381a24370f7152a727144b9b44ac4d2a82a84dddcc_1DLC_resnet50_CowBytes-SingleJun30shuffle1_645000_meta.pickle\n",
      "Deleted: /home/sadat/Desktop/PoseRAC/CowBytes_pose/video/test/10f1a9b90589c2bc657320dc4958fb19ea2d51fbcdb251402e6112e4407de2e7_3DLC_resnet50_CowBytes-SingleJun30shuffle1_645000.h5\n",
      "Deleted: /home/sadat/Desktop/PoseRAC/CowBytes_pose/video/test/c81785443adb4396f41032f03038f66f5772097bd7bf6f58ca4b2552d12255ec_1DLC_resnet50_CowBytes-SingleJun30shuffle1_645000.h5\n",
      "Deleted: /home/sadat/Desktop/PoseRAC/CowBytes_pose/video/test/b57a702fc0cade7763d6c30dbdd01970007eb537e18fc759f2e55132075d36db_3DLC_resnet50_CowBytes-SingleJun30shuffle1_645000_meta.pickle\n",
      "Deleted: /home/sadat/Desktop/PoseRAC/CowBytes_pose/video/test/6f9416bb9789f27385491d3b308c52f2c5a441038301fcb9f5fe4df5a60b0a45_1DLC_resnet50_CowBytes-SingleJun30shuffle1_645000.h5\n",
      "Deleted: /home/sadat/Desktop/PoseRAC/CowBytes_pose/video/test/8f609871c33a11835defd4b9a79a6b30ee4f311d86cc4f513f94515c2cf81126_1DLC_resnet50_CowBytes-SingleJun30shuffle1_645000_meta.pickle\n",
      "Deleted: /home/sadat/Desktop/PoseRAC/CowBytes_pose/video/test/9f06f158766658820031cf3f32a755a1403bcbcb696ce9febc42105f31f4fa46_2DLC_resnet50_CowBytes-SingleJun30shuffle1_645000.csv\n",
      "Deleted: /home/sadat/Desktop/PoseRAC/CowBytes_pose/video/test/95040dc15ce9ada82353103a13d1b395c937a9ea6747159f631bfa492b98373f_4DLC_resnet50_CowBytes-SingleJun30shuffle1_645000.h5\n",
      "Deleted: /home/sadat/Desktop/PoseRAC/CowBytes_pose/video/test/10f1a9b90589c2bc657320dc4958fb19ea2d51fbcdb251402e6112e4407de2e7_1DLC_resnet50_CowBytes-SingleJun30shuffle1_645000.h5\n",
      "Deleted: /home/sadat/Desktop/PoseRAC/CowBytes_pose/video/test/fa287b67c5b84b2ee911726f6225435a2d74e49296db21d70cba892e267f755e_1DLC_resnet50_CowBytes-SingleJun30shuffle1_645000.h5\n",
      "Deleted: /home/sadat/Desktop/PoseRAC/CowBytes_pose/video/test/54d5f63b8d886c2519a1eb5b4a19b409a919c0b94ac345062e8014f08487fdd4_1DLC_resnet50_CowBytes-SingleJun30shuffle1_645000.h5\n",
      "Deleted: /home/sadat/Desktop/PoseRAC/CowBytes_pose/video/test/a84ae1282abc51e5698d2b63472b892cae3ffdabacc66c9bcf1efabdf637b1e5_2DLC_resnet50_CowBytes-SingleJun30shuffle1_645000_meta.pickle\n",
      "Deleted: /home/sadat/Desktop/PoseRAC/CowBytes_pose/video/test/743a064e5f68f7acd214bbf9df289c9d6fa16e4f851e321fdfb8a07b80dde08a_2DLC_resnet50_CowBytes-SingleJun30shuffle1_645000.h5\n",
      "Deleted: /home/sadat/Desktop/PoseRAC/CowBytes_pose/video/test/0c35d3331b192fbe5af76ea6781f56b3b1d0fe526416ef38b2163e163e2d5cb0_1DLC_resnet50_CowBytes-SingleJun30shuffle1_645000_meta.pickle\n",
      "Deleted: /home/sadat/Desktop/PoseRAC/CowBytes_pose/video/test/37c993d16e39c7a06469d11edce24326323c489f75de5dcd0c73eba86d9eb942_1DLC_resnet50_CowBytes-SingleJun30shuffle1_645000.csv\n",
      "Deleted: /home/sadat/Desktop/PoseRAC/CowBytes_pose/video/test/9f06f158766658820031cf3f32a755a1403bcbcb696ce9febc42105f31f4fa46_2DLC_resnet50_CowBytes-SingleJun30shuffle1_645000.h5\n",
      "Deleted: /home/sadat/Desktop/PoseRAC/CowBytes_pose/video/test/cd4bc06caf8ea3015a8af0deaace4d3747268f55194cad3992097a5f6dc82b6c_2DLC_resnet50_CowBytes-SingleJun30shuffle1_645000.csv\n",
      "Deleted: /home/sadat/Desktop/PoseRAC/CowBytes_pose/video/test/117f0eeafe8d5ac58b984131dff27ba3e285203d3e3ea7d090f300f1e33b3c4b_1DLC_resnet50_CowBytes-SingleJun30shuffle1_645000.h5\n",
      "Deleted: /home/sadat/Desktop/PoseRAC/CowBytes_pose/video/test/3c86acfbc4289cc6d83adc3268a97e3eb2ecf1316d731b487627190a1e4ac88f_1DLC_resnet50_CowBytes-SingleJun30shuffle1_645000.csv\n",
      "Deleted: /home/sadat/Desktop/PoseRAC/CowBytes_pose/video/test/284d9ee203882c3bcc2dff888d49ba6ea4da8fbd943e8eab4ff2dc54ae719e55_2DLC_resnet50_CowBytes-SingleJun30shuffle1_645000_meta.pickle\n",
      "Deleted: /home/sadat/Desktop/PoseRAC/CowBytes_pose/video/test/54d5f63b8d886c2519a1eb5b4a19b409a919c0b94ac345062e8014f08487fdd4_1DLC_resnet50_CowBytes-SingleJun30shuffle1_645000_meta.pickle\n",
      "Deleted: /home/sadat/Desktop/PoseRAC/CowBytes_pose/video/test/a08cd526a4dda562d02e7c1abc655fe1726c908ec696fca4b533e0a84312205b_1DLC_resnet50_CowBytes-SingleJun30shuffle1_645000_meta.pickle\n",
      "Deleted: /home/sadat/Desktop/PoseRAC/CowBytes_pose/video/test/4a639247a4b687c6ae226f986414241864b4174f8e30190b62ad4821e5c3f875_2DLC_resnet50_CowBytes-SingleJun30shuffle1_645000.csv\n",
      "Deleted: /home/sadat/Desktop/PoseRAC/CowBytes_pose/video/test/e151c20b878c4425ce832d2f5120a218f4e31b765ec2a352130a5a877fddd041_1DLC_resnet50_CowBytes-SingleJun30shuffle1_645000.csv\n",
      "Deleted: /home/sadat/Desktop/PoseRAC/CowBytes_pose/video/test/4a639247a4b687c6ae226f986414241864b4174f8e30190b62ad4821e5c3f875_2DLC_resnet50_CowBytes-SingleJun30shuffle1_645000.h5\n",
      "Deleted: /home/sadat/Desktop/PoseRAC/CowBytes_pose/video/test/692f8f48cf19ed491f3cf69d8eeef1f7effe01ddf3126a68e20f80070cde51ea_1DLC_resnet50_CowBytes-SingleJun30shuffle1_645000.csv\n",
      "Deleted: /home/sadat/Desktop/PoseRAC/CowBytes_pose/video/test/f53de12a897705fdec98d52bd3cc1d67ef9293a28f33e765569ca89a7dca1f8b_1DLC_resnet50_CowBytes-SingleJun30shuffle1_645000.csv\n",
      "Deleted: /home/sadat/Desktop/PoseRAC/CowBytes_pose/video/test/37c993d16e39c7a06469d11edce24326323c489f75de5dcd0c73eba86d9eb942_3DLC_resnet50_CowBytes-SingleJun30shuffle1_645000_meta.pickle\n",
      "Deleted: /home/sadat/Desktop/PoseRAC/CowBytes_pose/video/test/9c7cbf325c3227806845c6b47c600d381965a61f9d6f0e578303bd40821681e4_1DLC_resnet50_CowBytes-SingleJun30shuffle1_645000.csv\n",
      "Deleted: /home/sadat/Desktop/PoseRAC/CowBytes_pose/video/test/3c86acfbc4289cc6d83adc3268a97e3eb2ecf1316d731b487627190a1e4ac88f_2DLC_resnet50_CowBytes-SingleJun30shuffle1_645000.h5\n",
      "Deleted: /home/sadat/Desktop/PoseRAC/CowBytes_pose/video/test/117f0eeafe8d5ac58b984131dff27ba3e285203d3e3ea7d090f300f1e33b3c4b_1DLC_resnet50_CowBytes-SingleJun30shuffle1_645000_meta.pickle\n",
      "Deleted: /home/sadat/Desktop/PoseRAC/CowBytes_pose/video/test/2052108669082759e3e4b26bcff213b8a64e09a17d501ccb06bb477b4706323e_1DLC_resnet50_CowBytes-SingleJun30shuffle1_645000_meta.pickle\n",
      "Deleted: /home/sadat/Desktop/PoseRAC/CowBytes_pose/video/test/46e9cc048a75d3c6404323ffa5ff8668c6b96a1640c61a52ec1155ef8b13d8bc_2DLC_resnet50_CowBytes-SingleJun30shuffle1_645000.csv\n",
      "Deleted: /home/sadat/Desktop/PoseRAC/CowBytes_pose/video/test/284d9ee203882c3bcc2dff888d49ba6ea4da8fbd943e8eab4ff2dc54ae719e55_1DLC_resnet50_CowBytes-SingleJun30shuffle1_645000.csv\n",
      "Deleted: /home/sadat/Desktop/PoseRAC/CowBytes_pose/video/test/10f1a9b90589c2bc657320dc4958fb19ea2d51fbcdb251402e6112e4407de2e7_1DLC_resnet50_CowBytes-SingleJun30shuffle1_645000_meta.pickle\n",
      "Deleted: /home/sadat/Desktop/PoseRAC/CowBytes_pose/video/test/e151c20b878c4425ce832d2f5120a218f4e31b765ec2a352130a5a877fddd041_1DLC_resnet50_CowBytes-SingleJun30shuffle1_645000_meta.pickle\n",
      "Deleted: /home/sadat/Desktop/PoseRAC/CowBytes_pose/video/test/6f9416bb9789f27385491d3b308c52f2c5a441038301fcb9f5fe4df5a60b0a45_1DLC_resnet50_CowBytes-SingleJun30shuffle1_645000_meta.pickle\n",
      "Deleted: /home/sadat/Desktop/PoseRAC/CowBytes_pose/video/test/14ac6845ecc16c132aa2ecc75f5619c36d603e5f5e9021a3502fabde86a4363f_2DLC_resnet50_CowBytes-SingleJun30shuffle1_645000_meta.pickle\n",
      "Deleted: /home/sadat/Desktop/PoseRAC/CowBytes_pose/video/test/747419b046c70c69e41b2857b7af91465dcc0c49e0e91ca96f253da03067dd32_2DLC_resnet50_CowBytes-SingleJun30shuffle1_645000_meta.pickle\n",
      "Deleted: /home/sadat/Desktop/PoseRAC/CowBytes_pose/video/test/10f1a9b90589c2bc657320dc4958fb19ea2d51fbcdb251402e6112e4407de2e7_2DLC_resnet50_CowBytes-SingleJun30shuffle1_645000.csv\n",
      "Deleted: /home/sadat/Desktop/PoseRAC/CowBytes_pose/video/test/10f1a9b90589c2bc657320dc4958fb19ea2d51fbcdb251402e6112e4407de2e7_3DLC_resnet50_CowBytes-SingleJun30shuffle1_645000_meta.pickle\n",
      "Deleted: /home/sadat/Desktop/PoseRAC/CowBytes_pose/video/test/0baf219dc65f856d93429bfcaf5c6d9a1f2a8e813cc452f01f4819d32baca3d5_1DLC_resnet50_CowBytes-SingleJun30shuffle1_645000_meta.pickle\n",
      "Deleted: /home/sadat/Desktop/PoseRAC/CowBytes_pose/video/test/d22ff64fcde2391afb2df7381a24370f7152a727144b9b44ac4d2a82a84dddcc_1DLC_resnet50_CowBytes-SingleJun30shuffle1_645000.h5\n",
      "Deleted: /home/sadat/Desktop/PoseRAC/CowBytes_pose/video/test/cd4bc06caf8ea3015a8af0deaace4d3747268f55194cad3992097a5f6dc82b6c_2DLC_resnet50_CowBytes-SingleJun30shuffle1_645000.h5\n",
      "Deleted: /home/sadat/Desktop/PoseRAC/CowBytes_pose/video/test/a08cd526a4dda562d02e7c1abc655fe1726c908ec696fca4b533e0a84312205b_1DLC_resnet50_CowBytes-SingleJun30shuffle1_645000.csv\n",
      "Deleted: /home/sadat/Desktop/PoseRAC/CowBytes_pose/video/test/3c86acfbc4289cc6d83adc3268a97e3eb2ecf1316d731b487627190a1e4ac88f_1DLC_resnet50_CowBytes-SingleJun30shuffle1_645000_meta.pickle\n",
      "Deleted: /home/sadat/Desktop/PoseRAC/CowBytes_pose/video/test/0c35d3331b192fbe5af76ea6781f56b3b1d0fe526416ef38b2163e163e2d5cb0_1DLC_resnet50_CowBytes-SingleJun30shuffle1_645000.h5\n",
      "Deleted: /home/sadat/Desktop/PoseRAC/CowBytes_pose/video/test/d22ff64fcde2391afb2df7381a24370f7152a727144b9b44ac4d2a82a84dddcc_1DLC_resnet50_CowBytes-SingleJun30shuffle1_645000.csv\n",
      "Deleted: /home/sadat/Desktop/PoseRAC/CowBytes_pose/video/test/14ac6845ecc16c132aa2ecc75f5619c36d603e5f5e9021a3502fabde86a4363f_2DLC_resnet50_CowBytes-SingleJun30shuffle1_645000.csv\n",
      "Deleted: /home/sadat/Desktop/PoseRAC/CowBytes_pose/video/test/884d5cc9ca1caa87c9638e04e2c96996d4ed373050e94e8ea4956a8213b8dd67_1DLC_resnet50_CowBytes-SingleJun30shuffle1_645000.h5\n",
      "Deleted: /home/sadat/Desktop/PoseRAC/CowBytes_pose/video/test/2f4338b600baddf8b021162744427b9faaf7ec28230638ceeffadbfafd86ba44_1DLC_resnet50_CowBytes-SingleJun30shuffle1_645000.csv\n",
      "Deleted: /home/sadat/Desktop/PoseRAC/CowBytes_pose/video/test/85ff8081163fa72a539d5215af9e01f86a078178bd0b2f4b93c71ba033ab456a_3DLC_resnet50_CowBytes-SingleJun30shuffle1_645000.h5\n",
      "Deleted: /home/sadat/Desktop/PoseRAC/CowBytes_pose/video/test/d136ae29ffec48fd62ef8dbf80878dfece480fdbfcb72855a780cdcd03f0d08e_1DLC_resnet50_CowBytes-SingleJun30shuffle1_645000_meta.pickle\n",
      "Deleted: /home/sadat/Desktop/PoseRAC/CowBytes_pose/video/test/a08cd526a4dda562d02e7c1abc655fe1726c908ec696fca4b533e0a84312205b_1DLC_resnet50_CowBytes-SingleJun30shuffle1_645000.h5\n",
      "Deleted: /home/sadat/Desktop/PoseRAC/CowBytes_pose/video/test/6be40617f843db3e56b60af7a7dac4dad0f1d647838ed30133be97b1984696d0_1DLC_resnet50_CowBytes-SingleJun30shuffle1_645000_meta.pickle\n",
      "Deleted: /home/sadat/Desktop/PoseRAC/CowBytes_pose/video/test/46e9cc048a75d3c6404323ffa5ff8668c6b96a1640c61a52ec1155ef8b13d8bc_1DLC_resnet50_CowBytes-SingleJun30shuffle1_645000.h5\n",
      "Deleted: /home/sadat/Desktop/PoseRAC/CowBytes_pose/video/test/d40739c2aa4b801a2eda2bbb8a554a6ff85e3fc331b719fb52af72bf43224086_3DLC_resnet50_CowBytes-SingleJun30shuffle1_645000.csv\n",
      "Deleted: /home/sadat/Desktop/PoseRAC/CowBytes_pose/video/test/e151c20b878c4425ce832d2f5120a218f4e31b765ec2a352130a5a877fddd041_2DLC_resnet50_CowBytes-SingleJun30shuffle1_645000.h5\n",
      "Deleted: /home/sadat/Desktop/PoseRAC/CowBytes_pose/video/test/b57a702fc0cade7763d6c30dbdd01970007eb537e18fc759f2e55132075d36db_3DLC_resnet50_CowBytes-SingleJun30shuffle1_645000.h5\n",
      "Deleted: /home/sadat/Desktop/PoseRAC/CowBytes_pose/video/test/4ff8a74c52c529eceb817a1d89e76a3ae053583c2abc491ecacbe560484b2e7e_1DLC_resnet50_CowBytes-SingleJun30shuffle1_645000_meta.pickle\n",
      "Deleted: /home/sadat/Desktop/PoseRAC/CowBytes_pose/video/test/056837a2b71e7d93ad65e388dbb0c670a0a440c3ba4f88d82d728ff49d77844c_1DLC_resnet50_CowBytes-SingleJun30shuffle1_645000_meta.pickle\n",
      "Deleted: /home/sadat/Desktop/PoseRAC/CowBytes_pose/video/test/b5347ffb6bbbbbc94ac468bf69dfdf119ca4334ed4973a766baf803a7399af95_1DLC_resnet50_CowBytes-SingleJun30shuffle1_645000.csv\n",
      "Deleted: /home/sadat/Desktop/PoseRAC/CowBytes_pose/video/test/9f06f158766658820031cf3f32a755a1403bcbcb696ce9febc42105f31f4fa46_2DLC_resnet50_CowBytes-SingleJun30shuffle1_645000_meta.pickle\n",
      "Deleted: /home/sadat/Desktop/PoseRAC/CowBytes_pose/video/test/b1c6177d364b621dccd0cc51731a53a6022dd589b7222a146464538cc28f7dbb_1DLC_resnet50_CowBytes-SingleJun30shuffle1_645000_meta.pickle\n",
      "Deleted: /home/sadat/Desktop/PoseRAC/CowBytes_pose/video/test/54d5f63b8d886c2519a1eb5b4a19b409a919c0b94ac345062e8014f08487fdd4_2DLC_resnet50_CowBytes-SingleJun30shuffle1_645000.csv\n",
      "Deleted: /home/sadat/Desktop/PoseRAC/CowBytes_pose/video/test/fa287b67c5b84b2ee911726f6225435a2d74e49296db21d70cba892e267f755e_1DLC_resnet50_CowBytes-SingleJun30shuffle1_645000_meta.pickle\n",
      "Deleted: /home/sadat/Desktop/PoseRAC/CowBytes_pose/video/test/d136ae29ffec48fd62ef8dbf80878dfece480fdbfcb72855a780cdcd03f0d08e_1DLC_resnet50_CowBytes-SingleJun30shuffle1_645000.csv\n",
      "Deleted: /home/sadat/Desktop/PoseRAC/CowBytes_pose/video/test/743a064e5f68f7acd214bbf9df289c9d6fa16e4f851e321fdfb8a07b80dde08a_2DLC_resnet50_CowBytes-SingleJun30shuffle1_645000.csv\n",
      "Deleted: /home/sadat/Desktop/PoseRAC/CowBytes_pose/video/test/2f4338b600baddf8b021162744427b9faaf7ec28230638ceeffadbfafd86ba44_2DLC_resnet50_CowBytes-SingleJun30shuffle1_645000.h5\n",
      "Deleted: /home/sadat/Desktop/PoseRAC/CowBytes_pose/video/test/4a639247a4b687c6ae226f986414241864b4174f8e30190b62ad4821e5c3f875_1DLC_resnet50_CowBytes-SingleJun30shuffle1_645000_meta.pickle\n",
      "Deleted: /home/sadat/Desktop/PoseRAC/CowBytes_pose/video/test/4ff8a74c52c529eceb817a1d89e76a3ae053583c2abc491ecacbe560484b2e7e_2DLC_resnet50_CowBytes-SingleJun30shuffle1_645000.h5\n",
      "Deleted: /home/sadat/Desktop/PoseRAC/CowBytes_pose/video/test/85ff8081163fa72a539d5215af9e01f86a078178bd0b2f4b93c71ba033ab456a_2DLC_resnet50_CowBytes-SingleJun30shuffle1_645000.h5\n",
      "Deleted: /home/sadat/Desktop/PoseRAC/CowBytes_pose/video/test/caa5e097d4d523448fefdcb1926de02fb9c420bc246ea35dc12d27c4881ff5a4_1DLC_resnet50_CowBytes-SingleJun30shuffle1_645000.csv\n",
      "Deleted: /home/sadat/Desktop/PoseRAC/CowBytes_pose/video/test/692f8f48cf19ed491f3cf69d8eeef1f7effe01ddf3126a68e20f80070cde51ea_1DLC_resnet50_CowBytes-SingleJun30shuffle1_645000.h5\n",
      "Deleted: /home/sadat/Desktop/PoseRAC/CowBytes_pose/video/test/747419b046c70c69e41b2857b7af91465dcc0c49e0e91ca96f253da03067dd32_2DLC_resnet50_CowBytes-SingleJun30shuffle1_645000.h5\n",
      "Deleted: /home/sadat/Desktop/PoseRAC/CowBytes_pose/video/test/85ff8081163fa72a539d5215af9e01f86a078178bd0b2f4b93c71ba033ab456a_2DLC_resnet50_CowBytes-SingleJun30shuffle1_645000.csv\n",
      "Deleted: /home/sadat/Desktop/PoseRAC/CowBytes_pose/video/test/743a064e5f68f7acd214bbf9df289c9d6fa16e4f851e321fdfb8a07b80dde08a_1DLC_resnet50_CowBytes-SingleJun30shuffle1_645000.h5\n",
      "Deleted: /home/sadat/Desktop/PoseRAC/CowBytes_pose/video/test/9f06f158766658820031cf3f32a755a1403bcbcb696ce9febc42105f31f4fa46_1DLC_resnet50_CowBytes-SingleJun30shuffle1_645000.csv\n",
      "Deleted: /home/sadat/Desktop/PoseRAC/CowBytes_pose/video/test/6bad72b6e29e294f91508e5dbcc3b762e42c9103ddcf6e70968f7fe8d030a808_1DLC_resnet50_CowBytes-SingleJun30shuffle1_645000_meta.pickle\n",
      "Deleted: /home/sadat/Desktop/PoseRAC/CowBytes_pose/video/test/747419b046c70c69e41b2857b7af91465dcc0c49e0e91ca96f253da03067dd32_1DLC_resnet50_CowBytes-SingleJun30shuffle1_645000_meta.pickle\n",
      "Deleted: /home/sadat/Desktop/PoseRAC/CowBytes_pose/video/test/1cd30bf7a77bbfaaf85acb2b27da587a74e5951067ba962b500fd088e25a937b_1DLC_resnet50_CowBytes-SingleJun30shuffle1_645000_meta.pickle\n",
      "Deleted: /home/sadat/Desktop/PoseRAC/CowBytes_pose/video/test/14ac6845ecc16c132aa2ecc75f5619c36d603e5f5e9021a3502fabde86a4363f_1DLC_resnet50_CowBytes-SingleJun30shuffle1_645000_meta.pickle\n",
      "Deleted: /home/sadat/Desktop/PoseRAC/CowBytes_pose/video/test/95040dc15ce9ada82353103a13d1b395c937a9ea6747159f631bfa492b98373f_2DLC_resnet50_CowBytes-SingleJun30shuffle1_645000.h5\n",
      "Deleted: /home/sadat/Desktop/PoseRAC/CowBytes_pose/video/test/37c993d16e39c7a06469d11edce24326323c489f75de5dcd0c73eba86d9eb942_1DLC_resnet50_CowBytes-SingleJun30shuffle1_645000_meta.pickle\n",
      "Deleted: /home/sadat/Desktop/PoseRAC/CowBytes_pose/video/test/d40739c2aa4b801a2eda2bbb8a554a6ff85e3fc331b719fb52af72bf43224086_1DLC_resnet50_CowBytes-SingleJun30shuffle1_645000.h5\n",
      "Deleted: /home/sadat/Desktop/PoseRAC/CowBytes_pose/video/test/0c35d3331b192fbe5af76ea6781f56b3b1d0fe526416ef38b2163e163e2d5cb0_1DLC_resnet50_CowBytes-SingleJun30shuffle1_645000.csv\n",
      "Deleted: /home/sadat/Desktop/PoseRAC/CowBytes_pose/video/test/bc55bbdacb62113d0ca532f3d9ed246563c8fa4745f5d86b7e3f8d5ff63d4137_1DLC_resnet50_CowBytes-SingleJun30shuffle1_645000_meta.pickle\n",
      "Deleted: /home/sadat/Desktop/PoseRAC/CowBytes_pose/video/test/ab4a3fa6085cc8998dad48f20cb5a041d97201723db1d665a90a3ee388f4bb6a_1DLC_resnet50_CowBytes-SingleJun30shuffle1_645000.h5\n",
      "Deleted: /home/sadat/Desktop/PoseRAC/CowBytes_pose/video/test/74ca4423b3f022a944a4f84d4c57a31c715f69041e3cc5911de83ef128a94b7f_1DLC_resnet50_CowBytes-SingleJun30shuffle1_645000.h5\n",
      "Deleted: /home/sadat/Desktop/PoseRAC/CowBytes_pose/video/test/b57a702fc0cade7763d6c30dbdd01970007eb537e18fc759f2e55132075d36db_1DLC_resnet50_CowBytes-SingleJun30shuffle1_645000.csv\n",
      "Deleted: /home/sadat/Desktop/PoseRAC/CowBytes_pose/video/test/b57a702fc0cade7763d6c30dbdd01970007eb537e18fc759f2e55132075d36db_4DLC_resnet50_CowBytes-SingleJun30shuffle1_645000_meta.pickle\n",
      "Deleted: /home/sadat/Desktop/PoseRAC/CowBytes_pose/video/test/9c7cbf325c3227806845c6b47c600d381965a61f9d6f0e578303bd40821681e4_1DLC_resnet50_CowBytes-SingleJun30shuffle1_645000_meta.pickle\n",
      "Deleted: /home/sadat/Desktop/PoseRAC/CowBytes_pose/video/test/10f1a9b90589c2bc657320dc4958fb19ea2d51fbcdb251402e6112e4407de2e7_4DLC_resnet50_CowBytes-SingleJun30shuffle1_645000.h5\n",
      "Deleted: /home/sadat/Desktop/PoseRAC/CowBytes_pose/video/test/e151c20b878c4425ce832d2f5120a218f4e31b765ec2a352130a5a877fddd041_1DLC_resnet50_CowBytes-SingleJun30shuffle1_645000.h5\n",
      "Deleted: /home/sadat/Desktop/PoseRAC/CowBytes_pose/video/test/73c745847dc41f6e0c54fefcadfd13613a200d58b7073017124483409638c9be_1DLC_resnet50_CowBytes-SingleJun30shuffle1_645000_meta.pickle\n",
      "Deleted: /home/sadat/Desktop/PoseRAC/CowBytes_pose/video/test/284d9ee203882c3bcc2dff888d49ba6ea4da8fbd943e8eab4ff2dc54ae719e55_1DLC_resnet50_CowBytes-SingleJun30shuffle1_645000_meta.pickle\n",
      "Deleted: /home/sadat/Desktop/PoseRAC/CowBytes_pose/video/test/e151c20b878c4425ce832d2f5120a218f4e31b765ec2a352130a5a877fddd041_3DLC_resnet50_CowBytes-SingleJun30shuffle1_645000.csv\n",
      "Deleted: /home/sadat/Desktop/PoseRAC/CowBytes_pose/video/test/284d9ee203882c3bcc2dff888d49ba6ea4da8fbd943e8eab4ff2dc54ae719e55_2DLC_resnet50_CowBytes-SingleJun30shuffle1_645000.csv\n",
      "Deleted: /home/sadat/Desktop/PoseRAC/CowBytes_pose/video/test/8f609871c33a11835defd4b9a79a6b30ee4f311d86cc4f513f94515c2cf81126_1DLC_resnet50_CowBytes-SingleJun30shuffle1_645000.h5\n",
      "Deleted: /home/sadat/Desktop/PoseRAC/CowBytes_pose/video/test/9f06f158766658820031cf3f32a755a1403bcbcb696ce9febc42105f31f4fa46_1DLC_resnet50_CowBytes-SingleJun30shuffle1_645000_meta.pickle\n",
      "Deleted: /home/sadat/Desktop/PoseRAC/CowBytes_pose/video/test/9c08225dd12cdfdfbdc00043de3d390c275458ebe07d07114df2fedb056f4e08_1DLC_resnet50_CowBytes-SingleJun30shuffle1_645000.csv\n",
      "Deleted: /home/sadat/Desktop/PoseRAC/CowBytes_pose/video/test/54d5f63b8d886c2519a1eb5b4a19b409a919c0b94ac345062e8014f08487fdd4_1DLC_resnet50_CowBytes-SingleJun30shuffle1_645000.csv\n",
      "Deleted: /home/sadat/Desktop/PoseRAC/CowBytes_pose/video/test/b57a702fc0cade7763d6c30dbdd01970007eb537e18fc759f2e55132075d36db_2DLC_resnet50_CowBytes-SingleJun30shuffle1_645000.csv\n"
     ]
    }
   ],
   "source": [
    "# Delete any temp files\n",
    "all_files = glob.glob(os.path.join(destination, '*'))\n",
    "\n",
    "# Filter out files that are not JPG\n",
    "non_mp4_files = [f for f in all_files if not f.lower().endswith('.mp4')]\n",
    "\n",
    "# Delete non-JPG files\n",
    "for file in non_mp4_files:\n",
    "    try:\n",
    "        os.remove(file)\n",
    "        print(f\"Deleted: {file}\")\n",
    "    except Exception as e:\n",
    "        print(f\"Error deleting {file}: {e}\")"
   ]
  }
 ],
 "metadata": {
  "kernelspec": {
   "display_name": "deeplabcut",
   "language": "python",
   "name": "deeplabcut"
  },
  "language_info": {
   "codemirror_mode": {
    "name": "ipython",
    "version": 3
   },
   "file_extension": ".py",
   "mimetype": "text/x-python",
   "name": "python",
   "nbconvert_exporter": "python",
   "pygments_lexer": "ipython3",
   "version": "3.8.18"
  }
 },
 "nbformat": 4,
 "nbformat_minor": 5
}
