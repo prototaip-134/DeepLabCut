{
 "cells": [
  {
   "cell_type": "code",
   "execution_count": 1,
   "id": "72c03454-34b9-40b6-b50c-b99f029639cc",
   "metadata": {},
   "outputs": [
    {
     "name": "stderr",
     "output_type": "stream",
     "text": [
      "2024-09-02 16:15:56.343206: I tensorflow/core/platform/cpu_feature_guard.cc:193] This TensorFlow binary is optimized with oneAPI Deep Neural Network Library (oneDNN) to use the following CPU instructions in performance-critical operations:  AVX2 FMA\n",
      "To enable them in other operations, rebuild TensorFlow with the appropriate compiler flags.\n",
      "2024-09-02 16:15:56.976233: W tensorflow/compiler/xla/stream_executor/platform/default/dso_loader.cc:64] Could not load dynamic library 'libnvinfer.so.7'; dlerror: libnvinfer.so.7: cannot open shared object file: No such file or directory; LD_LIBRARY_PATH: /usr/local/cuda-11.2/lib64:\n",
      "2024-09-02 16:15:56.976314: W tensorflow/compiler/xla/stream_executor/platform/default/dso_loader.cc:64] Could not load dynamic library 'libnvinfer_plugin.so.7'; dlerror: libnvinfer_plugin.so.7: cannot open shared object file: No such file or directory; LD_LIBRARY_PATH: /usr/local/cuda-11.2/lib64:\n",
      "2024-09-02 16:15:56.976321: W tensorflow/compiler/tf2tensorrt/utils/py_utils.cc:38] TF-TRT Warning: Cannot dlopen some TensorRT libraries. If you would like to use Nvidia GPU with TensorRT, please make sure the missing libraries mentioned above are installed properly.\n"
     ]
    },
    {
     "name": "stdout",
     "output_type": "stream",
     "text": [
      "Loading DLC 2.3.10...\n"
     ]
    }
   ],
   "source": [
    "import numpy as np\n",
    "import pandas as pd\n",
    "import glob\n",
    "import shutil\n",
    "import os\n",
    "import deeplabcut"
   ]
  },
  {
   "cell_type": "code",
   "execution_count": 3,
   "id": "e18d7a21-8b0a-4b40-9564-b43fd815b7fb",
   "metadata": {},
   "outputs": [
    {
     "name": "stdout",
     "output_type": "stream",
     "text": [
      "This is not an official demo dataset.\n",
      "Loaded, now creating training data...\n",
      "Downloading a ImageNet-pretrained model from http://download.tensorflow.org/models/resnet_v1_50_2016_08_28.tar.gz....\n",
      "The training dataset is successfully created. Use the function 'train_network' to start training. Happy training!\n"
     ]
    }
   ],
   "source": [
    "# Note that parameters of this project can be seen at: *openfield-Pranav-2018-10-30/config.yaml*\n",
    "path_config_file = os.getcwd() + '/examples/CowBytes-Single-Sadat-2024-06-30/config.yaml'\n",
    "deeplabcut.load_demo_data(path_config_file)"
   ]
  },
  {
   "cell_type": "markdown",
   "id": "87603dc6-63cc-4575-a63c-a8653f7cce6a",
   "metadata": {},
   "source": [
    "## Target Formatting"
   ]
  },
  {
   "cell_type": "code",
   "execution_count": null,
   "id": "77a5d19b-c578-40f1-b1dd-1c1afd201c9c",
   "metadata": {},
   "outputs": [],
   "source": [
    "# Load the .npy file\n",
    "data = np.load('./test1463.npy')\n",
    "\n",
    "# Print the data or use it as needed\n",
    "print(data)"
   ]
  },
  {
   "cell_type": "code",
   "execution_count": null,
   "id": "51fb164f-0b95-48b7-aab2-ed25cd9373ea",
   "metadata": {},
   "outputs": [],
   "source": [
    "data.shape"
   ]
  },
  {
   "cell_type": "code",
   "execution_count": null,
   "id": "a7df92fd-c68c-4eb7-84ac-08d0094cffb8",
   "metadata": {},
   "outputs": [],
   "source": [
    "type(data)"
   ]
  },
  {
   "cell_type": "code",
   "execution_count": null,
   "id": "5b16984e-6dfe-4e18-b627-b3cbe982cc46",
   "metadata": {},
   "outputs": [],
   "source": [
    "# Load the .npy file\n",
    "data = np.load('./ab4a3fa6085cc8998dad48f20cb5a041d97201723db1d665a90a3ee388f4bb6a.npy')\n",
    "\n",
    "# Print the data or use it as needed\n",
    "print(data)"
   ]
  },
  {
   "cell_type": "markdown",
   "id": "4098951b-0534-4135-801c-bdefad1e65a9",
   "metadata": {},
   "source": [
    "## PreTest"
   ]
  },
  {
   "cell_type": "code",
   "execution_count": null,
   "id": "a6454da7-0a6d-44d0-8b1f-3db35b1377f9",
   "metadata": {},
   "outputs": [],
   "source": [
    "valid_csv = '/home/sadat/Desktop/PoseRAC/RepCount_pose/annotation/valid.csv'"
   ]
  },
  {
   "cell_type": "code",
   "execution_count": null,
   "id": "46874ba5-1f4c-4ce0-ba8f-7d131ad3bb54",
   "metadata": {},
   "outputs": [],
   "source": [
    "valid_df = pd.read_csv(valid_csv)"
   ]
  },
  {
   "cell_type": "code",
   "execution_count": null,
   "id": "213659bd-b60b-42ab-83ac-cddadba25172",
   "metadata": {},
   "outputs": [],
   "source": [
    "valid_df"
   ]
  },
  {
   "cell_type": "code",
   "execution_count": null,
   "id": "d294c3d4-6975-4045-8518-e10697046dc2",
   "metadata": {},
   "outputs": [],
   "source": [
    "video_name = valid_df['name'][0]\n",
    "video_name"
   ]
  },
  {
   "cell_type": "code",
   "execution_count": null,
   "id": "e695b968-9a91-441c-b2a1-aa444cae32fa",
   "metadata": {},
   "outputs": [],
   "source": [
    "source = os.path.join('/home/sadat/Desktop/PoseRAC/RepCount_pose/video/train', video_name)\n",
    "destination = '/home/sadat/Desktop/PoseRAC/RepCount_pose/video/test'"
   ]
  },
  {
   "cell_type": "code",
   "execution_count": null,
   "id": "2bbbb52b-7a7a-4b5c-a3c6-d800ca152bd1",
   "metadata": {},
   "outputs": [],
   "source": [
    "shutil.copy(source, destination)"
   ]
  },
  {
   "cell_type": "code",
   "execution_count": null,
   "id": "bc91b55b-d18a-4b9c-acdd-f0066c41e7e9",
   "metadata": {},
   "outputs": [],
   "source": [
    "deeplabcut.analyze_videos(path_config_file,['/home/sadat/Desktop/PoseRAC/RepCount_pose/video/test'],save_as_csv=True)"
   ]
  },
  {
   "cell_type": "code",
   "execution_count": null,
   "id": "37ea880f-6615-4b66-be76-4997786b81ac",
   "metadata": {},
   "outputs": [],
   "source": [
    "# Read csv file and process it\n",
    "csv_files = glob.glob(os.path.join(destination, '*.csv'))\n",
    "csv_files"
   ]
  },
  {
   "cell_type": "code",
   "execution_count": null,
   "id": "5d3c97e7-1c6e-4641-bc33-7286c29b35f4",
   "metadata": {},
   "outputs": [],
   "source": [
    "x = '/home/sadat/Desktop/PoseRAC/RepCount_pose/video/test/0baf219dc65f856d93429bfcaf5c6d9a1f2a8e813cc452f01f4819d32baca3d5DLC_resnet50_CowBytes-SingleJun30shuffle1_645000.csv'"
   ]
  },
  {
   "cell_type": "code",
   "execution_count": null,
   "id": "e8e71687-587a-4f94-9bcf-67adefb0fd4d",
   "metadata": {},
   "outputs": [],
   "source": [
    "# Extract the base name (file name with extension)\n",
    "file_name_with_ext = os.path.basename(x)\n",
    "\n",
    "# Remove the file extension\n",
    "video_name = file_name_with_ext.split('DLC')[0]\n",
    "video_name"
   ]
  },
  {
   "cell_type": "markdown",
   "id": "c7a1fdc6-15cf-4bbe-be42-f149f73f174c",
   "metadata": {},
   "source": [
    "## Process the csv files"
   ]
  },
  {
   "cell_type": "code",
   "execution_count": null,
   "id": "27c2a631-7db7-4950-800f-3efb342ddcbe",
   "metadata": {},
   "outputs": [],
   "source": [
    "csv_file = csv_files[0]"
   ]
  },
  {
   "cell_type": "code",
   "execution_count": null,
   "id": "8acabe17-94f6-4fb6-bc8b-149482c36a3d",
   "metadata": {},
   "outputs": [],
   "source": [
    "df = pd.read_csv(csv_file)\n",
    "df.head()"
   ]
  },
  {
   "cell_type": "code",
   "execution_count": null,
   "id": "bec6fcc0-1ad0-41d7-8213-edd3674b4121",
   "metadata": {},
   "outputs": [],
   "source": [
    "# Dropping the first two rows\n",
    "df = df.drop([0, 1]).reset_index(drop=True)\n",
    "\n",
    "# Add 9 empty columns\n",
    "for i in range(18):\n",
    "    df[f'empty_col_{i+1}'] = 0\n",
    "\n",
    "# Drop the first column\n",
    "df.drop(['scorer'], axis=1, inplace=True)"
   ]
  },
  {
   "cell_type": "code",
   "execution_count": null,
   "id": "c1cf49d6-ca58-4bc4-af46-608daab4d05f",
   "metadata": {},
   "outputs": [],
   "source": [
    "df"
   ]
  },
  {
   "cell_type": "code",
   "execution_count": null,
   "id": "5a5cf7fb-e62e-4657-91dd-351a7543d2c9",
   "metadata": {},
   "outputs": [],
   "source": [
    "test_poses_path = '/home/sadat/Desktop/PoseRAC/RepCount_pose/test_poses'\n",
    "os.makedirs(test_poses_path, exist_ok=True)"
   ]
  },
  {
   "cell_type": "code",
   "execution_count": null,
   "id": "6fea924e-4a1d-4636-b016-bc82ce53fc26",
   "metadata": {},
   "outputs": [],
   "source": [
    "np_array = df.to_numpy(dtype=float)"
   ]
  },
  {
   "cell_type": "code",
   "execution_count": null,
   "id": "28519c52-0639-4d3d-83c7-8a7ba2a9709e",
   "metadata": {},
   "outputs": [],
   "source": [
    "np.save(os.path.join(test_poses_path, video_name.split('.')[0]), np_array)"
   ]
  },
  {
   "cell_type": "markdown",
   "id": "e39c9fa4-9fc9-4c03-9a4f-8cfbbf2a8e9a",
   "metadata": {},
   "source": [
    "## Delete all temp files"
   ]
  },
  {
   "cell_type": "code",
   "execution_count": null,
   "id": "7e3f66db-a0e4-4de9-9a70-77d680790f26",
   "metadata": {},
   "outputs": [],
   "source": [
    "# Delete any temp files\n",
    "all_files = glob.glob(os.path.join(destination, '*'))\n",
    "\n",
    "# Filter out files that are not JPG\n",
    "non_mp4_files = [f for f in all_files if not f.lower().endswith('.mp4')]\n",
    "\n",
    "# Delete non-JPG files\n",
    "for file in non_mp4_files:\n",
    "    try:\n",
    "        os.remove(file)\n",
    "        print(f\"Deleted: {file}\")\n",
    "    except Exception as e:\n",
    "        print(f\"Error deleting {file}: {e}\")"
   ]
  },
  {
   "cell_type": "markdown",
   "id": "af745484-cc50-451c-8a29-af5f481bc03c",
   "metadata": {},
   "source": [
    "## Putting everything together"
   ]
  },
  {
   "cell_type": "code",
   "execution_count": 21,
   "id": "12cd9218",
   "metadata": {},
   "outputs": [
    {
     "name": "stdout",
     "output_type": "stream",
     "text": [
      "This is not an official demo dataset.\n",
      "Loaded, now creating training data...\n",
      "The training dataset is successfully created. Use the function 'train_network' to start training. Happy training!\n"
     ]
    }
   ],
   "source": [
    "# Note that parameters of this project can be seen at: *openfield-Pranav-2018-10-30/config.yaml*\n",
    "PATH_CONFIG_FILE = os.path.join(os.getcwd(), 'examples', 'CowBytes-Single-Sadat-2024-06-30', 'config.yaml')\n",
    "deeplabcut.load_demo_data(path_config_file)"
   ]
  },
  {
   "cell_type": "code",
   "execution_count": 30,
   "id": "97ef41de-73f2-48e0-ac9e-ad27a83dd6c4",
   "metadata": {
    "scrolled": true
   },
   "outputs": [],
   "source": [
    "# Define test poses destination directory and video file paths [EDIT HERE]\n",
    "TEST_POSES_DEST_DIR = os.path.join(os.getcwd(), 'examples', 'BiteCountA_pose', 'test_poses')\n",
    "TRAIN_VIDEO_DIR = os.path.join(os.getcwd(), 'examples', 'BiteCountA_pose', 'video', 'train')\n",
    "VALID_VIDEO_DIR = os.path.join(os.getcwd(), 'examples', 'BiteCountA_pose', 'video', 'valid')\n",
    "TEST_VIDEO_DIR = os.path.join(os.getcwd(), 'examples', 'BiteCountA_pose', 'video', 'test')"
   ]
  },
  {
   "cell_type": "code",
   "execution_count": 31,
   "id": "9420afda",
   "metadata": {},
   "outputs": [],
   "source": [
    "# Create test_poses directory\n",
    "os.makedirs(TEST_POSES_DEST_DIR, exist_ok=True)"
   ]
  },
  {
   "cell_type": "code",
   "execution_count": null,
   "id": "ff577c60-bae8-4395-8783-8609f0c8ba8f",
   "metadata": {
    "scrolled": true
   },
   "outputs": [],
   "source": [
    "# Extract poses into .npy files\n",
    "video_directories = [TRAIN_VIDEO_DIR, VALID_VIDEO_DIR, TEST_VIDEO_DIR]\n",
    "\n",
    "for dir in video_directories:\n",
    "    deeplabcut.analyze_videos(PATH_CONFIG_FILE,dir,save_as_csv=True)"
   ]
  },
  {
   "cell_type": "markdown",
   "id": "f4b487d1",
   "metadata": {},
   "source": [
    "# Ratios"
   ]
  },
  {
   "cell_type": "code",
   "execution_count": 7,
   "id": "c3be2bc7",
   "metadata": {},
   "outputs": [],
   "source": [
    "columns_ = ['distance_0_1_to_distance_10_17',\n",
    " 'distance_0_6_to_distance_14_18',\n",
    " 'distance_0_12_to_distance_1_17',\n",
    " 'distance_0_25_to_distance_2_10',\n",
    " 'distance_1_4_to_distance_2_7',\n",
    " 'distance_1_4_to_distance_4_6',\n",
    " 'distance_1_4_to_distance_7_14',\n",
    " 'distance_1_4_to_distance_12_23',\n",
    " 'distance_1_5_to_distance_1_17',\n",
    " 'distance_1_5_to_distance_10_22',\n",
    " 'distance_1_5_to_distance_12_26',\n",
    " 'distance_1_6_to_distance_8_13',\n",
    " 'distance_1_8_to_distance_4_8',\n",
    " 'distance_1_12_to_distance_3_26',\n",
    " 'distance_1_18_to_distance_5_18',\n",
    " 'distance_1_21_to_distance_7_15',\n",
    " 'distance_1_22_to_distance_7_20',\n",
    " 'distance_2_4_to_distance_2_11',\n",
    " 'distance_2_5_to_distance_3_8',\n",
    " 'distance_2_5_to_distance_11_12',\n",
    " 'distance_2_7_to_distance_5_7',\n",
    " 'distance_2_10_to_distance_9_10',\n",
    " 'distance_2_17_to_distance_7_12',\n",
    " 'distance_3_4_to_distance_6_18',\n",
    " 'distance_3_4_to_distance_19_22',\n",
    " 'distance_3_6_to_distance_7_26',\n",
    " 'distance_3_6_to_distance_10_19',\n",
    " 'distance_3_8_to_distance_4_8',\n",
    " 'distance_3_19_to_distance_6_13',\n",
    " 'distance_3_20_to_distance_14_21',\n",
    " 'distance_3_23_to_distance_14_24',\n",
    " 'distance_3_25_to_distance_5_10',\n",
    " 'distance_3_25_to_distance_18_22',\n",
    " 'distance_4_11_to_distance_6_11',\n",
    " 'distance_4_12_to_distance_16_19',\n",
    " 'distance_4_13_to_distance_13_19',\n",
    " 'distance_5_7_to_distance_5_17',\n",
    " 'distance_5_7_to_distance_6_18',\n",
    " 'distance_5_7_to_distance_16_18',\n",
    " 'distance_6_7_to_distance_12_17',\n",
    " 'distance_6_9_to_distance_9_23',\n",
    " 'distance_7_22_to_distance_8_10',\n",
    " 'distance_7_23_to_distance_14_26',\n",
    " 'distance_8_12_to_distance_22_25',\n",
    " 'distance_8_22_to_distance_14_24',\n",
    " 'distance_9_13_to_distance_12_13',\n",
    " 'distance_9_18_to_distance_23_25',\n",
    " 'distance_9_21_to_distance_19_23',\n",
    " 'distance_10_15_to_distance_10_23',\n",
    " 'distance_11_13_to_distance_19_24',\n",
    " 'distance_17_23_to_distance_21_24']"
   ]
  },
  {
   "cell_type": "code",
   "execution_count": 9,
   "id": "95178016-ce55-4e6c-8edd-727b75f07dba",
   "metadata": {},
   "outputs": [],
   "source": [
    "# Read csv file and process it\n",
    "csv_files = glob.glob(os.path.join(TEST_POSES_DEST_DIR, '*.csv'))"
   ]
  },
  {
   "cell_type": "code",
   "execution_count": 35,
   "id": "30d2d082-1cb5-4f55-8b4f-4c18dbce47c4",
   "metadata": {},
   "outputs": [],
   "source": [
    "for csv_file in csv_files:\n",
    "    df = pd.read_csv(csv_file)\n",
    "    # Dropping the first two rows\n",
    "    df = df.drop([0, 1]).reset_index(drop=True)\n",
    "    \n",
    "    #     # Add 9 empty columns\n",
    "    #     for i in range(18):\n",
    "    #         df[f'empty_col_{i+1}'] = 0\n",
    "    \n",
    "    # Drop the first column\n",
    "    df.drop(['scorer'], axis=1, inplace=True)\n",
    "    \n",
    "    \"\"\"\n",
    "    OPTIONAL: Calculate the ratios.\n",
    "    \"\"\"\n",
    "    # Extract the x and y coordinates\n",
    "    poses_x = df.iloc[:, ::3].astype(float)\n",
    "    poses_y = df.iloc[:, 1::3].astype(float)\n",
    "\n",
    "    # Function to calculate Euclidean distance\n",
    "    def euclidean_distance(x1, y1, x2, y2):\n",
    "        return np.sqrt((x2 - x1)**2 + (y2 - y1)**2)\n",
    "\n",
    "    # Function to calculate the distance ratio\n",
    "    def calculate_ratio(df, idx1, idx2, idx3, idx4):\n",
    "        dist1 = euclidean_distance(poses_x.iloc[:, idx1], poses_y.iloc[:, idx1], poses_x.iloc[:, idx2], poses_y.iloc[:, idx2])\n",
    "        dist2 = euclidean_distance(poses_x.iloc[:, idx3], poses_y.iloc[:, idx3], poses_x.iloc[:, idx4], poses_y.iloc[:, idx4])\n",
    "\n",
    "        # Calculate the ratio and handle division by zero\n",
    "        try:\n",
    "            ratio = dist1 / dist2\n",
    "        except ZeroDivisionError:\n",
    "            ratio = 0\n",
    "\n",
    "        return ratio\n",
    "\n",
    "    # List to store the ratio columns\n",
    "    ratio_df = pd.DataFrame()\n",
    "\n",
    "    # Calculate the ratios\n",
    "    for col in columns_:\n",
    "        # Extract pose indices from the column name\n",
    "        parts = col.split('_to_')\n",
    "        pose_1 = parts[0].split('_')[1:]\n",
    "        pose_2 = parts[1].split('_')[1:]\n",
    "\n",
    "        # Calculate the ratio\n",
    "        ratio_df[col] = calculate_ratio(df, int(pose_1[0]), int(pose_1[1]), int(pose_2[0]), int(pose_2[1]))\n",
    "        \n",
    "    df = ratio_df\n",
    "    \n",
    "    \"\"\"\n",
    "    END OF OPTIONAL PART\n",
    "    \"\"\"\n",
    "\n",
    "    # Convert to np_array and save it\n",
    "    np_array = df.to_numpy(dtype=float)\n",
    "\n",
    "    # Extract the video_name\n",
    "    video_name = os.path.basename(csv_file).split('DLC')[0]\n",
    "\n",
    "    np.save(os.path.join(test_poses_path, video_name), np_array)"
   ]
  },
  {
   "cell_type": "code",
   "execution_count": null,
   "id": "e264363b-f67c-43bb-852a-283e386414b4",
   "metadata": {},
   "outputs": [],
   "source": [
    "# Delete any temp files\n",
    "all_files = glob.glob(os.path.join(destination, '*'))\n",
    "\n",
    "# Filter out files that are not JPG\n",
    "non_mp4_files = [f for f in all_files if not f.lower().endswith('.mp4')]\n",
    "\n",
    "# Delete non-JPG files\n",
    "for file in non_mp4_files:\n",
    "    try:\n",
    "        os.remove(file)\n",
    "        print(f\"Deleted: {file}\")\n",
    "    except Exception as e:\n",
    "        print(f\"Error deleting {file}: {e}\")"
   ]
  }
 ],
 "metadata": {
  "kernelspec": {
   "display_name": "Python (DLC)",
   "language": "python",
   "name": "deeplabcut"
  },
  "language_info": {
   "codemirror_mode": {
    "name": "ipython",
    "version": 3
   },
   "file_extension": ".py",
   "mimetype": "text/x-python",
   "name": "python",
   "nbconvert_exporter": "python",
   "pygments_lexer": "ipython3",
   "version": "3.10.14"
  }
 },
 "nbformat": 4,
 "nbformat_minor": 5
}
