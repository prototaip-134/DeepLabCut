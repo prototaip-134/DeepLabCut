{
 "cells": [
  {
   "cell_type": "markdown",
   "metadata": {},
   "source": [
    "# Extract Salient Frame Poses into a CSV File (Mimic PoseRAC's pre_train.py)"
   ]
  },
  {
   "cell_type": "code",
   "execution_count": 10,
   "metadata": {},
   "outputs": [],
   "source": [
    "import numpy as np\n",
    "import pandas as pd\n",
    "import glob\n",
    "import os\n",
    "import sys\n",
    "import deeplabcut\n",
    "import cv2\n",
    "from tqdm.auto import tqdm"
   ]
  },
  {
   "cell_type": "code",
   "execution_count": 47,
   "metadata": {},
   "outputs": [],
   "source": [
    "# System alterations\n",
    "\n",
    "# Set the print options to avoid truncation\n",
    "np.set_printoptions(threshold=1000) # Default threshold is 1000"
   ]
  },
  {
   "cell_type": "code",
   "execution_count": 4,
   "metadata": {},
   "outputs": [
    {
     "name": "stdout",
     "output_type": "stream",
     "text": [
      "This is not an official demo dataset.\n",
      "Loaded, now creating training data...\n",
      "The training dataset is successfully created. Use the function 'train_network' to start training. Happy training!\n"
     ]
    }
   ],
   "source": [
    "# Note that parameters of this project can be seen at: *openfield-Pranav-2018-10-30/config.yaml*\n",
    "PATH_CONFIG_FILE = os.path.join(os.getcwd(), 'examples', 'CowBytes-Single-Sadat-2024-06-30', 'config.yaml')\n",
    "deeplabcut.load_demo_data(PATH_CONFIG_FILE)"
   ]
  },
  {
   "cell_type": "code",
   "execution_count": 60,
   "metadata": {},
   "outputs": [],
   "source": [
    "# Define extracted destination directory and video file paths [EDIT HERE]\n",
    "VIDEO_DIR = os.path.join(os.getcwd(), 'examples', 'BiteCountA_pose', 'video', 'train')\n",
    "FRAMES_CSV_FILE = os.path.join(os.getcwd(), 'examples', 'BiteCountA_pose', 'annotation', 'pose_train.csv')\n",
    "EXTRACTED_DEST_DIR = os.path.join(os.getcwd(), 'examples', 'BiteCountA_pose', 'extracted')\n",
    "POSE_DEST_DIR = os.path.join(os.getcwd(), 'examples', 'BiteCountA_pose', 'annotation_pose')\n",
    "\n",
    "SUBSETS = ['train']\n",
    "CLASSES = ['cow_bite']\n",
    "SALIENTS = ['salient1', 'salient2']"
   ]
  },
  {
   "cell_type": "code",
   "execution_count": 7,
   "metadata": {},
   "outputs": [],
   "source": [
    "# Create directories for each subset, class, and salient\n",
    "os.makedirs(EXTRACTED_DEST_DIR, exist_ok=True)\n",
    "for subset in SUBSETS:\n",
    "    subset_dir = os.path.join(EXTRACTED_DEST_DIR, subset)\n",
    "    os.makedirs(subset_dir, exist_ok=True)\n",
    "\n",
    "    for class_ in CLASSES:\n",
    "        class_dir = os.path.join(subset_dir, class_)\n",
    "        os.makedirs(class_dir, exist_ok=True)\n",
    "\n",
    "        for salient in SALIENTS:\n",
    "            salient_dir = os.path.join(class_dir, salient)\n",
    "            os.makedirs(salient_dir, exist_ok=True)"
   ]
  },
  {
   "cell_type": "code",
   "execution_count": 64,
   "metadata": {},
   "outputs": [
    {
     "data": {
      "application/vnd.jupyter.widget-view+json": {
       "model_id": "6a161ece6a7f482e872bc018972a5947",
       "version_major": 2,
       "version_minor": 0
      },
      "text/plain": [
       "Extracting frames from videos:   0%|          | 0/63 [00:00<?, ?it/s]"
      ]
     },
     "metadata": {},
     "output_type": "display_data"
    },
    {
     "name": "stdout",
     "output_type": "stream",
     "text": [
      "Proccessed video: 743a064e5f68f7acd214bbf9df289c9d6fa16e4f851e321fdfb8a07b80dde08a_2.mp4\n",
      "Proccessed video: 4a639247a4b687c6ae226f986414241864b4174f8e30190b62ad4821e5c3f875_1.mp4\n",
      "Proccessed video: d136ae29ffec48fd62ef8dbf80878dfece480fdbfcb72855a780cdcd03f0d08e_1.mp4\n",
      "Proccessed video: 6f9416bb9789f27385491d3b308c52f2c5a441038301fcb9f5fe4df5a60b0a45_1.mp4\n",
      "Proccessed video: d40739c2aa4b801a2eda2bbb8a554a6ff85e3fc331b719fb52af72bf43224086_3.mp4\n",
      "Proccessed video: 4fc0428ba0f9882718fb5d7e4196369d2af69c153d42de9717a25a3919782d80_2.mp4\n",
      "Proccessed video: 0739b5b782dcfd787ebd280dbe01b1118380b41a717750235d98e6d4a15165c6_1.mp4\n",
      "Proccessed video: 2f4338b600baddf8b021162744427b9faaf7ec28230638ceeffadbfafd86ba44_1.mp4\n",
      "Proccessed video: 9f06f158766658820031cf3f32a755a1403bcbcb696ce9febc42105f31f4fa46_2.mp4\n",
      "Proccessed video: 4ff8a74c52c529eceb817a1d89e76a3ae053583c2abc491ecacbe560484b2e7e_3.mp4\n",
      "Proccessed video: 9c7cbf325c3227806845c6b47c600d381965a61f9d6f0e578303bd40821681e4_1.mp4\n",
      "Proccessed video: 284d9ee203882c3bcc2dff888d49ba6ea4da8fbd943e8eab4ff2dc54ae719e55_2.mp4\n",
      "Proccessed video: 4a639247a4b687c6ae226f986414241864b4174f8e30190b62ad4821e5c3f875_2.mp4\n",
      "Proccessed video: 8f609871c33a11835defd4b9a79a6b30ee4f311d86cc4f513f94515c2cf81126_1.mp4\n",
      "Proccessed video: 37c993d16e39c7a06469d11edce24326323c489f75de5dcd0c73eba86d9eb942_2.mp4\n",
      "Proccessed video: 95040dc15ce9ada82353103a13d1b395c937a9ea6747159f631bfa492b98373f_1.mp4\n",
      "Proccessed video: 85ff8081163fa72a539d5215af9e01f86a078178bd0b2f4b93c71ba033ab456a_1.mp4\n",
      "Proccessed video: f53de12a897705fdec98d52bd3cc1d67ef9293a28f33e765569ca89a7dca1f8b_1.mp4\n",
      "Proccessed video: 4a639247a4b687c6ae226f986414241864b4174f8e30190b62ad4821e5c3f875_3.mp4\n",
      "Proccessed video: c81785443adb4396f41032f03038f66f5772097bd7bf6f58ca4b2552d12255ec_1.mp4\n",
      "Proccessed video: 95040dc15ce9ada82353103a13d1b395c937a9ea6747159f631bfa492b98373f_4.mp4\n",
      "Proccessed video: e8793e070b7f0381aef1a8f802010929abf59e7dd0014be27be3844ff54ae181_1.mp4\n",
      "Proccessed video: 692f8f48cf19ed491f3cf69d8eeef1f7effe01ddf3126a68e20f80070cde51ea_1.mp4\n",
      "Proccessed video: 0baf219dc65f856d93429bfcaf5c6d9a1f2a8e813cc452f01f4819d32baca3d5_1.mp4\n",
      "Proccessed video: 94cdae122f4e4e40aa8ab7cdee44926435768e88eca067ed71629a073398967e_1.mp4\n",
      "Proccessed video: 9f06f158766658820031cf3f32a755a1403bcbcb696ce9febc42105f31f4fa46_1.mp4\n",
      "Proccessed video: 85ff8081163fa72a539d5215af9e01f86a078178bd0b2f4b93c71ba033ab456a_2.mp4\n",
      "Proccessed video: 37c993d16e39c7a06469d11edce24326323c489f75de5dcd0c73eba86d9eb942_3.mp4\n",
      "Proccessed video: 46e9cc048a75d3c6404323ffa5ff8668c6b96a1640c61a52ec1155ef8b13d8bc_1.mp4\n",
      "Proccessed video: 743a064e5f68f7acd214bbf9df289c9d6fa16e4f851e321fdfb8a07b80dde08a_1.mp4\n",
      "Proccessed video: 2052108669082759e3e4b26bcff213b8a64e09a17d501ccb06bb477b4706323e_2.mp4\n",
      "Proccessed video: 10f1a9b90589c2bc657320dc4958fb19ea2d51fbcdb251402e6112e4407de2e7_1.mp4\n",
      "Proccessed video: 6bad72b6e29e294f91508e5dbcc3b762e42c9103ddcf6e70968f7fe8d030a808_1.mp4\n",
      "Proccessed video: ab4a3fa6085cc8998dad48f20cb5a041d97201723db1d665a90a3ee388f4bb6a_1.mp4\n",
      "Proccessed video: caa5e097d4d523448fefdcb1926de02fb9c420bc246ea35dc12d27c4881ff5a4_1.mp4\n",
      "Proccessed video: b57a702fc0cade7763d6c30dbdd01970007eb537e18fc759f2e55132075d36db_2.mp4\n",
      "Proccessed video: b5347ffb6bbbbbc94ac468bf69dfdf119ca4334ed4973a766baf803a7399af95_1.mp4\n",
      "Proccessed video: a08cd526a4dda562d02e7c1abc655fe1726c908ec696fca4b533e0a84312205b_1.mp4\n",
      "Proccessed video: fa287b67c5b84b2ee911726f6225435a2d74e49296db21d70cba892e267f755e_1.mp4\n",
      "Proccessed video: 14ac6845ecc16c132aa2ecc75f5619c36d603e5f5e9021a3502fabde86a4363f_3.mp4\n",
      "Proccessed video: 54d5f63b8d886c2519a1eb5b4a19b409a919c0b94ac345062e8014f08487fdd4_2.mp4\n",
      "Proccessed video: 8f609871c33a11835defd4b9a79a6b30ee4f311d86cc4f513f94515c2cf81126_2.mp4\n",
      "Proccessed video: b57a702fc0cade7763d6c30dbdd01970007eb537e18fc759f2e55132075d36db_1.mp4\n",
      "Proccessed video: cd4bc06caf8ea3015a8af0deaace4d3747268f55194cad3992097a5f6dc82b6c_2.mp4\n",
      "Proccessed video: 54d5f63b8d886c2519a1eb5b4a19b409a919c0b94ac345062e8014f08487fdd4_1.mp4\n",
      "Proccessed video: 95040dc15ce9ada82353103a13d1b395c937a9ea6747159f631bfa492b98373f_2.mp4\n",
      "Proccessed video: 2f4338b600baddf8b021162744427b9faaf7ec28230638ceeffadbfafd86ba44_2.mp4\n",
      "Proccessed video: 747419b046c70c69e41b2857b7af91465dcc0c49e0e91ca96f253da03067dd32_1.mp4\n",
      "Proccessed video: e151c20b878c4425ce832d2f5120a218f4e31b765ec2a352130a5a877fddd041_1.mp4\n",
      "Proccessed video: d40739c2aa4b801a2eda2bbb8a554a6ff85e3fc331b719fb52af72bf43224086_1.mp4\n",
      "Proccessed video: e151c20b878c4425ce832d2f5120a218f4e31b765ec2a352130a5a877fddd041_3.mp4\n",
      "Proccessed video: 6be40617f843db3e56b60af7a7dac4dad0f1d647838ed30133be97b1984696d0_1.mp4\n",
      "Proccessed video: 4fc0428ba0f9882718fb5d7e4196369d2af69c153d42de9717a25a3919782d80_1.mp4\n",
      "Proccessed video: 756025eb6d43d923f9f175cb27e2a31cc0412c31de9278f6af8a7dccc225841a_1.mp4\n",
      "Proccessed video: 10f1a9b90589c2bc657320dc4958fb19ea2d51fbcdb251402e6112e4407de2e7_3.mp4\n",
      "Proccessed video: b57a702fc0cade7763d6c30dbdd01970007eb537e18fc759f2e55132075d36db_3.mp4\n",
      "Proccessed video: d22ff64fcde2391afb2df7381a24370f7152a727144b9b44ac4d2a82a84dddcc_1.mp4\n",
      "Proccessed video: 95040dc15ce9ada82353103a13d1b395c937a9ea6747159f631bfa492b98373f_5.mp4\n",
      "Proccessed video: 10f1a9b90589c2bc657320dc4958fb19ea2d51fbcdb251402e6112e4407de2e7_2.mp4\n",
      "Proccessed video: a84ae1282abc51e5698d2b63472b892cae3ffdabacc66c9bcf1efabdf637b1e5_1.mp4\n",
      "Proccessed video: 37c993d16e39c7a06469d11edce24326323c489f75de5dcd0c73eba86d9eb942_1.mp4\n",
      "Proccessed video: 3c86acfbc4289cc6d83adc3268a97e3eb2ecf1316d731b487627190a1e4ac88f_1.mp4\n",
      "Proccessed video: ed504fc41cd8eebaf15e43dd858dab5aaadcec172a4773f903e6dfcf8791b38e_1.mp4\n"
     ]
    }
   ],
   "source": [
    "# Create video directories under every salient directory\n",
    "df = pd.read_csv(FRAMES_CSV_FILE)\n",
    "videos = glob.glob(os.path.join(VIDEO_DIR, '**', '*.mp4'), recursive=True)\n",
    "\n",
    "for video in tqdm(videos, desc=\"Extracting frames from videos\", position=0, leave=True):\n",
    "    video_name = os.path.basename(video)\n",
    "    video_record = df[df[\"name\"] == video_name]\n",
    "    video_class = video_record['type'].iloc[0]\n",
    "    video_data = video_record.filter(regex='^L').values.flatten()\n",
    "\n",
    "    # Create video directories in salient directories\n",
    "    for subset in SUBSETS:\n",
    "        for class_ in CLASSES:\n",
    "            if class_ == video_class:\n",
    "                for salient in SALIENTS:\n",
    "                    video_dir = os.path.join(EXTRACTED_DEST_DIR, subset, class_, salient, video_name)\n",
    "                    os.makedirs(video_dir, exist_ok=True)\n",
    "\n",
    "    # Extract salient images to store in video directories\n",
    "    cap = cv2.VideoCapture(video)\n",
    "    salient_counts = {salient: 0 for salient in SALIENTS}\n",
    "    for i, frame_num in enumerate(video_data):\n",
    "        if not pd.isna(frame_num):\n",
    "            cap.set(cv2.CAP_PROP_POS_FRAMES, int(frame_num))\n",
    "            ret, frame = cap.read()\n",
    "            if ret:\n",
    "                salient_index = i % len(SALIENTS)\n",
    "                salient_dir = SALIENTS[salient_index]\n",
    "                image_file = os.path.join(EXTRACTED_DEST_DIR, subset, video_class, salient_dir, video_name, f\"{salient_counts[salient_dir]}.jpg\")\n",
    "                salient_counts[salient_dir] += 1\n",
    "                cv2.imwrite(image_file, frame)\n",
    "    cap.release()\n",
    "    tqdm.write(f\"Proccessed video: {video_name}\")"
   ]
  },
  {
   "cell_type": "code",
   "execution_count": null,
   "metadata": {},
   "outputs": [],
   "source": [
    "# Extract poses into CSV files\n",
    "for subset in SUBSETS:\n",
    "    for class_ in CLASSES:\n",
    "        for salient in SALIENTS:\n",
    "            video_dirs = glob.glob(os.path.join(EXTRACTED_DEST_DIR, subset, class_, salient, '*'))\n",
    "            for video_dir in video_dirs:\n",
    "                deeplabcut.analyze_time_lapse_frames(PATH_CONFIG_FILE, video_dir, frametype='.jpg', save_as_csv=True)"
   ]
  },
  {
   "cell_type": "code",
   "execution_count": 58,
   "metadata": {},
   "outputs": [],
   "source": [
    "# Process CSV files into new format\n",
    "csv_files = glob.glob(os.path.join(EXTRACTED_DEST_DIR, '**', '*.csv'), recursive=True)\n",
    "for csv_file in csv_files:\n",
    "    # Process CSV file\n",
    "    df = pd.read_csv(csv_file, header=None, index_col=None)\n",
    "    df = df.drop([0, 1, 2]).reset_index(drop=True)\n",
    "    df.iloc[:, 1:] = df.iloc[:, 1:].astype(np.float32)\n",
    "    df.iloc[:, 3::3] = 0 \n",
    "\n",
    "    # Get relative directory and class\n",
    "    rel_video_dir = os.path.relpath(os.path.dirname(csv_file), EXTRACTED_DEST_DIR)\n",
    "    image_class = rel_video_dir.split(os.sep)[1]\n",
    "\n",
    "    # Format new rows\n",
    "    df.insert(0, 'image_path', df[0].apply(lambda image_file: os.path.join(rel_video_dir, image_file)))\n",
    "    df.insert(1, 'class', image_class)\n",
    "    df.drop(columns=[0], inplace=True)\n",
    "    df.to_csv(csv_file, index=False, header=False)"
   ]
  },
  {
   "cell_type": "code",
   "execution_count": 62,
   "metadata": {},
   "outputs": [],
   "source": [
    "# Combine CSV files into annotation_pose destination directory\n",
    "os.makedirs(POSE_DEST_DIR, exist_ok=True)\n",
    "csv_files = glob.glob(os.path.join(EXTRACTED_DEST_DIR, '**', '*.csv'), recursive=True)\n",
    "\n",
    "combined_data = []\n",
    "for csv_file in csv_files:\n",
    "    df = pd.read_csv(csv_file, header=None, index_col=None)\n",
    "    combined_data.append(df)\n",
    "\n",
    "combined_df = pd.concat(combined_data, ignore_index=True)\n",
    "combined_df.to_csv(os.path.join(POSE_DEST_DIR, 'train.csv'), index=False, header=False)"
   ]
  },
  {
   "cell_type": "code",
   "execution_count": null,
   "metadata": {},
   "outputs": [],
   "source": [
    "# Remove redundant files in video directories\n",
    "files = glob.glob(os.path.join(EXTRACTED_DEST_DIR, '**', '*.*'), recursive=True)\n",
    "\n",
    "# Delete non-JPG files\n",
    "for file in files:\n",
    "    if not file.endswith('.jpg'):\n",
    "        try:\n",
    "            os.remove(file)\n",
    "            print(f\"Deleted: {file}\")\n",
    "        except Exception as e:\n",
    "            print(f\"Error deleting {file}: {e}\")"
   ]
  }
 ],
 "metadata": {
  "kernelspec": {
   "display_name": "Python (DLC)",
   "language": "python",
   "name": "deeplabcut"
  },
  "language_info": {
   "codemirror_mode": {
    "name": "ipython",
    "version": 3
   },
   "file_extension": ".py",
   "mimetype": "text/x-python",
   "name": "python",
   "nbconvert_exporter": "python",
   "pygments_lexer": "ipython3",
   "version": "3.10.14"
  }
 },
 "nbformat": 4,
 "nbformat_minor": 2
}
