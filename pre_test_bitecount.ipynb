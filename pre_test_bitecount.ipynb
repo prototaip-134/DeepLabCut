{
 "cells": [
  {
   "cell_type": "markdown",
   "id": "30e00bfc",
   "metadata": {},
   "source": [
    "# Extract Poses into NPY Files (Mimic PoseRAC's pre_test.py)"
   ]
  },
  {
   "cell_type": "code",
   "execution_count": 31,
   "id": "a5058f16",
   "metadata": {},
   "outputs": [],
   "source": [
    "import numpy as np\n",
    "import pandas as pd\n",
    "import glob\n",
    "import os\n",
    "import sys\n",
    "import deeplabcut"
   ]
  },
  {
   "cell_type": "code",
   "execution_count": 32,
   "id": "a881f5d1",
   "metadata": {},
   "outputs": [],
   "source": [
    "# System alterations\n",
    "\n",
    "# Set the print options to avoid truncation\n",
    "np.set_printoptions(threshold=sys.maxsize) # Default threshold is 1000"
   ]
  },
  {
   "cell_type": "code",
   "execution_count": 33,
   "id": "41a0ae8b",
   "metadata": {},
   "outputs": [
    {
     "name": "stdout",
     "output_type": "stream",
     "text": [
      "This is not an official demo dataset.\n",
      "Loaded, now creating training data...\n",
      "The training dataset is successfully created. Use the function 'train_network' to start training. Happy training!\n"
     ]
    }
   ],
   "source": [
    "# Note that parameters of this project can be seen at: *openfield-Pranav-2018-10-30/config.yaml*\n",
    "PATH_CONFIG_FILE = os.path.join(os.getcwd(), 'examples', 'CowBytes-Single-Sadat-2024-06-30', 'config.yaml')\n",
    "deeplabcut.load_demo_data(PATH_CONFIG_FILE)"
   ]
  },
  {
   "cell_type": "code",
   "execution_count": 89,
   "id": "7851425a",
   "metadata": {},
   "outputs": [],
   "source": [
    "# Define test poses destination directory and video file paths [EDIT HERE]\n",
    "TEST_POSES_DEST_DIR = os.path.join(os.getcwd(), 'examples', 'BiteCountA_pose', 'test_poses')\n",
    "ROOT_VIDEO_DIR = os.path.join(os.getcwd(), 'examples', 'BiteCountA_pose', 'video')\n",
    "TRAIN_VIDEO_DIR = os.path.join(ROOT_VIDEO_DIR, 'train')\n",
    "VALID_VIDEO_DIR = os.path.join(ROOT_VIDEO_DIR, 'valid')\n",
    "TEST_VIDEO_DIR = os.path.join(ROOT_VIDEO_DIR, 'test')"
   ]
  },
  {
   "cell_type": "code",
   "execution_count": 35,
   "id": "5ab773f7",
   "metadata": {},
   "outputs": [],
   "source": [
    "# Create test_poses directory\n",
    "os.makedirs(TEST_POSES_DEST_DIR, exist_ok=True)"
   ]
  },
  {
   "cell_type": "code",
   "execution_count": null,
   "id": "80e4bec6",
   "metadata": {},
   "outputs": [],
   "source": [
    "# Extract poses into .npy files\n",
    "video_dir = [TRAIN_VIDEO_DIR, VALID_VIDEO_DIR, TEST_VIDEO_DIR]\n",
    "\n",
    "for dir in video_dir:\n",
    "    deeplabcut.analyze_videos(PATH_CONFIG_FILE,dir,save_as_csv=True)"
   ]
  },
  {
   "cell_type": "code",
   "execution_count": null,
   "id": "62568ab1",
   "metadata": {},
   "outputs": [],
   "source": [
    "# Load all generated .csv files\n",
    "csv_files = glob.glob(os.path.join(ROOT_VIDEO_DIR, '**', '*.csv'), recursive=True)\n",
    "print(\"Number of generated CSV Files:\", len(csv_files))\n",
    "print(csv_files[:5])"
   ]
  },
  {
   "cell_type": "code",
   "execution_count": null,
   "id": "571c0d15",
   "metadata": {},
   "outputs": [],
   "source": [
    "for csv_file in csv_files:\n",
    "    # Process CSV file contents\n",
    "    df = pd.read_csv(csv_file, header=None)\n",
    "    df = df.drop([0, 1, 2]).reset_index(drop=True)\n",
    "    df.drop(columns=df.columns[0], axis=1, inplace=True)\n",
    "    datapoints = df.values.astype(np.float32)\n",
    "    datapoints[:, 2::3] = 0\n",
    "    # Save NPY file with datapoints\n",
    "    dest_file = os.path.join(TEST_POSES_DEST_DIR, os.path.basename(csv_file.split('DLC')[0]))\n",
    "    np.save(dest_file, datapoints)\n",
    "    print(\"Created file: \", dest_file)"
   ]
  },
  {
   "cell_type": "code",
   "execution_count": null,
   "id": "942826f8",
   "metadata": {},
   "outputs": [],
   "source": [
    "# Remove redundant files in video directories\n",
    "files = glob.glob(os.path.join(ROOT_VIDEO_DIR, '**', '*.*'), recursive=True)\n",
    "\n",
    "# Delete non-JPG files\n",
    "for file in files:\n",
    "    if not file.endswith('.mp4'):\n",
    "        try:\n",
    "            os.remove(file)\n",
    "            print(f\"Deleted: {file}\")\n",
    "        except Exception as e:\n",
    "            print(f\"Error deleting {file}: {e}\")"
   ]
  }
 ],
 "metadata": {
  "kernelspec": {
   "display_name": "Python (DLC)",
   "language": "python",
   "name": "deeplabcut"
  },
  "language_info": {
   "codemirror_mode": {
    "name": "ipython",
    "version": 3
   },
   "file_extension": ".py",
   "mimetype": "text/x-python",
   "name": "python",
   "nbconvert_exporter": "python",
   "pygments_lexer": "ipython3",
   "version": "3.10.14"
  }
 },
 "nbformat": 4,
 "nbformat_minor": 5
}
