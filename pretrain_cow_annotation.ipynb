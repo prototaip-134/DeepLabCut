{
 "cells": [
  {
   "cell_type": "code",
   "execution_count": 1,
   "id": "b66a4de9-55a4-42ed-bd25-ccd6371ceb78",
   "metadata": {},
   "outputs": [
    {
     "name": "stdout",
     "output_type": "stream",
     "text": [
      "Loading DLC 2.3.9...\n"
     ]
    }
   ],
   "source": [
    "import deeplabcut\n",
    "import os\n",
    "# from pathlib import Path\n",
    "import pandas as pd\n",
    "import glob"
   ]
  },
  {
   "cell_type": "code",
   "execution_count": 2,
   "id": "e71ed3a6-af6a-4d9a-8b4d-01c1fe71c986",
   "metadata": {},
   "outputs": [],
   "source": [
    "final_df = None"
   ]
  },
  {
   "cell_type": "code",
   "execution_count": 3,
   "id": "e1bea5b7-ee50-4a41-8b9a-e4ed79c23ad4",
   "metadata": {
    "scrolled": true
   },
   "outputs": [
    {
     "name": "stdout",
     "output_type": "stream",
     "text": [
      "This is not an official demo dataset.\n",
      "Loaded, now creating training data...\n",
      "The training dataset is successfully created. Use the function 'train_network' to start training. Happy training!\n"
     ]
    }
   ],
   "source": [
    "# Note that parameters of this project can be seen at: *openfield-Pranav-2018-10-30/config.yaml*\n",
    "path_config_file = os.getcwd() + '/examples/CowBytes-Single-Sadat-2024-06-30/config.yaml'\n",
    "deeplabcut.load_demo_data(path_config_file)"
   ]
  },
  {
   "cell_type": "code",
   "execution_count": null,
   "id": "e3cc75bf-fa95-46ab-93d9-68ed3237156a",
   "metadata": {},
   "outputs": [],
   "source": [
    "# Define the directory\n",
    "extracted_dir = '/home/sadat/Desktop/PoseRAC/RepCount_pose/extracted'\n",
    "subset = ['train']\n",
    "class_ = ['cow_bite']\n",
    "salients = ['salient1', 'salient2']\n",
    "\n",
    "# Initialize a list to store folders with .jpg files\n",
    "folders_with_jpg_files = []\n",
    "\n",
    "value = os.path.join(extracted_dir, subset[0], class_[0], salients[0])\n",
    "\n",
    "folders = [f for f in os.listdir(value) if os.path.isdir(os.path.join(value, f))]\n",
    "folders"
   ]
  },
  {
   "cell_type": "code",
   "execution_count": 5,
   "id": "97c3ad31-ba5a-4db0-8d4b-b847982b220d",
   "metadata": {},
   "outputs": [],
   "source": [
    "full_folder_path = os.path.join(extracted_dir, subset[0], class_[0], salients[0], folders[0])"
   ]
  },
  {
   "cell_type": "code",
   "execution_count": null,
   "id": "78086218-d092-42b9-bf54-6b483513a26b",
   "metadata": {},
   "outputs": [],
   "source": [
    "full_folder_path"
   ]
  },
  {
   "cell_type": "code",
   "execution_count": null,
   "id": "cb92fb29-ce35-4cfc-b42b-70dfb2d14bde",
   "metadata": {},
   "outputs": [],
   "source": [
    "deeplabcut.analyze_time_lapse_frames(path_config_file, full_folder_path, frametype='.jpg', save_as_csv=True)"
   ]
  },
  {
   "cell_type": "markdown",
   "id": "fff8acdd-ec8c-4ff1-b0fe-f53171cc5aee",
   "metadata": {},
   "source": [
    "## Processing the CSV"
   ]
  },
  {
   "cell_type": "code",
   "execution_count": 27,
   "id": "630ed335-5bd5-4aba-98d1-f600a6539732",
   "metadata": {},
   "outputs": [],
   "source": [
    "csv_file = glob.glob(os.path.join(full_folder_path, '*.csv'))[0]"
   ]
  },
  {
   "cell_type": "code",
   "execution_count": 28,
   "id": "a2c641a5-9201-41ee-97b8-2ec9811836be",
   "metadata": {},
   "outputs": [
    {
     "data": {
      "text/plain": [
       "'/home/sadat/Desktop/PoseRAC/RepCount_pose/extracted/train/cow_bite/salient1/9c08225dd12cdfdfbdc00043de3d390c275458ebe07d07114df2fedb056f4e08.mp4/9c08225dd12cdfdfbdc00043de3d390c275458ebe07d07114df2fedb056f4e08DLC_resnet50_CowBytes-SingleJun30shuffle1_645000.csv'"
      ]
     },
     "execution_count": 28,
     "metadata": {},
     "output_type": "execute_result"
    }
   ],
   "source": [
    "csv_file"
   ]
  },
  {
   "cell_type": "code",
   "execution_count": 29,
   "id": "a0a16b11-e8c3-4ef2-9477-8c6c6befba9f",
   "metadata": {},
   "outputs": [],
   "source": [
    "df = pd.read_csv(csv_file)"
   ]
  },
  {
   "cell_type": "code",
   "execution_count": null,
   "id": "03eca871-57a1-4b1b-8177-b85763192180",
   "metadata": {},
   "outputs": [],
   "source": [
    "df"
   ]
  },
  {
   "cell_type": "code",
   "execution_count": 31,
   "id": "2a2dec63-807f-400f-b09c-15f03e39a529",
   "metadata": {},
   "outputs": [],
   "source": [
    "df.to_csv('./delete_me.csv')"
   ]
  },
  {
   "cell_type": "code",
   "execution_count": 32,
   "id": "026207ea-40e8-4996-b6fd-3fa9901fd366",
   "metadata": {},
   "outputs": [],
   "source": [
    "# Adding 9 empty columns\n",
    "for i in range(18):\n",
    "    df[f'empty_col_{i+1}'] = 0\n",
    "\n",
    "new_columns = []\n",
    "\n",
    "# Iterate through the columns starting from the second one (first is 'scorer')\n",
    "for i in range(1, len(df.columns)):\n",
    "    bodypart = df.iloc[0, i]\n",
    "    coord = df.iloc[1, i]\n",
    "    new_columns.append(f\"{bodypart}_{coord}\")\n",
    "\n",
    "# Insert 'scorer' as the first column name\n",
    "new_columns.insert(0, 'scorer')\n",
    "\n",
    "# Rename the columns of the dataframe\n",
    "df.columns = new_columns\n",
    "\n",
    "# Drop the first two rows which were used for creating new column names\n",
    "# df = df.drop([0, 1]).reset_index(drop=True)"
   ]
  },
  {
   "cell_type": "code",
   "execution_count": null,
   "id": "f74fae3b-a2a5-4650-b8b0-2a038edb5757",
   "metadata": {},
   "outputs": [],
   "source": [
    "df"
   ]
  },
  {
   "cell_type": "code",
   "execution_count": 34,
   "id": "20a70c74-a487-4be9-947f-57d77334d321",
   "metadata": {},
   "outputs": [],
   "source": [
    "# Dropping the first two rows\n",
    "df = df.drop([0, 1]).reset_index(drop=True)"
   ]
  },
  {
   "cell_type": "code",
   "execution_count": null,
   "id": "7d134d8e-abd1-4fb2-9ca8-2d01c0c08ddf",
   "metadata": {},
   "outputs": [],
   "source": [
    "df.head()"
   ]
  },
  {
   "cell_type": "code",
   "execution_count": 36,
   "id": "2511fd4b-7fcd-490c-a1c1-bead3f4403cb",
   "metadata": {},
   "outputs": [],
   "source": [
    "def rename_path(x):\n",
    "    return os.path.join(subset[0], class_[0], salients[0], folders[0], x)"
   ]
  },
  {
   "cell_type": "code",
   "execution_count": 37,
   "id": "243a0594-80e1-4adb-b4de-9abeca4e44dc",
   "metadata": {},
   "outputs": [],
   "source": [
    "df['scorer'] = df['scorer'].apply(rename_path)"
   ]
  },
  {
   "cell_type": "code",
   "execution_count": 38,
   "id": "9478a367-5eda-45e3-97ca-654b1b941346",
   "metadata": {},
   "outputs": [],
   "source": [
    "# Define the new column data (e.g., all values set to 0 or some default value)\n",
    "new_column_data = [class_[0]] * len(df)  # Replace with your actual data\n",
    "\n",
    "# Insert the new column after the first column (index 1)\n",
    "df.insert(1, 'class', new_column_data)"
   ]
  },
  {
   "cell_type": "code",
   "execution_count": null,
   "id": "e5eeac3b-d50b-43b8-b6cc-37b9b2e0afd5",
   "metadata": {},
   "outputs": [],
   "source": [
    "df.head()"
   ]
  },
  {
   "cell_type": "code",
   "execution_count": 40,
   "id": "af106b21-4f35-4d8b-8e32-a6c761294639",
   "metadata": {},
   "outputs": [],
   "source": [
    "if final_df is None:\n",
    "    final_df = df\n",
    "else: \n",
    "    # Concatenate DataFrames vertically (default behavior)\n",
    "    final_df = pd.concat([final_df, df], ignore_index=True)"
   ]
  },
  {
   "cell_type": "code",
   "execution_count": null,
   "id": "5ac1f835-c7d4-4766-af7e-462b095ec2f5",
   "metadata": {},
   "outputs": [],
   "source": [
    "final_df"
   ]
  },
  {
   "cell_type": "markdown",
   "id": "694c2025-c18e-4016-8da8-66246a9cc403",
   "metadata": {},
   "source": [
    "## Delete any non jpg files"
   ]
  },
  {
   "cell_type": "code",
   "execution_count": null,
   "id": "4d591025-94e4-420b-8e6c-2bcbb98f5c84",
   "metadata": {},
   "outputs": [],
   "source": [
    "full_folder_path"
   ]
  },
  {
   "cell_type": "code",
   "execution_count": null,
   "id": "15ddbbcd-2aff-46bd-abba-220a7dcb5c41",
   "metadata": {},
   "outputs": [],
   "source": [
    "# List all files in the directory\n",
    "all_files = glob.glob(os.path.join(full_folder_path, '*'))\n",
    "\n",
    "# Filter out files that are not JPG\n",
    "non_jpg_files = [f for f in all_files if not f.lower().endswith('.jpg')]\n",
    "\n",
    "# Delete non-JPG files\n",
    "for file in non_jpg_files:\n",
    "    try:\n",
    "        os.remove(file)\n",
    "        print(f\"Deleted: {file}\")\n",
    "    except Exception as e:\n",
    "        print(f\"Error deleting {file}: {e}\")"
   ]
  },
  {
   "cell_type": "markdown",
   "id": "c86ac58e-0b56-47d2-af4e-715560029e63",
   "metadata": {},
   "source": [
    "## Save the csv file"
   ]
  },
  {
   "cell_type": "code",
   "execution_count": 44,
   "id": "2f6dc509-5a56-46d2-831d-58bc8f72077a",
   "metadata": {},
   "outputs": [],
   "source": [
    "save_dir = 'coords_train.csv'"
   ]
  },
  {
   "cell_type": "code",
   "execution_count": 45,
   "id": "50ddc276-836c-45a4-b11d-6cc2df7ac959",
   "metadata": {},
   "outputs": [],
   "source": [
    "df.to_csv(save_dir, index=False, header=False)"
   ]
  },
  {
   "cell_type": "markdown",
   "id": "91bb1a00-b704-41e2-b442-63a9e03dac9d",
   "metadata": {},
   "source": [
    "## Putting everything together"
   ]
  },
  {
   "cell_type": "code",
   "execution_count": 5,
   "id": "75389666",
   "metadata": {},
   "outputs": [],
   "source": [
    "columns_ = ['distance_0_1_to_distance_10_17',\n",
    " 'distance_0_6_to_distance_14_18',\n",
    " 'distance_0_12_to_distance_1_17',\n",
    " 'distance_0_25_to_distance_2_10',\n",
    " 'distance_1_4_to_distance_2_7',\n",
    " 'distance_1_4_to_distance_4_6',\n",
    " 'distance_1_4_to_distance_7_14',\n",
    " 'distance_1_4_to_distance_12_23',\n",
    " 'distance_1_5_to_distance_1_17',\n",
    " 'distance_1_5_to_distance_10_22',\n",
    " 'distance_1_5_to_distance_12_26',\n",
    " 'distance_1_6_to_distance_8_13',\n",
    " 'distance_1_8_to_distance_4_8',\n",
    " 'distance_1_12_to_distance_3_26',\n",
    " 'distance_1_18_to_distance_5_18',\n",
    " 'distance_1_21_to_distance_7_15',\n",
    " 'distance_1_22_to_distance_7_20',\n",
    " 'distance_2_4_to_distance_2_11',\n",
    " 'distance_2_5_to_distance_3_8',\n",
    " 'distance_2_5_to_distance_11_12',\n",
    " 'distance_2_7_to_distance_5_7',\n",
    " 'distance_2_10_to_distance_9_10',\n",
    " 'distance_2_17_to_distance_7_12',\n",
    " 'distance_3_4_to_distance_6_18',\n",
    " 'distance_3_4_to_distance_19_22',\n",
    " 'distance_3_6_to_distance_7_26',\n",
    " 'distance_3_6_to_distance_10_19',\n",
    " 'distance_3_8_to_distance_4_8',\n",
    " 'distance_3_19_to_distance_6_13',\n",
    " 'distance_3_20_to_distance_14_21',\n",
    " 'distance_3_23_to_distance_14_24',\n",
    " 'distance_3_25_to_distance_5_10',\n",
    " 'distance_3_25_to_distance_18_22',\n",
    " 'distance_4_11_to_distance_6_11',\n",
    " 'distance_4_12_to_distance_16_19',\n",
    " 'distance_4_13_to_distance_13_19',\n",
    " 'distance_5_7_to_distance_5_17',\n",
    " 'distance_5_7_to_distance_6_18',\n",
    " 'distance_5_7_to_distance_16_18',\n",
    " 'distance_6_7_to_distance_12_17',\n",
    " 'distance_6_9_to_distance_9_23',\n",
    " 'distance_7_22_to_distance_8_10',\n",
    " 'distance_7_23_to_distance_14_26',\n",
    " 'distance_8_12_to_distance_22_25',\n",
    " 'distance_8_22_to_distance_14_24',\n",
    " 'distance_9_13_to_distance_12_13',\n",
    " 'distance_9_18_to_distance_23_25',\n",
    " 'distance_9_21_to_distance_19_23',\n",
    " 'distance_10_15_to_distance_10_23',\n",
    " 'distance_11_13_to_distance_19_24',\n",
    " 'distance_17_23_to_distance_21_24']"
   ]
  },
  {
   "cell_type": "code",
   "execution_count": 6,
   "id": "091f8c25-b348-414b-87ed-da9b51117b47",
   "metadata": {},
   "outputs": [],
   "source": [
    "def process_folder(full_folder_path, subset, class_type, salient, folder):\n",
    "    def rename_path(x):\n",
    "        \"\"\"Helper function for creating path for video for PoseRAC\"\"\"\n",
    "        return os.path.join(subset, class_type, salient, folder, x)\n",
    "\n",
    "    # Extract landmarks using deeplabcut\n",
    "    deeplabcut.analyze_time_lapse_frames(path_config_file, full_folder_path, frametype='.jpg', save_as_csv=True)\n",
    "\n",
    "    # Read csv file and process it\n",
    "    csv_file = glob.glob(os.path.join(full_folder_path, '*.csv'))[0]\n",
    "    df = pd.read_csv(csv_file)\n",
    "    \n",
    "    # # Add 9 empty columns\n",
    "    # for i in range(18):\n",
    "    #     df[f'empty_col_{i+1}'] = 0\n",
    "    \n",
    "    # Dropping the first two rows\n",
    "    df = df.drop([0, 1]).reset_index(drop=True)\n",
    "\n",
    "    \"\"\"\n",
    "    OPTIONAL: Calculate the ratios.\n",
    "    \"\"\"\n",
    "    # Extract the x and y coordinates\n",
    "    poses_x = df.iloc[:, ::3].astype(float)\n",
    "    poses_y = df.iloc[:, 1::3].astype(float)\n",
    "\n",
    "    # Function to calculate Euclidean distance\n",
    "    def euclidean_distance(x1, y1, x2, y2):\n",
    "        return np.sqrt((x2 - x1)**2 + (y2 - y1)**2)\n",
    "\n",
    "    # Function to calculate the distance ratio\n",
    "    def calculate_ratio(df, idx1, idx2, idx3, idx4):\n",
    "        dist1 = euclidean_distance(poses_x.iloc[:, idx1], poses_y.iloc[:, idx1], poses_x.iloc[:, idx2], poses_y.iloc[:, idx2])\n",
    "        dist2 = euclidean_distance(poses_x.iloc[:, idx3], poses_y.iloc[:, idx3], poses_x.iloc[:, idx4], poses_y.iloc[:, idx4])\n",
    "\n",
    "        # Calculate the ratio and handle division by zero\n",
    "        try:\n",
    "            ratio = dist1 / dist2\n",
    "        except ZeroDivisionError:\n",
    "            ratio = 0\n",
    "\n",
    "        return ratio\n",
    "\n",
    "    # List to store the ratio columns\n",
    "    ratio_df = pd.DataFrame()\n",
    "\n",
    "    # Calculate the ratios\n",
    "    for col in columns_:\n",
    "        # Extract pose indices from the column name\n",
    "        parts = col.split('_to_')\n",
    "        pose_1 = parts[0].split('_')[1:]\n",
    "        pose_2 = parts[1].split('_')[1:]\n",
    "\n",
    "        # Calculate the ratio\n",
    "        ratio_df[col] = calculate_ratio(df, int(pose_1[0]), int(pose_1[1]), int(pose_2[0]), int(pose_2[1]))\n",
    "        \n",
    "    df = ratio_df\n",
    "    \n",
    "    \"\"\"\n",
    "    END OF OPTIONAL PART\n",
    "    \"\"\"\n",
    "    \n",
    "    # Rename columns\n",
    "    new_columns = []\n",
    "\n",
    "    # Iterate through the columns starting from the second one (first is 'scorer')\n",
    "    for i in range(1, len(df.columns)):\n",
    "        bodypart = df.iloc[0, i]\n",
    "        coord = df.iloc[1, i]\n",
    "        new_columns.append(f\"{bodypart}_{coord}\")\n",
    "\n",
    "    # Insert 'scorer' as the first column name\n",
    "    new_columns.insert(0, 'scorer')\n",
    "\n",
    "    # Rename the columns of the dataframe\n",
    "    df.columns = new_columns\n",
    "\n",
    "    # Rename the path to be relative for PoseRAC\n",
    "    df['scorer'] = df['scorer'].apply(rename_path)\n",
    "    \n",
    "    # Define the new column data (e.g., all values set to 0 or some default value)\n",
    "    new_column_data = [class_type] * len(df)  \n",
    "    \n",
    "    # Insert the new column after the first column (index 1)\n",
    "    df.insert(1, 'class', new_column_data)\n",
    "    \n",
    "    return df"
   ]
  },
  {
   "cell_type": "code",
   "execution_count": 7,
   "id": "b14932bc-42d8-4f40-bde1-e3b066c9eb06",
   "metadata": {},
   "outputs": [],
   "source": [
    "import os\n",
    "\n",
    "# Define the directory\n",
    "extracted_dir = '/home/sadat/Desktop/PoseRAC/CowBytes_pose/extracted'\n",
    "subsets = ['train']\n",
    "classes = ['cow_bite']\n",
    "salients = ['salient1', 'salient2']\n",
    "\n",
    "save_dir = '/home/sadat/Desktop/PoseRAC/CowBytes_pose/annotation_pose'\n",
    "os.makedirs(save_dir, exist_ok=True)\n",
    "\n",
    "# Initialize a list to store folders with .jpg files\n",
    "folders_with_jpg_files = []\n",
    "\n",
    "final_df = None"
   ]
  },
  {
   "cell_type": "code",
   "execution_count": null,
   "id": "30c64f10-3dde-4cbb-98e2-dcb801611a1b",
   "metadata": {
    "scrolled": true
   },
   "outputs": [],
   "source": [
    "for subset in subsets:\n",
    "    for class_type in classes:\n",
    "        for salient in salients:\n",
    "            salient_path = os.path.join(extracted_dir, subset, class_type, salient)\n",
    "            folders = [f for f in os.listdir(salient_path) if os.path.isdir(os.path.join(salient_path, f))]\n",
    "            for folder in folders:\n",
    "                full_folder_path = os.path.join(extracted_dir, subset, class_type, salient, folder)\n",
    "                df = process_folder(full_folder_path, subset, class_type, salient, folder)\n",
    "                \n",
    "                if final_df is None:\n",
    "                    final_df = df\n",
    "                else: \n",
    "                    # Concatenate DataFrames vertically (default behavior)\n",
    "                    final_df = pd.concat([final_df, df], ignore_index=True)\n",
    "\n",
    "                # Delete any temp files\n",
    "                all_files = glob.glob(os.path.join(full_folder_path, '*'))\n",
    "                \n",
    "                # Filter out files that are not JPG\n",
    "                non_jpg_files = [f for f in all_files if not f.lower().endswith('.jpg')]\n",
    "                \n",
    "                # Delete non-JPG files\n",
    "                for file in non_jpg_files:\n",
    "                    try:\n",
    "                        os.remove(file)\n",
    "                        print(f\"Deleted: {file}\")\n",
    "                    except Exception as e:\n",
    "                        print(f\"Error deleting {file}: {e}\")\n",
    "\n",
    "    \n",
    "    final_df.to_csv(os.path.join(save_dir, subset + '.csv'), index=False, header=False)"
   ]
  }
 ],
 "metadata": {
  "kernelspec": {
   "display_name": "deeplabcut",
   "language": "python",
   "name": "deeplabcut"
  },
  "language_info": {
   "codemirror_mode": {
    "name": "ipython",
    "version": 3
   },
   "file_extension": ".py",
   "mimetype": "text/x-python",
   "name": "python",
   "nbconvert_exporter": "python",
   "pygments_lexer": "ipython3",
   "version": "3.8.18"
  }
 },
 "nbformat": 4,
 "nbformat_minor": 5
}
